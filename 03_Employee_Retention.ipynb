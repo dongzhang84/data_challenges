{
 "cells": [
  {
   "cell_type": "markdown",
   "metadata": {},
   "source": [
    "# Employee Retention\n",
    "\n",
    "We got employee data from a few companies. We have data about all employees who joined from 2011/01/24 to 2015/12/13. For each employee, we also know if they are still at the company as of 2015/12/13 or they have quit. Beside that, we have general info about the employee, such as avg salary during her tenure, dept, and yrs of experience.\n",
    "\n",
    "As said above, the goal is to predict employee retention and understand its main drivers. Specifically, you should:\n",
    "\n",
    "\n",
    "* Assume, for each company, that the headcount starts from zero on 2011/01/23. Estimate employee headcount, for each company on each day, from 2011/01/24 to 2015/12/13. That is, if by 2012/03/02 2000 people have joined company 1 and 1000 of them have already quit, then company headcount on 2012/03/02 for company 1 would be 1000. You should create a table with 3 columns: day, employee_headcount, company_id\n",
    "\n",
    "\n",
    "* What are the main factors that drive employee churn? Do they make sense? Explain your findings\n",
    "\n",
    "\n",
    "* If you could add to this data set just one variable that could help explain employee churn, what would that be?\n",
    "\n"
   ]
  },
  {
   "cell_type": "code",
   "execution_count": 72,
   "metadata": {
    "collapsed": true
   },
   "outputs": [],
   "source": [
    "import pandas as pd\n",
    "import numpy as np\n",
    "import matplotlib.pyplot as plt\n",
    "import seaborn as sns"
   ]
  },
  {
   "cell_type": "code",
   "execution_count": 2,
   "metadata": {
    "collapsed": true
   },
   "outputs": [],
   "source": [
    "df = pd.read_csv('employee_retention.csv')"
   ]
  },
  {
   "cell_type": "code",
   "execution_count": 4,
   "metadata": {
    "collapsed": false
   },
   "outputs": [
    {
     "data": {
      "text/html": [
       "<div>\n",
       "<style scoped>\n",
       "    .dataframe tbody tr th:only-of-type {\n",
       "        vertical-align: middle;\n",
       "    }\n",
       "\n",
       "    .dataframe tbody tr th {\n",
       "        vertical-align: top;\n",
       "    }\n",
       "\n",
       "    .dataframe thead th {\n",
       "        text-align: right;\n",
       "    }\n",
       "</style>\n",
       "<table border=\"1\" class=\"dataframe\">\n",
       "  <thead>\n",
       "    <tr style=\"text-align: right;\">\n",
       "      <th></th>\n",
       "      <th>employee_id</th>\n",
       "      <th>company_id</th>\n",
       "      <th>dept</th>\n",
       "      <th>seniority</th>\n",
       "      <th>salary</th>\n",
       "      <th>join_date</th>\n",
       "      <th>quit_date</th>\n",
       "    </tr>\n",
       "  </thead>\n",
       "  <tbody>\n",
       "    <tr>\n",
       "      <th>0</th>\n",
       "      <td>13021.0</td>\n",
       "      <td>7</td>\n",
       "      <td>customer_service</td>\n",
       "      <td>28</td>\n",
       "      <td>89000.0</td>\n",
       "      <td>2014-03-24</td>\n",
       "      <td>2015-10-30</td>\n",
       "    </tr>\n",
       "    <tr>\n",
       "      <th>1</th>\n",
       "      <td>825355.0</td>\n",
       "      <td>7</td>\n",
       "      <td>marketing</td>\n",
       "      <td>20</td>\n",
       "      <td>183000.0</td>\n",
       "      <td>2013-04-29</td>\n",
       "      <td>2014-04-04</td>\n",
       "    </tr>\n",
       "    <tr>\n",
       "      <th>2</th>\n",
       "      <td>927315.0</td>\n",
       "      <td>4</td>\n",
       "      <td>marketing</td>\n",
       "      <td>14</td>\n",
       "      <td>101000.0</td>\n",
       "      <td>2014-10-13</td>\n",
       "      <td>NaN</td>\n",
       "    </tr>\n",
       "    <tr>\n",
       "      <th>3</th>\n",
       "      <td>662910.0</td>\n",
       "      <td>7</td>\n",
       "      <td>customer_service</td>\n",
       "      <td>20</td>\n",
       "      <td>115000.0</td>\n",
       "      <td>2012-05-14</td>\n",
       "      <td>2013-06-07</td>\n",
       "    </tr>\n",
       "    <tr>\n",
       "      <th>4</th>\n",
       "      <td>256971.0</td>\n",
       "      <td>2</td>\n",
       "      <td>data_science</td>\n",
       "      <td>23</td>\n",
       "      <td>276000.0</td>\n",
       "      <td>2011-10-17</td>\n",
       "      <td>2014-08-22</td>\n",
       "    </tr>\n",
       "    <tr>\n",
       "      <th>5</th>\n",
       "      <td>509529.0</td>\n",
       "      <td>4</td>\n",
       "      <td>data_science</td>\n",
       "      <td>14</td>\n",
       "      <td>165000.0</td>\n",
       "      <td>2012-01-30</td>\n",
       "      <td>2013-08-30</td>\n",
       "    </tr>\n",
       "    <tr>\n",
       "      <th>6</th>\n",
       "      <td>88600.0</td>\n",
       "      <td>4</td>\n",
       "      <td>customer_service</td>\n",
       "      <td>21</td>\n",
       "      <td>107000.0</td>\n",
       "      <td>2013-10-21</td>\n",
       "      <td>NaN</td>\n",
       "    </tr>\n",
       "    <tr>\n",
       "      <th>7</th>\n",
       "      <td>716309.0</td>\n",
       "      <td>2</td>\n",
       "      <td>customer_service</td>\n",
       "      <td>4</td>\n",
       "      <td>30000.0</td>\n",
       "      <td>2014-03-05</td>\n",
       "      <td>NaN</td>\n",
       "    </tr>\n",
       "    <tr>\n",
       "      <th>8</th>\n",
       "      <td>172999.0</td>\n",
       "      <td>9</td>\n",
       "      <td>engineer</td>\n",
       "      <td>7</td>\n",
       "      <td>160000.0</td>\n",
       "      <td>2012-12-10</td>\n",
       "      <td>2015-10-23</td>\n",
       "    </tr>\n",
       "    <tr>\n",
       "      <th>9</th>\n",
       "      <td>504159.0</td>\n",
       "      <td>1</td>\n",
       "      <td>sales</td>\n",
       "      <td>7</td>\n",
       "      <td>104000.0</td>\n",
       "      <td>2012-06-12</td>\n",
       "      <td>NaN</td>\n",
       "    </tr>\n",
       "  </tbody>\n",
       "</table>\n",
       "</div>"
      ],
      "text/plain": [
       "   employee_id  company_id              dept  seniority    salary   join_date  \\\n",
       "0      13021.0           7  customer_service         28   89000.0  2014-03-24   \n",
       "1     825355.0           7         marketing         20  183000.0  2013-04-29   \n",
       "2     927315.0           4         marketing         14  101000.0  2014-10-13   \n",
       "3     662910.0           7  customer_service         20  115000.0  2012-05-14   \n",
       "4     256971.0           2      data_science         23  276000.0  2011-10-17   \n",
       "5     509529.0           4      data_science         14  165000.0  2012-01-30   \n",
       "6      88600.0           4  customer_service         21  107000.0  2013-10-21   \n",
       "7     716309.0           2  customer_service          4   30000.0  2014-03-05   \n",
       "8     172999.0           9          engineer          7  160000.0  2012-12-10   \n",
       "9     504159.0           1             sales          7  104000.0  2012-06-12   \n",
       "\n",
       "    quit_date  \n",
       "0  2015-10-30  \n",
       "1  2014-04-04  \n",
       "2         NaN  \n",
       "3  2013-06-07  \n",
       "4  2014-08-22  \n",
       "5  2013-08-30  \n",
       "6         NaN  \n",
       "7         NaN  \n",
       "8  2015-10-23  \n",
       "9         NaN  "
      ]
     },
     "execution_count": 4,
     "metadata": {},
     "output_type": "execute_result"
    }
   ],
   "source": [
    "df.head(10)"
   ]
  },
  {
   "cell_type": "markdown",
   "metadata": {},
   "source": [
    "- employee_id : id of the employee. Unique by employee per company\n",
    "\n",
    "- company_id : company id. It is unique by company\n",
    "\n",
    "- dept : employee dept\n",
    "\n",
    "- seniority : number of yrs of work experience when hired\n",
    "\n",
    "- salary: avg yearly salary of the employee during her tenure within the company\n",
    "\n",
    "- join_date: when the employee joined the company, it can only be between 2011/01/24 and 2015/12/13\n",
    "\n",
    "- quit_date: when the employee left her job (if she is still employed as of 2015/12/13, this field is NA)"
   ]
  },
  {
   "cell_type": "code",
   "execution_count": 6,
   "metadata": {
    "collapsed": true
   },
   "outputs": [],
   "source": [
    "df.join_date = pd.to_datetime(df.join_date)\n",
    "df.quit_date = pd.to_datetime(df.quit_date)"
   ]
  },
  {
   "cell_type": "code",
   "execution_count": 95,
   "metadata": {
    "collapsed": false
   },
   "outputs": [],
   "source": [
    "df['duration'] = (df.quit_date - df.join_date).astype('timedelta64[D]')"
   ]
  },
  {
   "cell_type": "code",
   "execution_count": 11,
   "metadata": {
    "collapsed": false
   },
   "outputs": [
    {
     "data": {
      "text/html": [
       "<div>\n",
       "<style scoped>\n",
       "    .dataframe tbody tr th:only-of-type {\n",
       "        vertical-align: middle;\n",
       "    }\n",
       "\n",
       "    .dataframe tbody tr th {\n",
       "        vertical-align: top;\n",
       "    }\n",
       "\n",
       "    .dataframe thead th {\n",
       "        text-align: right;\n",
       "    }\n",
       "</style>\n",
       "<table border=\"1\" class=\"dataframe\">\n",
       "  <thead>\n",
       "    <tr style=\"text-align: right;\">\n",
       "      <th></th>\n",
       "      <th>employee_id</th>\n",
       "      <th>company_id</th>\n",
       "      <th>seniority</th>\n",
       "      <th>salary</th>\n",
       "    </tr>\n",
       "  </thead>\n",
       "  <tbody>\n",
       "    <tr>\n",
       "      <th>count</th>\n",
       "      <td>24702.000000</td>\n",
       "      <td>24702.000000</td>\n",
       "      <td>24702.000000</td>\n",
       "      <td>24702.000000</td>\n",
       "    </tr>\n",
       "    <tr>\n",
       "      <th>mean</th>\n",
       "      <td>501604.403530</td>\n",
       "      <td>3.426969</td>\n",
       "      <td>14.127803</td>\n",
       "      <td>138183.345478</td>\n",
       "    </tr>\n",
       "    <tr>\n",
       "      <th>std</th>\n",
       "      <td>288909.026101</td>\n",
       "      <td>2.700011</td>\n",
       "      <td>8.089520</td>\n",
       "      <td>76058.184573</td>\n",
       "    </tr>\n",
       "    <tr>\n",
       "      <th>min</th>\n",
       "      <td>36.000000</td>\n",
       "      <td>1.000000</td>\n",
       "      <td>1.000000</td>\n",
       "      <td>17000.000000</td>\n",
       "    </tr>\n",
       "    <tr>\n",
       "      <th>25%</th>\n",
       "      <td>250133.750000</td>\n",
       "      <td>1.000000</td>\n",
       "      <td>7.000000</td>\n",
       "      <td>79000.000000</td>\n",
       "    </tr>\n",
       "    <tr>\n",
       "      <th>50%</th>\n",
       "      <td>500793.000000</td>\n",
       "      <td>2.000000</td>\n",
       "      <td>14.000000</td>\n",
       "      <td>123000.000000</td>\n",
       "    </tr>\n",
       "    <tr>\n",
       "      <th>75%</th>\n",
       "      <td>753137.250000</td>\n",
       "      <td>5.000000</td>\n",
       "      <td>21.000000</td>\n",
       "      <td>187000.000000</td>\n",
       "    </tr>\n",
       "    <tr>\n",
       "      <th>max</th>\n",
       "      <td>999969.000000</td>\n",
       "      <td>12.000000</td>\n",
       "      <td>99.000000</td>\n",
       "      <td>408000.000000</td>\n",
       "    </tr>\n",
       "  </tbody>\n",
       "</table>\n",
       "</div>"
      ],
      "text/plain": [
       "         employee_id    company_id     seniority         salary\n",
       "count   24702.000000  24702.000000  24702.000000   24702.000000\n",
       "mean   501604.403530      3.426969     14.127803  138183.345478\n",
       "std    288909.026101      2.700011      8.089520   76058.184573\n",
       "min        36.000000      1.000000      1.000000   17000.000000\n",
       "25%    250133.750000      1.000000      7.000000   79000.000000\n",
       "50%    500793.000000      2.000000     14.000000  123000.000000\n",
       "75%    753137.250000      5.000000     21.000000  187000.000000\n",
       "max    999969.000000     12.000000     99.000000  408000.000000"
      ]
     },
     "execution_count": 11,
     "metadata": {},
     "output_type": "execute_result"
    }
   ],
   "source": [
    "df.describe()"
   ]
  },
  {
   "cell_type": "code",
   "execution_count": 12,
   "metadata": {
    "collapsed": false
   },
   "outputs": [
    {
     "data": {
      "text/plain": [
       "employee_id        0\n",
       "company_id         0\n",
       "dept               0\n",
       "seniority          0\n",
       "salary             0\n",
       "join_date          0\n",
       "quit_date      11192\n",
       "dtype: int64"
      ]
     },
     "execution_count": 12,
     "metadata": {},
     "output_type": "execute_result"
    }
   ],
   "source": [
    "df.isnull().sum()"
   ]
  },
  {
   "cell_type": "code",
   "execution_count": 41,
   "metadata": {
    "collapsed": false
   },
   "outputs": [
    {
     "data": {
      "text/plain": [
       "DatetimeIndex(['2011-01-24', '2011-01-25', '2011-01-26', '2011-01-27',\n",
       "               '2011-01-28', '2011-01-29', '2011-01-30', '2011-01-31',\n",
       "               '2011-02-01', '2011-02-02',\n",
       "               ...\n",
       "               '2015-12-04', '2015-12-05', '2015-12-06', '2015-12-07',\n",
       "               '2015-12-08', '2015-12-09', '2015-12-10', '2015-12-11',\n",
       "               '2015-12-12', '2015-12-13'],\n",
       "              dtype='datetime64[ns]', length=1785, freq='D')"
      ]
     },
     "execution_count": 41,
     "metadata": {},
     "output_type": "execute_result"
    }
   ],
   "source": [
    "unique_dates = pd.date_range(start='2011/01/24', end='2015/12/13')\n",
    "unique_dates"
   ]
  },
  {
   "cell_type": "code",
   "execution_count": 42,
   "metadata": {
    "collapsed": false
   },
   "outputs": [
    {
     "data": {
      "text/plain": [
       "[1, 2, 3, 4, 5, 6, 7, 8, 9, 10, 11, 12]"
      ]
     },
     "execution_count": 42,
     "metadata": {},
     "output_type": "execute_result"
    }
   ],
   "source": [
    "unique_company = sorted(df.company_id.unique())\n",
    "unique_company"
   ]
  },
  {
   "cell_type": "code",
   "execution_count": 57,
   "metadata": {
    "collapsed": false
   },
   "outputs": [],
   "source": [
    "day = []\n",
    "company = []\n",
    "headcount = []\n",
    "\n",
    "for date in unique_dates:\n",
    "    for i in unique_company:\n",
    "        #print(date,i)\n",
    "        temp_join = df[(df.join_date<=date) & (df.company_id == i)]\n",
    "        temp_left = df[(df.quit_date<=date) & (df.company_id == i)]\n",
    "        \n",
    "        day.append(date)\n",
    "        company.append(i)\n",
    "        headcount.append(len(temp_join)-len(temp_left))"
   ]
  },
  {
   "cell_type": "code",
   "execution_count": 58,
   "metadata": {
    "collapsed": false
   },
   "outputs": [],
   "source": [
    "df_headcount = pd.DataFrame({\n",
    "        'date': day,\n",
    "        'company_id':company,\n",
    "        'employee_headcount': headcount\n",
    "    })"
   ]
  },
  {
   "cell_type": "code",
   "execution_count": 60,
   "metadata": {
    "collapsed": false
   },
   "outputs": [
    {
     "data": {
      "text/html": [
       "<div>\n",
       "<style scoped>\n",
       "    .dataframe tbody tr th:only-of-type {\n",
       "        vertical-align: middle;\n",
       "    }\n",
       "\n",
       "    .dataframe tbody tr th {\n",
       "        vertical-align: top;\n",
       "    }\n",
       "\n",
       "    .dataframe thead th {\n",
       "        text-align: right;\n",
       "    }\n",
       "</style>\n",
       "<table border=\"1\" class=\"dataframe\">\n",
       "  <thead>\n",
       "    <tr style=\"text-align: right;\">\n",
       "      <th></th>\n",
       "      <th>date</th>\n",
       "      <th>company_id</th>\n",
       "      <th>employee_headcount</th>\n",
       "    </tr>\n",
       "  </thead>\n",
       "  <tbody>\n",
       "    <tr>\n",
       "      <th>0</th>\n",
       "      <td>2011-01-24</td>\n",
       "      <td>1</td>\n",
       "      <td>25</td>\n",
       "    </tr>\n",
       "    <tr>\n",
       "      <th>1</th>\n",
       "      <td>2011-01-24</td>\n",
       "      <td>2</td>\n",
       "      <td>17</td>\n",
       "    </tr>\n",
       "    <tr>\n",
       "      <th>2</th>\n",
       "      <td>2011-01-24</td>\n",
       "      <td>3</td>\n",
       "      <td>9</td>\n",
       "    </tr>\n",
       "    <tr>\n",
       "      <th>3</th>\n",
       "      <td>2011-01-24</td>\n",
       "      <td>4</td>\n",
       "      <td>12</td>\n",
       "    </tr>\n",
       "    <tr>\n",
       "      <th>4</th>\n",
       "      <td>2011-01-24</td>\n",
       "      <td>5</td>\n",
       "      <td>5</td>\n",
       "    </tr>\n",
       "    <tr>\n",
       "      <th>5</th>\n",
       "      <td>2011-01-24</td>\n",
       "      <td>6</td>\n",
       "      <td>3</td>\n",
       "    </tr>\n",
       "    <tr>\n",
       "      <th>6</th>\n",
       "      <td>2011-01-24</td>\n",
       "      <td>7</td>\n",
       "      <td>1</td>\n",
       "    </tr>\n",
       "    <tr>\n",
       "      <th>7</th>\n",
       "      <td>2011-01-24</td>\n",
       "      <td>8</td>\n",
       "      <td>6</td>\n",
       "    </tr>\n",
       "    <tr>\n",
       "      <th>8</th>\n",
       "      <td>2011-01-24</td>\n",
       "      <td>9</td>\n",
       "      <td>3</td>\n",
       "    </tr>\n",
       "    <tr>\n",
       "      <th>9</th>\n",
       "      <td>2011-01-24</td>\n",
       "      <td>10</td>\n",
       "      <td>0</td>\n",
       "    </tr>\n",
       "  </tbody>\n",
       "</table>\n",
       "</div>"
      ],
      "text/plain": [
       "        date  company_id  employee_headcount\n",
       "0 2011-01-24           1                  25\n",
       "1 2011-01-24           2                  17\n",
       "2 2011-01-24           3                   9\n",
       "3 2011-01-24           4                  12\n",
       "4 2011-01-24           5                   5\n",
       "5 2011-01-24           6                   3\n",
       "6 2011-01-24           7                   1\n",
       "7 2011-01-24           8                   6\n",
       "8 2011-01-24           9                   3\n",
       "9 2011-01-24          10                   0"
      ]
     },
     "execution_count": 60,
     "metadata": {},
     "output_type": "execute_result"
    }
   ],
   "source": [
    "df_headcount.head(10)"
   ]
  },
  {
   "cell_type": "code",
   "execution_count": 80,
   "metadata": {
    "collapsed": false
   },
   "outputs": [
    {
     "data": {
      "image/png": "[encoded data removed]",
      "text/plain": [
       "<Figure size 864x576 with 1 Axes>"
      ]
     },
     "metadata": {
      "needs_background": "light"
     },
     "output_type": "display_data"
    }
   ],
   "source": [
    "#plt.hist(df.duration.dropna(), bins=100)\n",
    "#plt.show()\n",
    "\n",
    "\n",
    "fig, ax = plt.subplots(figsize=(12, 8))\n",
    "sns.distplot(df.duration.dropna(), bins=100, kde=False, ax=ax)\n",
    "ax.set_xlabel('Employed Duration', fontsize=12)\n",
    "ax.set_ylabel('Distribution', fontsize=12)\n",
    "plt.show()"
   ]
  },
  {
   "cell_type": "code",
   "execution_count": 83,
   "metadata": {
    "collapsed": true
   },
   "outputs": [],
   "source": [
    "df['quit_month'] = df.quit_date.dt.month\n",
    "df['quit_week'] = df.quit_date.dt.week"
   ]
  },
  {
   "cell_type": "code",
   "execution_count": 91,
   "metadata": {
    "collapsed": false
   },
   "outputs": [
    {
     "data": {
      "text/plain": [
       "Text(0, 0.5, 'Distribution')"
      ]
     },
     "execution_count": 91,
     "metadata": {},
     "output_type": "execute_result"
    },
    {
     "data": {
      "image/png": "[encoded data removed]",
      "text/plain": [
       "<Figure size 864x432 with 1 Axes>"
      ]
     },
     "metadata": {
      "needs_background": "light"
     },
     "output_type": "display_data"
    }
   ],
   "source": [
    "fig, ax = plt.subplots(figsize=(12, 6))\n",
    "sns.countplot(df.quit_month,ax = ax)\n",
    "ax.set_xlabel('Quit Month', fontsize=12)\n",
    "ax.set_ylabel('Distribution', fontsize=12)"
   ]
  },
  {
   "cell_type": "code",
   "execution_count": 92,
   "metadata": {
    "collapsed": false
   },
   "outputs": [
    {
     "data": {
      "text/plain": [
       "Text(0, 0.5, 'Distribution')"
      ]
     },
     "execution_count": 92,
     "metadata": {},
     "output_type": "execute_result"
    },
    {
     "data": {
      "image/png": "[encoded data removed]",
      "text/plain": [
       "<Figure size 864x432 with 1 Axes>"
      ]
     },
     "metadata": {
      "needs_background": "light"
     },
     "output_type": "display_data"
    }
   ],
   "source": [
    "fig, ax = plt.subplots(figsize=(12, 6))\n",
    "sns.countplot(df.quit_week,ax = ax)\n",
    "ax.set_xlabel('Quit Week', fontsize=12)\n",
    "ax.set_ylabel('Distribution', fontsize=12)"
   ]
  },
  {
   "cell_type": "code",
   "execution_count": 96,
   "metadata": {
    "collapsed": false
   },
   "outputs": [
    {
     "data": {
      "text/html": [
       "<div>\n",
       "<style scoped>\n",
       "    .dataframe tbody tr th:only-of-type {\n",
       "        vertical-align: middle;\n",
       "    }\n",
       "\n",
       "    .dataframe tbody tr th {\n",
       "        vertical-align: top;\n",
       "    }\n",
       "\n",
       "    .dataframe thead th {\n",
       "        text-align: right;\n",
       "    }\n",
       "</style>\n",
       "<table border=\"1\" class=\"dataframe\">\n",
       "  <thead>\n",
       "    <tr style=\"text-align: right;\">\n",
       "      <th></th>\n",
       "      <th>employee_id</th>\n",
       "      <th>company_id</th>\n",
       "      <th>dept</th>\n",
       "      <th>seniority</th>\n",
       "      <th>salary</th>\n",
       "      <th>join_date</th>\n",
       "      <th>quit_date</th>\n",
       "      <th>qui_month</th>\n",
       "      <th>quit_month</th>\n",
       "      <th>quit_week</th>\n",
       "      <th>duration</th>\n",
       "    </tr>\n",
       "  </thead>\n",
       "  <tbody>\n",
       "    <tr>\n",
       "      <th>0</th>\n",
       "      <td>13021.0</td>\n",
       "      <td>7</td>\n",
       "      <td>customer_service</td>\n",
       "      <td>28</td>\n",
       "      <td>89000.0</td>\n",
       "      <td>2014-03-24</td>\n",
       "      <td>2015-10-30</td>\n",
       "      <td>10.0</td>\n",
       "      <td>10.0</td>\n",
       "      <td>44.0</td>\n",
       "      <td>585.0</td>\n",
       "    </tr>\n",
       "    <tr>\n",
       "      <th>1</th>\n",
       "      <td>825355.0</td>\n",
       "      <td>7</td>\n",
       "      <td>marketing</td>\n",
       "      <td>20</td>\n",
       "      <td>183000.0</td>\n",
       "      <td>2013-04-29</td>\n",
       "      <td>2014-04-04</td>\n",
       "      <td>4.0</td>\n",
       "      <td>4.0</td>\n",
       "      <td>14.0</td>\n",
       "      <td>340.0</td>\n",
       "    </tr>\n",
       "    <tr>\n",
       "      <th>2</th>\n",
       "      <td>927315.0</td>\n",
       "      <td>4</td>\n",
       "      <td>marketing</td>\n",
       "      <td>14</td>\n",
       "      <td>101000.0</td>\n",
       "      <td>2014-10-13</td>\n",
       "      <td>NaT</td>\n",
       "      <td>NaN</td>\n",
       "      <td>NaN</td>\n",
       "      <td>NaN</td>\n",
       "      <td>NaN</td>\n",
       "    </tr>\n",
       "    <tr>\n",
       "      <th>3</th>\n",
       "      <td>662910.0</td>\n",
       "      <td>7</td>\n",
       "      <td>customer_service</td>\n",
       "      <td>20</td>\n",
       "      <td>115000.0</td>\n",
       "      <td>2012-05-14</td>\n",
       "      <td>2013-06-07</td>\n",
       "      <td>6.0</td>\n",
       "      <td>6.0</td>\n",
       "      <td>23.0</td>\n",
       "      <td>389.0</td>\n",
       "    </tr>\n",
       "    <tr>\n",
       "      <th>4</th>\n",
       "      <td>256971.0</td>\n",
       "      <td>2</td>\n",
       "      <td>data_science</td>\n",
       "      <td>23</td>\n",
       "      <td>276000.0</td>\n",
       "      <td>2011-10-17</td>\n",
       "      <td>2014-08-22</td>\n",
       "      <td>8.0</td>\n",
       "      <td>8.0</td>\n",
       "      <td>34.0</td>\n",
       "      <td>1040.0</td>\n",
       "    </tr>\n",
       "  </tbody>\n",
       "</table>\n",
       "</div>"
      ],
      "text/plain": [
       "   employee_id  company_id              dept  seniority    salary  join_date  \\\n",
       "0      13021.0           7  customer_service         28   89000.0 2014-03-24   \n",
       "1     825355.0           7         marketing         20  183000.0 2013-04-29   \n",
       "2     927315.0           4         marketing         14  101000.0 2014-10-13   \n",
       "3     662910.0           7  customer_service         20  115000.0 2012-05-14   \n",
       "4     256971.0           2      data_science         23  276000.0 2011-10-17   \n",
       "\n",
       "   quit_date  qui_month  quit_month  quit_week  duration  \n",
       "0 2015-10-30       10.0        10.0       44.0     585.0  \n",
       "1 2014-04-04        4.0         4.0       14.0     340.0  \n",
       "2        NaT        NaN         NaN        NaN       NaN  \n",
       "3 2013-06-07        6.0         6.0       23.0     389.0  \n",
       "4 2014-08-22        8.0         8.0       34.0    1040.0  "
      ]
     },
     "execution_count": 96,
     "metadata": {},
     "output_type": "execute_result"
    }
   ],
   "source": [
    "df.head()"
   ]
  },
  {
   "cell_type": "code",
   "execution_count": 101,
   "metadata": {
    "collapsed": false
   },
   "outputs": [
    {
     "name": "stderr",
     "output_type": "stream",
     "text": [
      "/Library/Frameworks/Python.framework/Versions/3.7/lib/python3.7/site-packages/ipykernel_launcher.py:2: SettingWithCopyWarning: \n",
      "A value is trying to be set on a copy of a slice from a DataFrame\n",
      "\n",
      "See the caveats in the documentation: http://pandas.pydata.org/pandas-docs/stable/indexing.html#indexing-view-versus-copy\n",
      "  \n"
     ]
    }
   ],
   "source": [
    "df['quit_class'] = 0\n",
    "df['quit_class'][df.duration <= 365] =1"
   ]
  },
  {
   "cell_type": "code",
   "execution_count": 103,
   "metadata": {
    "collapsed": false
   },
   "outputs": [
    {
     "data": {
      "text/html": [
       "<div>\n",
       "<style scoped>\n",
       "    .dataframe tbody tr th:only-of-type {\n",
       "        vertical-align: middle;\n",
       "    }\n",
       "\n",
       "    .dataframe tbody tr th {\n",
       "        vertical-align: top;\n",
       "    }\n",
       "\n",
       "    .dataframe thead th {\n",
       "        text-align: right;\n",
       "    }\n",
       "</style>\n",
       "<table border=\"1\" class=\"dataframe\">\n",
       "  <thead>\n",
       "    <tr style=\"text-align: right;\">\n",
       "      <th></th>\n",
       "      <th>employee_id</th>\n",
       "      <th>company_id</th>\n",
       "      <th>dept</th>\n",
       "      <th>seniority</th>\n",
       "      <th>salary</th>\n",
       "      <th>join_date</th>\n",
       "      <th>quit_date</th>\n",
       "      <th>qui_month</th>\n",
       "      <th>quit_month</th>\n",
       "      <th>quit_week</th>\n",
       "      <th>duration</th>\n",
       "      <th>quit_class</th>\n",
       "    </tr>\n",
       "  </thead>\n",
       "  <tbody>\n",
       "    <tr>\n",
       "      <th>0</th>\n",
       "      <td>13021.0</td>\n",
       "      <td>7</td>\n",
       "      <td>customer_service</td>\n",
       "      <td>28</td>\n",
       "      <td>89000.0</td>\n",
       "      <td>2014-03-24</td>\n",
       "      <td>2015-10-30</td>\n",
       "      <td>10.0</td>\n",
       "      <td>10.0</td>\n",
       "      <td>44.0</td>\n",
       "      <td>585.0</td>\n",
       "      <td>0</td>\n",
       "    </tr>\n",
       "    <tr>\n",
       "      <th>1</th>\n",
       "      <td>825355.0</td>\n",
       "      <td>7</td>\n",
       "      <td>marketing</td>\n",
       "      <td>20</td>\n",
       "      <td>183000.0</td>\n",
       "      <td>2013-04-29</td>\n",
       "      <td>2014-04-04</td>\n",
       "      <td>4.0</td>\n",
       "      <td>4.0</td>\n",
       "      <td>14.0</td>\n",
       "      <td>340.0</td>\n",
       "      <td>1</td>\n",
       "    </tr>\n",
       "    <tr>\n",
       "      <th>2</th>\n",
       "      <td>927315.0</td>\n",
       "      <td>4</td>\n",
       "      <td>marketing</td>\n",
       "      <td>14</td>\n",
       "      <td>101000.0</td>\n",
       "      <td>2014-10-13</td>\n",
       "      <td>NaT</td>\n",
       "      <td>NaN</td>\n",
       "      <td>NaN</td>\n",
       "      <td>NaN</td>\n",
       "      <td>NaN</td>\n",
       "      <td>0</td>\n",
       "    </tr>\n",
       "    <tr>\n",
       "      <th>3</th>\n",
       "      <td>662910.0</td>\n",
       "      <td>7</td>\n",
       "      <td>customer_service</td>\n",
       "      <td>20</td>\n",
       "      <td>115000.0</td>\n",
       "      <td>2012-05-14</td>\n",
       "      <td>2013-06-07</td>\n",
       "      <td>6.0</td>\n",
       "      <td>6.0</td>\n",
       "      <td>23.0</td>\n",
       "      <td>389.0</td>\n",
       "      <td>0</td>\n",
       "    </tr>\n",
       "    <tr>\n",
       "      <th>4</th>\n",
       "      <td>256971.0</td>\n",
       "      <td>2</td>\n",
       "      <td>data_science</td>\n",
       "      <td>23</td>\n",
       "      <td>276000.0</td>\n",
       "      <td>2011-10-17</td>\n",
       "      <td>2014-08-22</td>\n",
       "      <td>8.0</td>\n",
       "      <td>8.0</td>\n",
       "      <td>34.0</td>\n",
       "      <td>1040.0</td>\n",
       "      <td>0</td>\n",
       "    </tr>\n",
       "  </tbody>\n",
       "</table>\n",
       "</div>"
      ],
      "text/plain": [
       "   employee_id  company_id              dept  seniority    salary  join_date  \\\n",
       "0      13021.0           7  customer_service         28   89000.0 2014-03-24   \n",
       "1     825355.0           7         marketing         20  183000.0 2013-04-29   \n",
       "2     927315.0           4         marketing         14  101000.0 2014-10-13   \n",
       "3     662910.0           7  customer_service         20  115000.0 2012-05-14   \n",
       "4     256971.0           2      data_science         23  276000.0 2011-10-17   \n",
       "\n",
       "   quit_date  qui_month  quit_month  quit_week  duration  quit_class  \n",
       "0 2015-10-30       10.0        10.0       44.0     585.0           0  \n",
       "1 2014-04-04        4.0         4.0       14.0     340.0           1  \n",
       "2        NaT        NaN         NaN        NaN       NaN           0  \n",
       "3 2013-06-07        6.0         6.0       23.0     389.0           0  \n",
       "4 2014-08-22        8.0         8.0       34.0    1040.0           0  "
      ]
     },
     "execution_count": 103,
     "metadata": {},
     "output_type": "execute_result"
    }
   ],
   "source": [
    "df.head()"
   ]
  },
  {
   "cell_type": "code",
   "execution_count": 111,
   "metadata": {
    "collapsed": false
   },
   "outputs": [],
   "source": [
    "df_dummy = pd.get_dummies(df[['company_id', 'dept', 'seniority', 'salary', 'quit_class']], drop_first=True)  "
   ]
  },
  {
   "cell_type": "code",
   "execution_count": 113,
   "metadata": {
    "collapsed": false
   },
   "outputs": [
    {
     "data": {
      "text/html": [
       "<div>\n",
       "<style scoped>\n",
       "    .dataframe tbody tr th:only-of-type {\n",
       "        vertical-align: middle;\n",
       "    }\n",
       "\n",
       "    .dataframe tbody tr th {\n",
       "        vertical-align: top;\n",
       "    }\n",
       "\n",
       "    .dataframe thead th {\n",
       "        text-align: right;\n",
       "    }\n",
       "</style>\n",
       "<table border=\"1\" class=\"dataframe\">\n",
       "  <thead>\n",
       "    <tr style=\"text-align: right;\">\n",
       "      <th></th>\n",
       "      <th>company_id</th>\n",
       "      <th>seniority</th>\n",
       "      <th>salary</th>\n",
       "      <th>quit_class</th>\n",
       "      <th>dept_data_science</th>\n",
       "      <th>dept_design</th>\n",
       "      <th>dept_engineer</th>\n",
       "      <th>dept_marketing</th>\n",
       "      <th>dept_sales</th>\n",
       "    </tr>\n",
       "  </thead>\n",
       "  <tbody>\n",
       "    <tr>\n",
       "      <th>0</th>\n",
       "      <td>7</td>\n",
       "      <td>28</td>\n",
       "      <td>89000.0</td>\n",
       "      <td>0</td>\n",
       "      <td>0</td>\n",
       "      <td>0</td>\n",
       "      <td>0</td>\n",
       "      <td>0</td>\n",
       "      <td>0</td>\n",
       "    </tr>\n",
       "    <tr>\n",
       "      <th>1</th>\n",
       "      <td>7</td>\n",
       "      <td>20</td>\n",
       "      <td>183000.0</td>\n",
       "      <td>1</td>\n",
       "      <td>0</td>\n",
       "      <td>0</td>\n",
       "      <td>0</td>\n",
       "      <td>1</td>\n",
       "      <td>0</td>\n",
       "    </tr>\n",
       "    <tr>\n",
       "      <th>2</th>\n",
       "      <td>4</td>\n",
       "      <td>14</td>\n",
       "      <td>101000.0</td>\n",
       "      <td>0</td>\n",
       "      <td>0</td>\n",
       "      <td>0</td>\n",
       "      <td>0</td>\n",
       "      <td>1</td>\n",
       "      <td>0</td>\n",
       "    </tr>\n",
       "    <tr>\n",
       "      <th>3</th>\n",
       "      <td>7</td>\n",
       "      <td>20</td>\n",
       "      <td>115000.0</td>\n",
       "      <td>0</td>\n",
       "      <td>0</td>\n",
       "      <td>0</td>\n",
       "      <td>0</td>\n",
       "      <td>0</td>\n",
       "      <td>0</td>\n",
       "    </tr>\n",
       "    <tr>\n",
       "      <th>4</th>\n",
       "      <td>2</td>\n",
       "      <td>23</td>\n",
       "      <td>276000.0</td>\n",
       "      <td>0</td>\n",
       "      <td>1</td>\n",
       "      <td>0</td>\n",
       "      <td>0</td>\n",
       "      <td>0</td>\n",
       "      <td>0</td>\n",
       "    </tr>\n",
       "  </tbody>\n",
       "</table>\n",
       "</div>"
      ],
      "text/plain": [
       "   company_id  seniority    salary  quit_class  dept_data_science  \\\n",
       "0           7         28   89000.0           0                  0   \n",
       "1           7         20  183000.0           1                  0   \n",
       "2           4         14  101000.0           0                  0   \n",
       "3           7         20  115000.0           0                  0   \n",
       "4           2         23  276000.0           0                  1   \n",
       "\n",
       "   dept_design  dept_engineer  dept_marketing  dept_sales  \n",
       "0            0              0               0           0  \n",
       "1            0              0               1           0  \n",
       "2            0              0               1           0  \n",
       "3            0              0               0           0  \n",
       "4            0              0               0           0  "
      ]
     },
     "execution_count": 113,
     "metadata": {},
     "output_type": "execute_result"
    }
   ],
   "source": [
    "df_dummy.head()"
   ]
  },
  {
   "cell_type": "code",
   "execution_count": 114,
   "metadata": {
    "collapsed": true
   },
   "outputs": [],
   "source": [
    "import graphviz\n",
    "from sklearn.tree import DecisionTreeClassifier\n",
    "from sklearn.tree import export_graphviz\n",
    "from graphviz import Source"
   ]
  },
  {
   "cell_type": "code",
   "execution_count": 115,
   "metadata": {
    "collapsed": true
   },
   "outputs": [],
   "source": [
    "X = df_dummy.drop(['quit_class'],axis=1)\n",
    "y = df_dummy.quit_class"
   ]
  },
  {
   "cell_type": "code",
   "execution_count": 116,
   "metadata": {
    "collapsed": true
   },
   "outputs": [],
   "source": [
    "from sklearn.model_selection import train_test_split\n",
    "\n",
    "X_train, X_test, y_train, y_test = train_test_split(X, y, test_size=0.20, random_state=20)"
   ]
  },
  {
   "cell_type": "code",
   "execution_count": 117,
   "metadata": {
    "collapsed": false
   },
   "outputs": [
    {
     "data": {
      "text/plain": [
       "0    16758\n",
       "1     3003\n",
       "Name: quit_class, dtype: int64"
      ]
     },
     "execution_count": 117,
     "metadata": {},
     "output_type": "execute_result"
    }
   ],
   "source": [
    "y_train.value_counts()"
   ]
  },
  {
   "cell_type": "code",
   "execution_count": 141,
   "metadata": {
    "collapsed": false
   },
   "outputs": [
    {
     "data": {
      "text/plain": [
       "DecisionTreeClassifier(class_weight='balanced', criterion='gini', max_depth=4,\n",
       "                       max_features=None, max_leaf_nodes=None,\n",
       "                       min_impurity_decrease=0.0, min_impurity_split=None,\n",
       "                       min_samples_leaf=30, min_samples_split=2,\n",
       "                       min_weight_fraction_leaf=0.0, presort=False,\n",
       "                       random_state=20, splitter='best')"
      ]
     },
     "execution_count": 141,
     "metadata": {},
     "output_type": "execute_result"
    }
   ],
   "source": [
    "DT = DecisionTreeClassifier(class_weight=\"balanced\",max_depth=4, min_samples_leaf=30, random_state=20)\n",
    "#DT = DecisionTreeClassifier(class_weight=\"balanced\")\n",
    "#DT = DecisionTreeClassifier()\n",
    "DT.fit(X_train,y_train)"
   ]
  },
  {
   "cell_type": "code",
   "execution_count": 142,
   "metadata": {
    "collapsed": false
   },
   "outputs": [
    {
     "name": "stdout",
     "output_type": "stream",
     "text": [
      "0.257450538442274\n",
      "0.15613608748481167\n",
      "0.7332382310984308\n"
     ]
    }
   ],
   "source": [
    "from sklearn.metrics import f1_score\n",
    "from sklearn.metrics import recall_score\n",
    "from sklearn.metrics import precision_score\n",
    "\n",
    "y_pred =DT.predict(X_test)\n",
    "print(f1_score(y_test, y_pred))\n",
    "print(precision_score(y_test, y_pred))\n",
    "print(recall_score(y_test, y_pred))"
   ]
  },
  {
   "cell_type": "code",
   "execution_count": 158,
   "metadata": {
    "collapsed": false
   },
   "outputs": [
    {
     "name": "stdout",
     "output_type": "stream",
     "text": [
      "['salary' 'company_id' 'dept_design' 'seniority' 'dept_sales'\n",
      " 'dept_marketing' 'dept_engineer' 'dept_data_science']\n",
      "[0.81960456 0.06756582 0.04218615 0.03754813 0.03309534 0.\n",
      " 0.         0.        ]\n"
     ]
    }
   ],
   "source": [
    "importances = DT.feature_importances_\n",
    "\n",
    "important_list = []\n",
    "for i in np.argsort(importances)[::-1]:\n",
    "    important_list.append(list(X_train.columns)[i])\n",
    "    \n",
    "print(np.array(important_list))\n",
    "print(np.sort(importances)[::-1])"
   ]
  },
  {
   "cell_type": "code",
   "execution_count": 148,
   "metadata": {
    "collapsed": false
   },
   "outputs": [
    {
     "data": {
      "image/svg+xml": [
       "<?xml version=\"1.0\" encoding=\"UTF-8\" standalone=\"no\"?>\n",
       "<!DOCTYPE svg PUBLIC \"-//W3C//DTD SVG 1.1//EN\"\n",
       " \"http://www.w3.org/Graphics/SVG/1.1/DTD/svg11.dtd\">\n",
       "<!-- Generated by graphviz version 2.40.1 (20161225.0304)\n",
       " -->\n",
       "<!-- Title: Tree Pages: 1 -->\n",
       "<svg width=\"2685pt\" height=\"552pt\"\n",
       " viewBox=\"0.00 0.00 2684.50 552.00\" xmlns=\"http://www.w3.org/2000/svg\" xmlns:xlink=\"http://www.w3.org/1999/xlink\">\n",
       "<g id=\"graph0\" class=\"graph\" transform=\"scale(1 1) rotate(0) translate(4 548)\">\n",
       "<title>Tree</title>\n",
       "<polygon fill=\"#ffffff\" stroke=\"transparent\" points=\"-4,4 -4,-548 2680.5,-548 2680.5,4 -4,4\"/>\n",
       "<!-- 0 -->\n",
       "<g id=\"node1\" class=\"node\">\n",
       "<title>0</title>\n",
       "<path fill=\"#ffffff\" stroke=\"#000000\" d=\"M1634.5,-544C1634.5,-544 1491.5,-544 1491.5,-544 1485.5,-544 1479.5,-538 1479.5,-532 1479.5,-532 1479.5,-473 1479.5,-473 1479.5,-467 1485.5,-461 1491.5,-461 1491.5,-461 1634.5,-461 1634.5,-461 1640.5,-461 1646.5,-467 1646.5,-473 1646.5,-473 1646.5,-532 1646.5,-532 1646.5,-538 1640.5,-544 1634.5,-544\"/>\n",
       "<text text-anchor=\"start\" x=\"1507\" y=\"-528.8\" font-family=\"Helvetica,sans-Serif\" font-size=\"14.00\" fill=\"#000000\">salary ≤ 243500.0</text>\n",
       "<text text-anchor=\"start\" x=\"1534\" y=\"-513.8\" font-family=\"Helvetica,sans-Serif\" font-size=\"14.00\" fill=\"#000000\">gini = 0.5</text>\n",
       "<text text-anchor=\"start\" x=\"1509\" y=\"-498.8\" font-family=\"Helvetica,sans-Serif\" font-size=\"14.00\" fill=\"#000000\">samples = 19761</text>\n",
       "<text text-anchor=\"start\" x=\"1487.5\" y=\"-483.8\" font-family=\"Helvetica,sans-Serif\" font-size=\"14.00\" fill=\"#000000\">value = [9880.5, 9880.5]</text>\n",
       "<text text-anchor=\"start\" x=\"1526\" y=\"-468.8\" font-family=\"Helvetica,sans-Serif\" font-size=\"14.00\" fill=\"#000000\">class = Quit</text>\n",
       "</g>\n",
       "<!-- 1 -->\n",
       "<g id=\"node2\" class=\"node\">\n",
       "<title>1</title>\n",
       "<path fill=\"#f3f9fd\" stroke=\"#000000\" d=\"M1266,-425C1266,-425 1100,-425 1100,-425 1094,-425 1088,-419 1088,-413 1088,-413 1088,-354 1088,-354 1088,-348 1094,-342 1100,-342 1100,-342 1266,-342 1266,-342 1272,-342 1278,-348 1278,-354 1278,-354 1278,-413 1278,-413 1278,-419 1272,-425 1266,-425\"/>\n",
       "<text text-anchor=\"start\" x=\"1131\" y=\"-409.8\" font-family=\"Helvetica,sans-Serif\" font-size=\"14.00\" fill=\"#000000\">salary ≤ 65500.0</text>\n",
       "<text text-anchor=\"start\" x=\"1154\" y=\"-394.8\" font-family=\"Helvetica,sans-Serif\" font-size=\"14.00\" fill=\"#000000\">gini = 0.5</text>\n",
       "<text text-anchor=\"start\" x=\"1129\" y=\"-379.8\" font-family=\"Helvetica,sans-Serif\" font-size=\"14.00\" fill=\"#000000\">samples = 17595</text>\n",
       "<text text-anchor=\"start\" x=\"1096\" y=\"-364.8\" font-family=\"Helvetica,sans-Serif\" font-size=\"14.00\" fill=\"#000000\">value = [8715.452, 9255.36]</text>\n",
       "<text text-anchor=\"start\" x=\"1146\" y=\"-349.8\" font-family=\"Helvetica,sans-Serif\" font-size=\"14.00\" fill=\"#000000\">class = Quit</text>\n",
       "</g>\n",
       "<!-- 0&#45;&gt;1 -->\n",
       "<g id=\"edge1\" class=\"edge\">\n",
       "<title>0&#45;&gt;1</title>\n",
       "<path fill=\"none\" stroke=\"#000000\" d=\"M1479.137,-476.2376C1422.7059,-458.5658 1347.8832,-435.1345 1287.5676,-416.2462\"/>\n",
       "<polygon fill=\"#000000\" stroke=\"#000000\" points=\"1288.6059,-412.9038 1278.0169,-413.2553 1286.5139,-419.5839 1288.6059,-412.9038\"/>\n",
       "<text text-anchor=\"middle\" x=\"1289.6038\" y=\"-431.708\" font-family=\"Helvetica,sans-Serif\" font-size=\"14.00\" fill=\"#000000\">True</text>\n",
       "</g>\n",
       "<!-- 16 -->\n",
       "<g id=\"node17\" class=\"node\">\n",
       "<title>16</title>\n",
       "<path fill=\"#f3c5a3\" stroke=\"#000000\" d=\"M2006.5,-425C2006.5,-425 1847.5,-425 1847.5,-425 1841.5,-425 1835.5,-419 1835.5,-413 1835.5,-413 1835.5,-354 1835.5,-354 1835.5,-348 1841.5,-342 1847.5,-342 1847.5,-342 2006.5,-342 2006.5,-342 2012.5,-342 2018.5,-348 2018.5,-354 2018.5,-354 2018.5,-413 2018.5,-413 2018.5,-419 2012.5,-425 2006.5,-425\"/>\n",
       "<text text-anchor=\"start\" x=\"1871\" y=\"-409.8\" font-family=\"Helvetica,sans-Serif\" font-size=\"14.00\" fill=\"#000000\">salary ≤ 297500.0</text>\n",
       "<text text-anchor=\"start\" x=\"1890.5\" y=\"-394.8\" font-family=\"Helvetica,sans-Serif\" font-size=\"14.00\" fill=\"#000000\">gini = 0.455</text>\n",
       "<text text-anchor=\"start\" x=\"1877\" y=\"-379.8\" font-family=\"Helvetica,sans-Serif\" font-size=\"14.00\" fill=\"#000000\">samples = 2166</text>\n",
       "<text text-anchor=\"start\" x=\"1843.5\" y=\"-364.8\" font-family=\"Helvetica,sans-Serif\" font-size=\"14.00\" fill=\"#000000\">value = [1165.048, 625.14]</text>\n",
       "<text text-anchor=\"start\" x=\"1878.5\" y=\"-349.8\" font-family=\"Helvetica,sans-Serif\" font-size=\"14.00\" fill=\"#000000\">class = Not quit</text>\n",
       "</g>\n",
       "<!-- 0&#45;&gt;16 -->\n",
       "<g id=\"edge16\" class=\"edge\">\n",
       "<title>0&#45;&gt;16</title>\n",
       "<path fill=\"none\" stroke=\"#000000\" d=\"M1646.509,-475.199C1699.7833,-457.7824 1769.1693,-435.0985 1825.6004,-416.6499\"/>\n",
       "<polygon fill=\"#000000\" stroke=\"#000000\" points=\"1826.8412,-419.9266 1835.2585,-413.4924 1824.666,-413.2731 1826.8412,-419.9266\"/>\n",
       "<text text-anchor=\"middle\" x=\"1823.9491\" y=\"-432.0881\" font-family=\"Helvetica,sans-Serif\" font-size=\"14.00\" fill=\"#000000\">False</text>\n",
       "</g>\n",
       "<!-- 2 -->\n",
       "<g id=\"node3\" class=\"node\">\n",
       "<title>2</title>\n",
       "<path fill=\"#fbede2\" stroke=\"#000000\" d=\"M670,-306C670,-306 496,-306 496,-306 490,-306 484,-300 484,-294 484,-294 484,-235 484,-235 484,-229 490,-223 496,-223 496,-223 670,-223 670,-223 676,-223 682,-229 682,-235 682,-235 682,-294 682,-294 682,-300 676,-306 670,-306\"/>\n",
       "<text text-anchor=\"start\" x=\"527\" y=\"-290.8\" font-family=\"Helvetica,sans-Serif\" font-size=\"14.00\" fill=\"#000000\">dept_design ≤ 0.5</text>\n",
       "<text text-anchor=\"start\" x=\"546.5\" y=\"-275.8\" font-family=\"Helvetica,sans-Serif\" font-size=\"14.00\" fill=\"#000000\">gini = 0.497</text>\n",
       "<text text-anchor=\"start\" x=\"533\" y=\"-260.8\" font-family=\"Helvetica,sans-Serif\" font-size=\"14.00\" fill=\"#000000\">samples = 3388</text>\n",
       "<text text-anchor=\"start\" x=\"492\" y=\"-245.8\" font-family=\"Helvetica,sans-Serif\" font-size=\"14.00\" fill=\"#000000\">value = [1732.242, 1480.594]</text>\n",
       "<text text-anchor=\"start\" x=\"534.5\" y=\"-230.8\" font-family=\"Helvetica,sans-Serif\" font-size=\"14.00\" fill=\"#000000\">class = Not quit</text>\n",
       "</g>\n",
       "<!-- 1&#45;&gt;2 -->\n",
       "<g id=\"edge2\" class=\"edge\">\n",
       "<title>1&#45;&gt;2</title>\n",
       "<path fill=\"none\" stroke=\"#000000\" d=\"M1087.9282,-364.6441C980.3145,-343.3007 805.3115,-308.5918 692.1884,-286.1557\"/>\n",
       "<polygon fill=\"#000000\" stroke=\"#000000\" points=\"692.6084,-282.6709 682.1185,-284.1585 691.2465,-289.5372 692.6084,-282.6709\"/>\n",
       "</g>\n",
       "<!-- 9 -->\n",
       "<g id=\"node10\" class=\"node\">\n",
       "<title>9</title>\n",
       "<path fill=\"#ebf5fc\" stroke=\"#000000\" d=\"M1270,-306C1270,-306 1096,-306 1096,-306 1090,-306 1084,-300 1084,-294 1084,-294 1084,-235 1084,-235 1084,-229 1090,-223 1096,-223 1096,-223 1270,-223 1270,-223 1276,-223 1282,-229 1282,-235 1282,-235 1282,-294 1282,-294 1282,-300 1276,-306 1270,-306\"/>\n",
       "<text text-anchor=\"start\" x=\"1127\" y=\"-290.8\" font-family=\"Helvetica,sans-Serif\" font-size=\"14.00\" fill=\"#000000\">salary ≤ 214500.0</text>\n",
       "<text text-anchor=\"start\" x=\"1146.5\" y=\"-275.8\" font-family=\"Helvetica,sans-Serif\" font-size=\"14.00\" fill=\"#000000\">gini = 0.499</text>\n",
       "<text text-anchor=\"start\" x=\"1129\" y=\"-260.8\" font-family=\"Helvetica,sans-Serif\" font-size=\"14.00\" fill=\"#000000\">samples = 14207</text>\n",
       "<text text-anchor=\"start\" x=\"1092\" y=\"-245.8\" font-family=\"Helvetica,sans-Serif\" font-size=\"14.00\" fill=\"#000000\">value = [6983.211, 7774.766]</text>\n",
       "<text text-anchor=\"start\" x=\"1146\" y=\"-230.8\" font-family=\"Helvetica,sans-Serif\" font-size=\"14.00\" fill=\"#000000\">class = Quit</text>\n",
       "</g>\n",
       "<!-- 1&#45;&gt;9 -->\n",
       "<g id=\"edge9\" class=\"edge\">\n",
       "<title>1&#45;&gt;9</title>\n",
       "<path fill=\"none\" stroke=\"#000000\" d=\"M1183,-341.8796C1183,-333.6838 1183,-324.9891 1183,-316.5013\"/>\n",
       "<polygon fill=\"#000000\" stroke=\"#000000\" points=\"1186.5001,-316.298 1183,-306.2981 1179.5001,-316.2981 1186.5001,-316.298\"/>\n",
       "</g>\n",
       "<!-- 3 -->\n",
       "<g id=\"node4\" class=\"node\">\n",
       "<title>3</title>\n",
       "<path fill=\"#fcefe5\" stroke=\"#000000\" d=\"M383,-187C383,-187 217,-187 217,-187 211,-187 205,-181 205,-175 205,-175 205,-116 205,-116 205,-110 211,-104 217,-104 217,-104 383,-104 383,-104 389,-104 395,-110 395,-116 395,-116 395,-175 395,-175 395,-181 389,-187 383,-187\"/>\n",
       "<text text-anchor=\"start\" x=\"248\" y=\"-171.8\" font-family=\"Helvetica,sans-Serif\" font-size=\"14.00\" fill=\"#000000\">salary ≤ 64500.0</text>\n",
       "<text text-anchor=\"start\" x=\"263.5\" y=\"-156.8\" font-family=\"Helvetica,sans-Serif\" font-size=\"14.00\" fill=\"#000000\">gini = 0.498</text>\n",
       "<text text-anchor=\"start\" x=\"250\" y=\"-141.8\" font-family=\"Helvetica,sans-Serif\" font-size=\"14.00\" fill=\"#000000\">samples = 3227</text>\n",
       "<text text-anchor=\"start\" x=\"213\" y=\"-126.8\" font-family=\"Helvetica,sans-Serif\" font-size=\"14.00\" fill=\"#000000\">value = [1646.16, 1431.241]</text>\n",
       "<text text-anchor=\"start\" x=\"251.5\" y=\"-111.8\" font-family=\"Helvetica,sans-Serif\" font-size=\"14.00\" fill=\"#000000\">class = Not quit</text>\n",
       "</g>\n",
       "<!-- 2&#45;&gt;3 -->\n",
       "<g id=\"edge3\" class=\"edge\">\n",
       "<title>2&#45;&gt;3</title>\n",
       "<path fill=\"none\" stroke=\"#000000\" d=\"M484.0203,-222.8796C458.3257,-212.0751 430.569,-200.4036 404.5958,-189.482\"/>\n",
       "<polygon fill=\"#000000\" stroke=\"#000000\" points=\"405.6894,-186.145 395.1145,-185.4952 402.976,-192.5978 405.6894,-186.145\"/>\n",
       "</g>\n",
       "<!-- 6 -->\n",
       "<g id=\"node7\" class=\"node\">\n",
       "<title>6</title>\n",
       "<path fill=\"#f4c9ab\" stroke=\"#000000\" d=\"M654.5,-187C654.5,-187 511.5,-187 511.5,-187 505.5,-187 499.5,-181 499.5,-175 499.5,-175 499.5,-116 499.5,-116 499.5,-110 505.5,-104 511.5,-104 511.5,-104 654.5,-104 654.5,-104 660.5,-104 666.5,-110 666.5,-116 666.5,-116 666.5,-175 666.5,-175 666.5,-181 660.5,-187 654.5,-187\"/>\n",
       "<text text-anchor=\"start\" x=\"539\" y=\"-171.8\" font-family=\"Helvetica,sans-Serif\" font-size=\"14.00\" fill=\"#000000\">seniority ≤ 2.5</text>\n",
       "<text text-anchor=\"start\" x=\"546.5\" y=\"-156.8\" font-family=\"Helvetica,sans-Serif\" font-size=\"14.00\" fill=\"#000000\">gini = 0.463</text>\n",
       "<text text-anchor=\"start\" x=\"537\" y=\"-141.8\" font-family=\"Helvetica,sans-Serif\" font-size=\"14.00\" fill=\"#000000\">samples = 161</text>\n",
       "<text text-anchor=\"start\" x=\"507.5\" y=\"-126.8\" font-family=\"Helvetica,sans-Serif\" font-size=\"14.00\" fill=\"#000000\">value = [86.081, 49.353]</text>\n",
       "<text text-anchor=\"start\" x=\"534.5\" y=\"-111.8\" font-family=\"Helvetica,sans-Serif\" font-size=\"14.00\" fill=\"#000000\">class = Not quit</text>\n",
       "</g>\n",
       "<!-- 2&#45;&gt;6 -->\n",
       "<g id=\"edge6\" class=\"edge\">\n",
       "<title>2&#45;&gt;6</title>\n",
       "<path fill=\"none\" stroke=\"#000000\" d=\"M583,-222.8796C583,-214.6838 583,-205.9891 583,-197.5013\"/>\n",
       "<polygon fill=\"#000000\" stroke=\"#000000\" points=\"586.5001,-197.298 583,-187.2981 579.5001,-197.2981 586.5001,-197.298\"/>\n",
       "</g>\n",
       "<!-- 4 -->\n",
       "<g id=\"node5\" class=\"node\">\n",
       "<title>4</title>\n",
       "<path fill=\"#fcf0e8\" stroke=\"#000000\" d=\"M186,-68C186,-68 12,-68 12,-68 6,-68 0,-62 0,-56 0,-56 0,-12 0,-12 0,-6 6,0 12,0 12,0 186,0 186,0 192,0 198,-6 198,-12 198,-12 198,-56 198,-56 198,-62 192,-68 186,-68\"/>\n",
       "<text text-anchor=\"start\" x=\"62.5\" y=\"-52.8\" font-family=\"Helvetica,sans-Serif\" font-size=\"14.00\" fill=\"#000000\">gini = 0.498</text>\n",
       "<text text-anchor=\"start\" x=\"49\" y=\"-37.8\" font-family=\"Helvetica,sans-Serif\" font-size=\"14.00\" fill=\"#000000\">samples = 3106</text>\n",
       "<text text-anchor=\"start\" x=\"8\" y=\"-22.8\" font-family=\"Helvetica,sans-Serif\" font-size=\"14.00\" fill=\"#000000\">value = [1581.305, 1395.049]</text>\n",
       "<text text-anchor=\"start\" x=\"50.5\" y=\"-7.8\" font-family=\"Helvetica,sans-Serif\" font-size=\"14.00\" fill=\"#000000\">class = Not quit</text>\n",
       "</g>\n",
       "<!-- 3&#45;&gt;4 -->\n",
       "<g id=\"edge4\" class=\"edge\">\n",
       "<title>3&#45;&gt;4</title>\n",
       "<path fill=\"none\" stroke=\"#000000\" d=\"M225.155,-103.9815C206.8344,-93.8186 187.2947,-82.9794 169.2006,-72.9421\"/>\n",
       "<polygon fill=\"#000000\" stroke=\"#000000\" points=\"170.8883,-69.8759 160.4458,-68.0856 167.4927,-75.9972 170.8883,-69.8759\"/>\n",
       "</g>\n",
       "<!-- 5 -->\n",
       "<g id=\"node6\" class=\"node\">\n",
       "<title>5</title>\n",
       "<path fill=\"#f4c7a7\" stroke=\"#000000\" d=\"M371.5,-68C371.5,-68 228.5,-68 228.5,-68 222.5,-68 216.5,-62 216.5,-56 216.5,-56 216.5,-12 216.5,-12 216.5,-6 222.5,0 228.5,0 228.5,0 371.5,0 371.5,0 377.5,0 383.5,-6 383.5,-12 383.5,-12 383.5,-56 383.5,-56 383.5,-62 377.5,-68 371.5,-68\"/>\n",
       "<text text-anchor=\"start\" x=\"267.5\" y=\"-52.8\" font-family=\"Helvetica,sans-Serif\" font-size=\"14.00\" fill=\"#000000\">gini = 0.46</text>\n",
       "<text text-anchor=\"start\" x=\"254\" y=\"-37.8\" font-family=\"Helvetica,sans-Serif\" font-size=\"14.00\" fill=\"#000000\">samples = 121</text>\n",
       "<text text-anchor=\"start\" x=\"224.5\" y=\"-22.8\" font-family=\"Helvetica,sans-Serif\" font-size=\"14.00\" fill=\"#000000\">value = [64.856, 36.192]</text>\n",
       "<text text-anchor=\"start\" x=\"251.5\" y=\"-7.8\" font-family=\"Helvetica,sans-Serif\" font-size=\"14.00\" fill=\"#000000\">class = Not quit</text>\n",
       "</g>\n",
       "<!-- 3&#45;&gt;5 -->\n",
       "<g id=\"edge5\" class=\"edge\">\n",
       "<title>3&#45;&gt;5</title>\n",
       "<path fill=\"none\" stroke=\"#000000\" d=\"M300,-103.9815C300,-95.618 300,-86.7965 300,-78.3409\"/>\n",
       "<polygon fill=\"#000000\" stroke=\"#000000\" points=\"303.5001,-78.2636 300,-68.2637 296.5001,-78.2637 303.5001,-78.2636\"/>\n",
       "</g>\n",
       "<!-- 7 -->\n",
       "<g id=\"node8\" class=\"node\">\n",
       "<title>7</title>\n",
       "<path fill=\"#eeaf81\" stroke=\"#000000\" d=\"M556.5,-68C556.5,-68 413.5,-68 413.5,-68 407.5,-68 401.5,-62 401.5,-56 401.5,-56 401.5,-12 401.5,-12 401.5,-6 407.5,0 413.5,0 413.5,0 556.5,0 556.5,0 562.5,0 568.5,-6 568.5,-12 568.5,-12 568.5,-56 568.5,-56 568.5,-62 562.5,-68 556.5,-68\"/>\n",
       "<text text-anchor=\"start\" x=\"452.5\" y=\"-52.8\" font-family=\"Helvetica,sans-Serif\" font-size=\"14.00\" fill=\"#000000\">gini = 0.39</text>\n",
       "<text text-anchor=\"start\" x=\"443\" y=\"-37.8\" font-family=\"Helvetica,sans-Serif\" font-size=\"14.00\" fill=\"#000000\">samples = 82</text>\n",
       "<text text-anchor=\"start\" x=\"409.5\" y=\"-22.8\" font-family=\"Helvetica,sans-Serif\" font-size=\"14.00\" fill=\"#000000\">value = [45.399, 16.451]</text>\n",
       "<text text-anchor=\"start\" x=\"436.5\" y=\"-7.8\" font-family=\"Helvetica,sans-Serif\" font-size=\"14.00\" fill=\"#000000\">class = Not quit</text>\n",
       "</g>\n",
       "<!-- 6&#45;&gt;7 -->\n",
       "<g id=\"edge7\" class=\"edge\">\n",
       "<title>6&#45;&gt;7</title>\n",
       "<path fill=\"none\" stroke=\"#000000\" d=\"M546.5084,-103.9815C538.4305,-94.7908 529.8666,-85.0472 521.7774,-75.8436\"/>\n",
       "<polygon fill=\"#000000\" stroke=\"#000000\" points=\"524.3458,-73.4642 515.1152,-68.2637 519.088,-78.0855 524.3458,-73.4642\"/>\n",
       "</g>\n",
       "<!-- 8 -->\n",
       "<g id=\"node9\" class=\"node\">\n",
       "<title>8</title>\n",
       "<path fill=\"#fae7d9\" stroke=\"#000000\" d=\"M741.5,-68C741.5,-68 598.5,-68 598.5,-68 592.5,-68 586.5,-62 586.5,-56 586.5,-56 586.5,-12 586.5,-12 586.5,-6 592.5,0 598.5,0 598.5,0 741.5,0 741.5,0 747.5,0 753.5,-6 753.5,-12 753.5,-12 753.5,-56 753.5,-56 753.5,-62 747.5,-68 741.5,-68\"/>\n",
       "<text text-anchor=\"start\" x=\"633.5\" y=\"-52.8\" font-family=\"Helvetica,sans-Serif\" font-size=\"14.00\" fill=\"#000000\">gini = 0.494</text>\n",
       "<text text-anchor=\"start\" x=\"628\" y=\"-37.8\" font-family=\"Helvetica,sans-Serif\" font-size=\"14.00\" fill=\"#000000\">samples = 79</text>\n",
       "<text text-anchor=\"start\" x=\"594.5\" y=\"-22.8\" font-family=\"Helvetica,sans-Serif\" font-size=\"14.00\" fill=\"#000000\">value = [40.682, 32.902]</text>\n",
       "<text text-anchor=\"start\" x=\"621.5\" y=\"-7.8\" font-family=\"Helvetica,sans-Serif\" font-size=\"14.00\" fill=\"#000000\">class = Not quit</text>\n",
       "</g>\n",
       "<!-- 6&#45;&gt;8 -->\n",
       "<g id=\"edge8\" class=\"edge\">\n",
       "<title>6&#45;&gt;8</title>\n",
       "<path fill=\"none\" stroke=\"#000000\" d=\"M615.3956,-103.9815C622.4234,-94.9747 629.8655,-85.4367 636.9193,-76.3965\"/>\n",
       "<polygon fill=\"#000000\" stroke=\"#000000\" points=\"639.8728,-78.3008 643.2651,-68.2637 634.354,-73.9946 639.8728,-78.3008\"/>\n",
       "</g>\n",
       "<!-- 10 -->\n",
       "<g id=\"node11\" class=\"node\">\n",
       "<title>10</title>\n",
       "<path fill=\"#e7f3fc\" stroke=\"#000000\" d=\"M1168,-187C1168,-187 994,-187 994,-187 988,-187 982,-181 982,-175 982,-175 982,-116 982,-116 982,-110 988,-104 994,-104 994,-104 1168,-104 1168,-104 1174,-104 1180,-110 1180,-116 1180,-116 1180,-175 1180,-175 1180,-181 1174,-187 1168,-187\"/>\n",
       "<text text-anchor=\"start\" x=\"1029.5\" y=\"-171.8\" font-family=\"Helvetica,sans-Serif\" font-size=\"14.00\" fill=\"#000000\">dept_sales ≤ 0.5</text>\n",
       "<text text-anchor=\"start\" x=\"1044.5\" y=\"-156.8\" font-family=\"Helvetica,sans-Serif\" font-size=\"14.00\" fill=\"#000000\">gini = 0.498</text>\n",
       "<text text-anchor=\"start\" x=\"1027\" y=\"-141.8\" font-family=\"Helvetica,sans-Serif\" font-size=\"14.00\" fill=\"#000000\">samples = 13103</text>\n",
       "<text text-anchor=\"start\" x=\"990\" y=\"-126.8\" font-family=\"Helvetica,sans-Serif\" font-size=\"14.00\" fill=\"#000000\">value = [6417.195, 7300.976]</text>\n",
       "<text text-anchor=\"start\" x=\"1044\" y=\"-111.8\" font-family=\"Helvetica,sans-Serif\" font-size=\"14.00\" fill=\"#000000\">class = Quit</text>\n",
       "</g>\n",
       "<!-- 9&#45;&gt;10 -->\n",
       "<g id=\"edge10\" class=\"edge\">\n",
       "<title>9&#45;&gt;10</title>\n",
       "<path fill=\"none\" stroke=\"#000000\" d=\"M1147.3253,-222.8796C1139.6057,-213.8733 1131.3695,-204.2644 1123.4197,-194.9897\"/>\n",
       "<polygon fill=\"#000000\" stroke=\"#000000\" points=\"1125.9923,-192.6129 1116.8269,-187.2981 1120.6775,-197.1684 1125.9923,-192.6129\"/>\n",
       "</g>\n",
       "<!-- 13 -->\n",
       "<g id=\"node14\" class=\"node\">\n",
       "<title>13</title>\n",
       "<path fill=\"#fbeadf\" stroke=\"#000000\" d=\"M1361.5,-187C1361.5,-187 1210.5,-187 1210.5,-187 1204.5,-187 1198.5,-181 1198.5,-175 1198.5,-175 1198.5,-116 1198.5,-116 1198.5,-110 1204.5,-104 1210.5,-104 1210.5,-104 1361.5,-104 1361.5,-104 1367.5,-104 1373.5,-110 1373.5,-116 1373.5,-116 1373.5,-175 1373.5,-175 1373.5,-181 1367.5,-187 1361.5,-187\"/>\n",
       "<text text-anchor=\"start\" x=\"1230\" y=\"-171.8\" font-family=\"Helvetica,sans-Serif\" font-size=\"14.00\" fill=\"#000000\">dept_design ≤ 0.5</text>\n",
       "<text text-anchor=\"start\" x=\"1249.5\" y=\"-156.8\" font-family=\"Helvetica,sans-Serif\" font-size=\"14.00\" fill=\"#000000\">gini = 0.496</text>\n",
       "<text text-anchor=\"start\" x=\"1236\" y=\"-141.8\" font-family=\"Helvetica,sans-Serif\" font-size=\"14.00\" fill=\"#000000\">samples = 1104</text>\n",
       "<text text-anchor=\"start\" x=\"1206.5\" y=\"-126.8\" font-family=\"Helvetica,sans-Serif\" font-size=\"14.00\" fill=\"#000000\">value = [566.015, 473.79]</text>\n",
       "<text text-anchor=\"start\" x=\"1237.5\" y=\"-111.8\" font-family=\"Helvetica,sans-Serif\" font-size=\"14.00\" fill=\"#000000\">class = Not quit</text>\n",
       "</g>\n",
       "<!-- 9&#45;&gt;13 -->\n",
       "<g id=\"edge13\" class=\"edge\">\n",
       "<title>9&#45;&gt;13</title>\n",
       "<path fill=\"none\" stroke=\"#000000\" d=\"M1219.0244,-222.8796C1226.8198,-213.8733 1235.1367,-204.2644 1243.1644,-194.9897\"/>\n",
       "<polygon fill=\"#000000\" stroke=\"#000000\" points=\"1245.9237,-197.1498 1249.8218,-187.2981 1240.6309,-192.5686 1245.9237,-197.1498\"/>\n",
       "</g>\n",
       "<!-- 11 -->\n",
       "<g id=\"node12\" class=\"node\">\n",
       "<title>11</title>\n",
       "<path fill=\"#ecf5fc\" stroke=\"#000000\" d=\"M958,-68C958,-68 784,-68 784,-68 778,-68 772,-62 772,-56 772,-56 772,-12 772,-12 772,-6 778,0 784,0 784,0 958,0 958,0 964,0 970,-6 970,-12 970,-12 970,-56 970,-56 970,-62 964,-68 958,-68\"/>\n",
       "<text text-anchor=\"start\" x=\"834.5\" y=\"-52.8\" font-family=\"Helvetica,sans-Serif\" font-size=\"14.00\" fill=\"#000000\">gini = 0.499</text>\n",
       "<text text-anchor=\"start\" x=\"817\" y=\"-37.8\" font-family=\"Helvetica,sans-Serif\" font-size=\"14.00\" fill=\"#000000\">samples = 11033</text>\n",
       "<text text-anchor=\"start\" x=\"780\" y=\"-22.8\" font-family=\"Helvetica,sans-Serif\" font-size=\"14.00\" fill=\"#000000\">value = [5426.669, 6017.794]</text>\n",
       "<text text-anchor=\"start\" x=\"834\" y=\"-7.8\" font-family=\"Helvetica,sans-Serif\" font-size=\"14.00\" fill=\"#000000\">class = Quit</text>\n",
       "</g>\n",
       "<!-- 10&#45;&gt;11 -->\n",
       "<g id=\"edge11\" class=\"edge\">\n",
       "<title>10&#45;&gt;11</title>\n",
       "<path fill=\"none\" stroke=\"#000000\" d=\"M1002.8038,-103.9815C983.5758,-93.7724 963.0626,-82.8809 944.0862,-72.8053\"/>\n",
       "<polygon fill=\"#000000\" stroke=\"#000000\" points=\"945.6707,-69.6839 935.1971,-68.0856 942.3881,-75.8665 945.6707,-69.6839\"/>\n",
       "</g>\n",
       "<!-- 12 -->\n",
       "<g id=\"node13\" class=\"node\">\n",
       "<title>12</title>\n",
       "<path fill=\"#d2e9f9\" stroke=\"#000000\" d=\"M1166,-68C1166,-68 1000,-68 1000,-68 994,-68 988,-62 988,-56 988,-56 988,-12 988,-12 988,-6 994,0 1000,0 1000,0 1166,0 1166,0 1172,0 1178,-6 1178,-12 1178,-12 1178,-56 1178,-56 1178,-62 1172,-68 1166,-68\"/>\n",
       "<text text-anchor=\"start\" x=\"1046.5\" y=\"-52.8\" font-family=\"Helvetica,sans-Serif\" font-size=\"14.00\" fill=\"#000000\">gini = 0.492</text>\n",
       "<text text-anchor=\"start\" x=\"1033\" y=\"-37.8\" font-family=\"Helvetica,sans-Serif\" font-size=\"14.00\" fill=\"#000000\">samples = 2070</text>\n",
       "<text text-anchor=\"start\" x=\"996\" y=\"-22.8\" font-family=\"Helvetica,sans-Serif\" font-size=\"14.00\" fill=\"#000000\">value = [990.526, 1283.182]</text>\n",
       "<text text-anchor=\"start\" x=\"1046\" y=\"-7.8\" font-family=\"Helvetica,sans-Serif\" font-size=\"14.00\" fill=\"#000000\">class = Quit</text>\n",
       "</g>\n",
       "<!-- 10&#45;&gt;12 -->\n",
       "<g id=\"edge12\" class=\"edge\">\n",
       "<title>10&#45;&gt;12</title>\n",
       "<path fill=\"none\" stroke=\"#000000\" d=\"M1081.7447,-103.9815C1081.8947,-95.618 1082.053,-86.7965 1082.2046,-78.3409\"/>\n",
       "<polygon fill=\"#000000\" stroke=\"#000000\" points=\"1085.7054,-78.3249 1082.3854,-68.2637 1078.7065,-78.1993 1085.7054,-78.3249\"/>\n",
       "</g>\n",
       "<!-- 14 -->\n",
       "<g id=\"node15\" class=\"node\">\n",
       "<title>14</title>\n",
       "<path fill=\"#fcefe5\" stroke=\"#000000\" d=\"M1359.5,-68C1359.5,-68 1208.5,-68 1208.5,-68 1202.5,-68 1196.5,-62 1196.5,-56 1196.5,-56 1196.5,-12 1196.5,-12 1196.5,-6 1202.5,0 1208.5,0 1208.5,0 1359.5,0 1359.5,0 1365.5,0 1371.5,-6 1371.5,-12 1371.5,-12 1371.5,-56 1371.5,-56 1371.5,-62 1365.5,-68 1359.5,-68\"/>\n",
       "<text text-anchor=\"start\" x=\"1247.5\" y=\"-52.8\" font-family=\"Helvetica,sans-Serif\" font-size=\"14.00\" fill=\"#000000\">gini = 0.498</text>\n",
       "<text text-anchor=\"start\" x=\"1234\" y=\"-37.8\" font-family=\"Helvetica,sans-Serif\" font-size=\"14.00\" fill=\"#000000\">samples = 1045</text>\n",
       "<text text-anchor=\"start\" x=\"1204.5\" y=\"-22.8\" font-family=\"Helvetica,sans-Serif\" font-size=\"14.00\" fill=\"#000000\">value = [532.997, 463.92]</text>\n",
       "<text text-anchor=\"start\" x=\"1235.5\" y=\"-7.8\" font-family=\"Helvetica,sans-Serif\" font-size=\"14.00\" fill=\"#000000\">class = Not quit</text>\n",
       "</g>\n",
       "<!-- 13&#45;&gt;14 -->\n",
       "<g id=\"edge14\" class=\"edge\">\n",
       "<title>13&#45;&gt;14</title>\n",
       "<path fill=\"none\" stroke=\"#000000\" d=\"M1285.2553,-103.9815C1285.1053,-95.618 1284.947,-86.7965 1284.7954,-78.3409\"/>\n",
       "<polygon fill=\"#000000\" stroke=\"#000000\" points=\"1288.2935,-78.1993 1284.6146,-68.2637 1281.2946,-78.3249 1288.2935,-78.1993\"/>\n",
       "</g>\n",
       "<!-- 15 -->\n",
       "<g id=\"node16\" class=\"node\">\n",
       "<title>15</title>\n",
       "<path fill=\"#eda774\" stroke=\"#000000\" d=\"M1536.5,-68C1536.5,-68 1401.5,-68 1401.5,-68 1395.5,-68 1389.5,-62 1389.5,-56 1389.5,-56 1389.5,-12 1389.5,-12 1389.5,-6 1395.5,0 1401.5,0 1401.5,0 1536.5,0 1536.5,0 1542.5,0 1548.5,-6 1548.5,-12 1548.5,-12 1548.5,-56 1548.5,-56 1548.5,-62 1542.5,-68 1536.5,-68\"/>\n",
       "<text text-anchor=\"start\" x=\"1432.5\" y=\"-52.8\" font-family=\"Helvetica,sans-Serif\" font-size=\"14.00\" fill=\"#000000\">gini = 0.354</text>\n",
       "<text text-anchor=\"start\" x=\"1427\" y=\"-37.8\" font-family=\"Helvetica,sans-Serif\" font-size=\"14.00\" fill=\"#000000\">samples = 59</text>\n",
       "<text text-anchor=\"start\" x=\"1397.5\" y=\"-22.8\" font-family=\"Helvetica,sans-Serif\" font-size=\"14.00\" fill=\"#000000\">value = [33.018, 9.871]</text>\n",
       "<text text-anchor=\"start\" x=\"1420.5\" y=\"-7.8\" font-family=\"Helvetica,sans-Serif\" font-size=\"14.00\" fill=\"#000000\">class = Not quit</text>\n",
       "</g>\n",
       "<!-- 13&#45;&gt;15 -->\n",
       "<g id=\"edge15\" class=\"edge\">\n",
       "<title>13&#45;&gt;15</title>\n",
       "<path fill=\"none\" stroke=\"#000000\" d=\"M1354.1424,-103.9815C1370.5192,-94.0034 1387.9657,-83.3733 1404.1862,-73.4904\"/>\n",
       "<polygon fill=\"#000000\" stroke=\"#000000\" points=\"1406.3382,-76.2778 1413.0568,-68.0856 1402.6959,-70.2999 1406.3382,-76.2778\"/>\n",
       "</g>\n",
       "<!-- 17 -->\n",
       "<g id=\"node18\" class=\"node\">\n",
       "<title>17</title>\n",
       "<path fill=\"#f5ceb3\" stroke=\"#000000\" d=\"M2006.5,-306C2006.5,-306 1847.5,-306 1847.5,-306 1841.5,-306 1835.5,-300 1835.5,-294 1835.5,-294 1835.5,-235 1835.5,-235 1835.5,-229 1841.5,-223 1847.5,-223 1847.5,-223 2006.5,-223 2006.5,-223 2012.5,-223 2018.5,-229 2018.5,-235 2018.5,-235 2018.5,-294 2018.5,-294 2018.5,-300 2012.5,-306 2006.5,-306\"/>\n",
       "<text text-anchor=\"start\" x=\"1879.5\" y=\"-290.8\" font-family=\"Helvetica,sans-Serif\" font-size=\"14.00\" fill=\"#000000\">seniority ≤ 28.5</text>\n",
       "<text text-anchor=\"start\" x=\"1890.5\" y=\"-275.8\" font-family=\"Helvetica,sans-Serif\" font-size=\"14.00\" fill=\"#000000\">gini = 0.472</text>\n",
       "<text text-anchor=\"start\" x=\"1877\" y=\"-260.8\" font-family=\"Helvetica,sans-Serif\" font-size=\"14.00\" fill=\"#000000\">samples = 1340</text>\n",
       "<text text-anchor=\"start\" x=\"1843.5\" y=\"-245.8\" font-family=\"Helvetica,sans-Serif\" font-size=\"14.00\" fill=\"#000000\">value = [711.646, 437.598]</text>\n",
       "<text text-anchor=\"start\" x=\"1878.5\" y=\"-230.8\" font-family=\"Helvetica,sans-Serif\" font-size=\"14.00\" fill=\"#000000\">class = Not quit</text>\n",
       "</g>\n",
       "<!-- 16&#45;&gt;17 -->\n",
       "<g id=\"edge17\" class=\"edge\">\n",
       "<title>16&#45;&gt;17</title>\n",
       "<path fill=\"none\" stroke=\"#000000\" d=\"M1927,-341.8796C1927,-333.6838 1927,-324.9891 1927,-316.5013\"/>\n",
       "<polygon fill=\"#000000\" stroke=\"#000000\" points=\"1930.5001,-316.298 1927,-306.2981 1923.5001,-316.2981 1930.5001,-316.298\"/>\n",
       "</g>\n",
       "<!-- 24 -->\n",
       "<g id=\"node25\" class=\"node\">\n",
       "<title>24</title>\n",
       "<path fill=\"#f0b58b\" stroke=\"#000000\" d=\"M2286.5,-306C2286.5,-306 2127.5,-306 2127.5,-306 2121.5,-306 2115.5,-300 2115.5,-294 2115.5,-294 2115.5,-235 2115.5,-235 2115.5,-229 2121.5,-223 2127.5,-223 2127.5,-223 2286.5,-223 2286.5,-223 2292.5,-223 2298.5,-229 2298.5,-235 2298.5,-235 2298.5,-294 2298.5,-294 2298.5,-300 2292.5,-306 2286.5,-306\"/>\n",
       "<text text-anchor=\"start\" x=\"2151\" y=\"-290.8\" font-family=\"Helvetica,sans-Serif\" font-size=\"14.00\" fill=\"#000000\">salary ≤ 300500.0</text>\n",
       "<text text-anchor=\"start\" x=\"2170.5\" y=\"-275.8\" font-family=\"Helvetica,sans-Serif\" font-size=\"14.00\" fill=\"#000000\">gini = 0.414</text>\n",
       "<text text-anchor=\"start\" x=\"2161\" y=\"-260.8\" font-family=\"Helvetica,sans-Serif\" font-size=\"14.00\" fill=\"#000000\">samples = 826</text>\n",
       "<text text-anchor=\"start\" x=\"2123.5\" y=\"-245.8\" font-family=\"Helvetica,sans-Serif\" font-size=\"14.00\" fill=\"#000000\">value = [453.402, 187.542]</text>\n",
       "<text text-anchor=\"start\" x=\"2158.5\" y=\"-230.8\" font-family=\"Helvetica,sans-Serif\" font-size=\"14.00\" fill=\"#000000\">class = Not quit</text>\n",
       "</g>\n",
       "<!-- 16&#45;&gt;24 -->\n",
       "<g id=\"edge24\" class=\"edge\">\n",
       "<title>16&#45;&gt;24</title>\n",
       "<path fill=\"none\" stroke=\"#000000\" d=\"M2018.6825,-344.5349C2046.4814,-332.7204 2077.1773,-319.6747 2105.5762,-307.6051\"/>\n",
       "<polygon fill=\"#000000\" stroke=\"#000000\" points=\"2107.2772,-310.6852 2115.1115,-303.5526 2104.5392,-304.2429 2107.2772,-310.6852\"/>\n",
       "</g>\n",
       "<!-- 18 -->\n",
       "<g id=\"node19\" class=\"node\">\n",
       "<title>18</title>\n",
       "<path fill=\"#f6d2b8\" stroke=\"#000000\" d=\"M1925.5,-187C1925.5,-187 1766.5,-187 1766.5,-187 1760.5,-187 1754.5,-181 1754.5,-175 1754.5,-175 1754.5,-116 1754.5,-116 1754.5,-110 1760.5,-104 1766.5,-104 1766.5,-104 1925.5,-104 1925.5,-104 1931.5,-104 1937.5,-110 1937.5,-116 1937.5,-116 1937.5,-175 1937.5,-175 1937.5,-181 1931.5,-187 1925.5,-187\"/>\n",
       "<text text-anchor=\"start\" x=\"1790.5\" y=\"-171.8\" font-family=\"Helvetica,sans-Serif\" font-size=\"14.00\" fill=\"#000000\">company_id ≤ 2.5</text>\n",
       "<text text-anchor=\"start\" x=\"1809.5\" y=\"-156.8\" font-family=\"Helvetica,sans-Serif\" font-size=\"14.00\" fill=\"#000000\">gini = 0.476</text>\n",
       "<text text-anchor=\"start\" x=\"1796\" y=\"-141.8\" font-family=\"Helvetica,sans-Serif\" font-size=\"14.00\" fill=\"#000000\">samples = 1264</text>\n",
       "<text text-anchor=\"start\" x=\"1762.5\" y=\"-126.8\" font-family=\"Helvetica,sans-Serif\" font-size=\"14.00\" fill=\"#000000\">value = [668.605, 427.727]</text>\n",
       "<text text-anchor=\"start\" x=\"1797.5\" y=\"-111.8\" font-family=\"Helvetica,sans-Serif\" font-size=\"14.00\" fill=\"#000000\">class = Not quit</text>\n",
       "</g>\n",
       "<!-- 17&#45;&gt;18 -->\n",
       "<g id=\"edge18\" class=\"edge\">\n",
       "<title>17&#45;&gt;18</title>\n",
       "<path fill=\"none\" stroke=\"#000000\" d=\"M1898.6701,-222.8796C1892.7237,-214.1434 1886.3914,-204.8404 1880.255,-195.8253\"/>\n",
       "<polygon fill=\"#000000\" stroke=\"#000000\" points=\"1882.9711,-193.5953 1874.4508,-187.2981 1877.1844,-197.5342 1882.9711,-193.5953\"/>\n",
       "</g>\n",
       "<!-- 21 -->\n",
       "<g id=\"node22\" class=\"node\">\n",
       "<title>21</title>\n",
       "<path fill=\"#eb9e66\" stroke=\"#000000\" d=\"M2102.5,-187C2102.5,-187 1967.5,-187 1967.5,-187 1961.5,-187 1955.5,-181 1955.5,-175 1955.5,-175 1955.5,-116 1955.5,-116 1955.5,-110 1961.5,-104 1967.5,-104 1967.5,-104 2102.5,-104 2102.5,-104 2108.5,-104 2114.5,-110 2114.5,-116 2114.5,-116 2114.5,-175 2114.5,-175 2114.5,-181 2108.5,-187 2102.5,-187\"/>\n",
       "<text text-anchor=\"start\" x=\"1979.5\" y=\"-171.8\" font-family=\"Helvetica,sans-Serif\" font-size=\"14.00\" fill=\"#000000\">company_id ≤ 2.5</text>\n",
       "<text text-anchor=\"start\" x=\"1998.5\" y=\"-156.8\" font-family=\"Helvetica,sans-Serif\" font-size=\"14.00\" fill=\"#000000\">gini = 0.303</text>\n",
       "<text text-anchor=\"start\" x=\"1993\" y=\"-141.8\" font-family=\"Helvetica,sans-Serif\" font-size=\"14.00\" fill=\"#000000\">samples = 76</text>\n",
       "<text text-anchor=\"start\" x=\"1963.5\" y=\"-126.8\" font-family=\"Helvetica,sans-Serif\" font-size=\"14.00\" fill=\"#000000\">value = [43.041, 9.871]</text>\n",
       "<text text-anchor=\"start\" x=\"1986.5\" y=\"-111.8\" font-family=\"Helvetica,sans-Serif\" font-size=\"14.00\" fill=\"#000000\">class = Not quit</text>\n",
       "</g>\n",
       "<!-- 17&#45;&gt;21 -->\n",
       "<g id=\"edge21\" class=\"edge\">\n",
       "<title>17&#45;&gt;21</title>\n",
       "<path fill=\"none\" stroke=\"#000000\" d=\"M1964.7732,-222.8796C1973.0287,-213.7832 1981.842,-204.0722 1990.3374,-194.7116\"/>\n",
       "<polygon fill=\"#000000\" stroke=\"#000000\" points=\"1992.9368,-197.0553 1997.0656,-187.2981 1987.7533,-192.3509 1992.9368,-197.0553\"/>\n",
       "</g>\n",
       "<!-- 19 -->\n",
       "<g id=\"node20\" class=\"node\">\n",
       "<title>19</title>\n",
       "<path fill=\"#f8ddc9\" stroke=\"#000000\" d=\"M1737.5,-68C1737.5,-68 1578.5,-68 1578.5,-68 1572.5,-68 1566.5,-62 1566.5,-56 1566.5,-56 1566.5,-12 1566.5,-12 1566.5,-6 1572.5,0 1578.5,0 1578.5,0 1737.5,0 1737.5,0 1743.5,0 1749.5,-6 1749.5,-12 1749.5,-12 1749.5,-56 1749.5,-56 1749.5,-62 1743.5,-68 1737.5,-68\"/>\n",
       "<text text-anchor=\"start\" x=\"1621.5\" y=\"-52.8\" font-family=\"Helvetica,sans-Serif\" font-size=\"14.00\" fill=\"#000000\">gini = 0.488</text>\n",
       "<text text-anchor=\"start\" x=\"1612\" y=\"-37.8\" font-family=\"Helvetica,sans-Serif\" font-size=\"14.00\" fill=\"#000000\">samples = 692</text>\n",
       "<text text-anchor=\"start\" x=\"1574.5\" y=\"-22.8\" font-family=\"Helvetica,sans-Serif\" font-size=\"14.00\" fill=\"#000000\">value = [360.835, 263.217]</text>\n",
       "<text text-anchor=\"start\" x=\"1609.5\" y=\"-7.8\" font-family=\"Helvetica,sans-Serif\" font-size=\"14.00\" fill=\"#000000\">class = Not quit</text>\n",
       "</g>\n",
       "<!-- 18&#45;&gt;19 -->\n",
       "<g id=\"edge19\" class=\"edge\">\n",
       "<title>18&#45;&gt;19</title>\n",
       "<path fill=\"none\" stroke=\"#000000\" d=\"M1775.9957,-103.9815C1759.0158,-93.911 1740.9163,-83.1764 1724.1222,-73.2161\"/>\n",
       "<polygon fill=\"#000000\" stroke=\"#000000\" points=\"1725.8582,-70.1765 1715.4717,-68.0856 1722.2874,-76.1972 1725.8582,-70.1765\"/>\n",
       "</g>\n",
       "<!-- 20 -->\n",
       "<g id=\"node21\" class=\"node\">\n",
       "<title>20</title>\n",
       "<path fill=\"#f3c4a3\" stroke=\"#000000\" d=\"M1930.5,-68C1930.5,-68 1779.5,-68 1779.5,-68 1773.5,-68 1767.5,-62 1767.5,-56 1767.5,-56 1767.5,-12 1767.5,-12 1767.5,-6 1773.5,0 1779.5,0 1779.5,0 1930.5,0 1930.5,0 1936.5,0 1942.5,-6 1942.5,-12 1942.5,-12 1942.5,-56 1942.5,-56 1942.5,-62 1936.5,-68 1930.5,-68\"/>\n",
       "<text text-anchor=\"start\" x=\"1818.5\" y=\"-52.8\" font-family=\"Helvetica,sans-Serif\" font-size=\"14.00\" fill=\"#000000\">gini = 0.454</text>\n",
       "<text text-anchor=\"start\" x=\"1809\" y=\"-37.8\" font-family=\"Helvetica,sans-Serif\" font-size=\"14.00\" fill=\"#000000\">samples = 572</text>\n",
       "<text text-anchor=\"start\" x=\"1775.5\" y=\"-22.8\" font-family=\"Helvetica,sans-Serif\" font-size=\"14.00\" fill=\"#000000\">value = [307.771, 164.51]</text>\n",
       "<text text-anchor=\"start\" x=\"1806.5\" y=\"-7.8\" font-family=\"Helvetica,sans-Serif\" font-size=\"14.00\" fill=\"#000000\">class = Not quit</text>\n",
       "</g>\n",
       "<!-- 18&#45;&gt;20 -->\n",
       "<g id=\"edge20\" class=\"edge\">\n",
       "<title>18&#45;&gt;20</title>\n",
       "<path fill=\"none\" stroke=\"#000000\" d=\"M1849.3513,-103.9815C1850.0263,-95.618 1850.7384,-86.7965 1851.4209,-78.3409\"/>\n",
       "<polygon fill=\"#000000\" stroke=\"#000000\" points=\"1854.9183,-78.5129 1852.2343,-68.2637 1847.941,-77.9496 1854.9183,-78.5129\"/>\n",
       "</g>\n",
       "<!-- 22 -->\n",
       "<g id=\"node23\" class=\"node\">\n",
       "<title>22</title>\n",
       "<path fill=\"#e58139\" stroke=\"#000000\" d=\"M2093,-68C2093,-68 1973,-68 1973,-68 1967,-68 1961,-62 1961,-56 1961,-56 1961,-12 1961,-12 1961,-6 1967,0 1973,0 1973,0 2093,0 2093,0 2099,0 2105,-6 2105,-12 2105,-12 2105,-56 2105,-56 2105,-62 2099,-68 2093,-68\"/>\n",
       "<text text-anchor=\"start\" x=\"2004\" y=\"-52.8\" font-family=\"Helvetica,sans-Serif\" font-size=\"14.00\" fill=\"#000000\">gini = 0.0</text>\n",
       "<text text-anchor=\"start\" x=\"1991\" y=\"-37.8\" font-family=\"Helvetica,sans-Serif\" font-size=\"14.00\" fill=\"#000000\">samples = 39</text>\n",
       "<text text-anchor=\"start\" x=\"1969\" y=\"-22.8\" font-family=\"Helvetica,sans-Serif\" font-size=\"14.00\" fill=\"#000000\">value = [22.994, 0.0]</text>\n",
       "<text text-anchor=\"start\" x=\"1984.5\" y=\"-7.8\" font-family=\"Helvetica,sans-Serif\" font-size=\"14.00\" fill=\"#000000\">class = Not quit</text>\n",
       "</g>\n",
       "<!-- 21&#45;&gt;22 -->\n",
       "<g id=\"edge22\" class=\"edge\">\n",
       "<title>21&#45;&gt;22</title>\n",
       "<path fill=\"none\" stroke=\"#000000\" d=\"M2034.2553,-103.9815C2034.1053,-95.618 2033.947,-86.7965 2033.7954,-78.3409\"/>\n",
       "<polygon fill=\"#000000\" stroke=\"#000000\" points=\"2037.2935,-78.1993 2033.6146,-68.2637 2030.2946,-78.3249 2037.2935,-78.1993\"/>\n",
       "</g>\n",
       "<!-- 23 -->\n",
       "<g id=\"node24\" class=\"node\">\n",
       "<title>23</title>\n",
       "<path fill=\"#f2bf9a\" stroke=\"#000000\" d=\"M2270.5,-68C2270.5,-68 2135.5,-68 2135.5,-68 2129.5,-68 2123.5,-62 2123.5,-56 2123.5,-56 2123.5,-12 2123.5,-12 2123.5,-6 2129.5,0 2135.5,0 2135.5,0 2270.5,0 2270.5,0 2276.5,0 2282.5,-6 2282.5,-12 2282.5,-12 2282.5,-56 2282.5,-56 2282.5,-62 2276.5,-68 2270.5,-68\"/>\n",
       "<text text-anchor=\"start\" x=\"2166.5\" y=\"-52.8\" font-family=\"Helvetica,sans-Serif\" font-size=\"14.00\" fill=\"#000000\">gini = 0.442</text>\n",
       "<text text-anchor=\"start\" x=\"2161\" y=\"-37.8\" font-family=\"Helvetica,sans-Serif\" font-size=\"14.00\" fill=\"#000000\">samples = 37</text>\n",
       "<text text-anchor=\"start\" x=\"2131.5\" y=\"-22.8\" font-family=\"Helvetica,sans-Serif\" font-size=\"14.00\" fill=\"#000000\">value = [20.046, 9.871]</text>\n",
       "<text text-anchor=\"start\" x=\"2154.5\" y=\"-7.8\" font-family=\"Helvetica,sans-Serif\" font-size=\"14.00\" fill=\"#000000\">class = Not quit</text>\n",
       "</g>\n",
       "<!-- 21&#45;&gt;23 -->\n",
       "<g id=\"edge23\" class=\"edge\">\n",
       "<title>21&#45;&gt;23</title>\n",
       "<path fill=\"none\" stroke=\"#000000\" d=\"M2097.557,-103.9815C2112.4522,-94.0957 2128.3114,-83.5701 2143.0848,-73.7651\"/>\n",
       "<polygon fill=\"#000000\" stroke=\"#000000\" points=\"2145.2458,-76.5317 2151.6423,-68.0856 2141.3749,-70.6993 2145.2458,-76.5317\"/>\n",
       "</g>\n",
       "<!-- 25 -->\n",
       "<g id=\"node26\" class=\"node\">\n",
       "<title>25</title>\n",
       "<path fill=\"#e58139\" stroke=\"#000000\" d=\"M2267,-179.5C2267,-179.5 2147,-179.5 2147,-179.5 2141,-179.5 2135,-173.5 2135,-167.5 2135,-167.5 2135,-123.5 2135,-123.5 2135,-117.5 2141,-111.5 2147,-111.5 2147,-111.5 2267,-111.5 2267,-111.5 2273,-111.5 2279,-117.5 2279,-123.5 2279,-123.5 2279,-167.5 2279,-167.5 2279,-173.5 2273,-179.5 2267,-179.5\"/>\n",
       "<text text-anchor=\"start\" x=\"2178\" y=\"-164.3\" font-family=\"Helvetica,sans-Serif\" font-size=\"14.00\" fill=\"#000000\">gini = 0.0</text>\n",
       "<text text-anchor=\"start\" x=\"2165\" y=\"-149.3\" font-family=\"Helvetica,sans-Serif\" font-size=\"14.00\" fill=\"#000000\">samples = 64</text>\n",
       "<text text-anchor=\"start\" x=\"2143\" y=\"-134.3\" font-family=\"Helvetica,sans-Serif\" font-size=\"14.00\" fill=\"#000000\">value = [37.734, 0.0]</text>\n",
       "<text text-anchor=\"start\" x=\"2158.5\" y=\"-119.3\" font-family=\"Helvetica,sans-Serif\" font-size=\"14.00\" fill=\"#000000\">class = Not quit</text>\n",
       "</g>\n",
       "<!-- 24&#45;&gt;25 -->\n",
       "<g id=\"edge25\" class=\"edge\">\n",
       "<title>24&#45;&gt;25</title>\n",
       "<path fill=\"none\" stroke=\"#000000\" d=\"M2207,-222.8796C2207,-212.2134 2207,-200.7021 2207,-189.9015\"/>\n",
       "<polygon fill=\"#000000\" stroke=\"#000000\" points=\"2210.5001,-189.8149 2207,-179.8149 2203.5001,-189.815 2210.5001,-189.8149\"/>\n",
       "</g>\n",
       "<!-- 26 -->\n",
       "<g id=\"node27\" class=\"node\">\n",
       "<title>26</title>\n",
       "<path fill=\"#f1ba92\" stroke=\"#000000\" d=\"M2471.5,-187C2471.5,-187 2312.5,-187 2312.5,-187 2306.5,-187 2300.5,-181 2300.5,-175 2300.5,-175 2300.5,-116 2300.5,-116 2300.5,-110 2306.5,-104 2312.5,-104 2312.5,-104 2471.5,-104 2471.5,-104 2477.5,-104 2483.5,-110 2483.5,-116 2483.5,-116 2483.5,-175 2483.5,-175 2483.5,-181 2477.5,-187 2471.5,-187\"/>\n",
       "<text text-anchor=\"start\" x=\"2336.5\" y=\"-171.8\" font-family=\"Helvetica,sans-Serif\" font-size=\"14.00\" fill=\"#000000\">company_id ≤ 1.5</text>\n",
       "<text text-anchor=\"start\" x=\"2355.5\" y=\"-156.8\" font-family=\"Helvetica,sans-Serif\" font-size=\"14.00\" fill=\"#000000\">gini = 0.428</text>\n",
       "<text text-anchor=\"start\" x=\"2346\" y=\"-141.8\" font-family=\"Helvetica,sans-Serif\" font-size=\"14.00\" fill=\"#000000\">samples = 762</text>\n",
       "<text text-anchor=\"start\" x=\"2308.5\" y=\"-126.8\" font-family=\"Helvetica,sans-Serif\" font-size=\"14.00\" fill=\"#000000\">value = [415.667, 187.542]</text>\n",
       "<text text-anchor=\"start\" x=\"2343.5\" y=\"-111.8\" font-family=\"Helvetica,sans-Serif\" font-size=\"14.00\" fill=\"#000000\">class = Not quit</text>\n",
       "</g>\n",
       "<!-- 24&#45;&gt;26 -->\n",
       "<g id=\"edge26\" class=\"edge\">\n",
       "<title>24&#45;&gt;26</title>\n",
       "<path fill=\"none\" stroke=\"#000000\" d=\"M2271.704,-222.8796C2286.9135,-213.0962 2303.2282,-202.6019 2318.7818,-192.5971\"/>\n",
       "<polygon fill=\"#000000\" stroke=\"#000000\" points=\"2320.8157,-195.4505 2327.3325,-187.0969 2317.0287,-189.5632 2320.8157,-195.4505\"/>\n",
       "</g>\n",
       "<!-- 27 -->\n",
       "<g id=\"node28\" class=\"node\">\n",
       "<title>27</title>\n",
       "<path fill=\"#f4c8a8\" stroke=\"#000000\" d=\"M2471.5,-68C2471.5,-68 2312.5,-68 2312.5,-68 2306.5,-68 2300.5,-62 2300.5,-56 2300.5,-56 2300.5,-12 2300.5,-12 2300.5,-6 2306.5,0 2312.5,0 2312.5,0 2471.5,0 2471.5,0 2477.5,0 2483.5,-6 2483.5,-12 2483.5,-12 2483.5,-56 2483.5,-56 2483.5,-62 2477.5,-68 2471.5,-68\"/>\n",
       "<text text-anchor=\"start\" x=\"2355.5\" y=\"-52.8\" font-family=\"Helvetica,sans-Serif\" font-size=\"14.00\" fill=\"#000000\">gini = 0.461</text>\n",
       "<text text-anchor=\"start\" x=\"2346\" y=\"-37.8\" font-family=\"Helvetica,sans-Serif\" font-size=\"14.00\" fill=\"#000000\">samples = 481</text>\n",
       "<text text-anchor=\"start\" x=\"2308.5\" y=\"-22.8\" font-family=\"Helvetica,sans-Serif\" font-size=\"14.00\" fill=\"#000000\">value = [257.655, 144.769]</text>\n",
       "<text text-anchor=\"start\" x=\"2343.5\" y=\"-7.8\" font-family=\"Helvetica,sans-Serif\" font-size=\"14.00\" fill=\"#000000\">class = Not quit</text>\n",
       "</g>\n",
       "<!-- 26&#45;&gt;27 -->\n",
       "<g id=\"edge27\" class=\"edge\">\n",
       "<title>26&#45;&gt;27</title>\n",
       "<path fill=\"none\" stroke=\"#000000\" d=\"M2392,-103.9815C2392,-95.618 2392,-86.7965 2392,-78.3409\"/>\n",
       "<polygon fill=\"#000000\" stroke=\"#000000\" points=\"2395.5001,-78.2636 2392,-68.2637 2388.5001,-78.2637 2395.5001,-78.2636\"/>\n",
       "</g>\n",
       "<!-- 28 -->\n",
       "<g id=\"node29\" class=\"node\">\n",
       "<title>28</title>\n",
       "<path fill=\"#eca36f\" stroke=\"#000000\" d=\"M2664.5,-68C2664.5,-68 2513.5,-68 2513.5,-68 2507.5,-68 2501.5,-62 2501.5,-56 2501.5,-56 2501.5,-12 2501.5,-12 2501.5,-6 2507.5,0 2513.5,0 2513.5,0 2664.5,0 2664.5,0 2670.5,0 2676.5,-6 2676.5,-12 2676.5,-12 2676.5,-56 2676.5,-56 2676.5,-62 2670.5,-68 2664.5,-68\"/>\n",
       "<text text-anchor=\"start\" x=\"2552.5\" y=\"-52.8\" font-family=\"Helvetica,sans-Serif\" font-size=\"14.00\" fill=\"#000000\">gini = 0.335</text>\n",
       "<text text-anchor=\"start\" x=\"2543\" y=\"-37.8\" font-family=\"Helvetica,sans-Serif\" font-size=\"14.00\" fill=\"#000000\">samples = 281</text>\n",
       "<text text-anchor=\"start\" x=\"2509.5\" y=\"-22.8\" font-family=\"Helvetica,sans-Serif\" font-size=\"14.00\" fill=\"#000000\">value = [158.013, 42.773]</text>\n",
       "<text text-anchor=\"start\" x=\"2540.5\" y=\"-7.8\" font-family=\"Helvetica,sans-Serif\" font-size=\"14.00\" fill=\"#000000\">class = Not quit</text>\n",
       "</g>\n",
       "<!-- 26&#45;&gt;28 -->\n",
       "<g id=\"edge28\" class=\"edge\">\n",
       "<title>26&#45;&gt;28</title>\n",
       "<path fill=\"none\" stroke=\"#000000\" d=\"M2465.3555,-103.9815C2483.1483,-93.911 2502.1143,-83.1764 2519.7124,-73.2161\"/>\n",
       "<polygon fill=\"#000000\" stroke=\"#000000\" points=\"2521.7982,-76.0573 2528.777,-68.0856 2518.3502,-69.9654 2521.7982,-76.0573\"/>\n",
       "</g>\n",
       "</g>\n",
       "</svg>\n"
      ],
      "text/plain": [
       "<graphviz.files.Source at 0x122db3780>"
      ]
     },
     "execution_count": 148,
     "metadata": {},
     "output_type": "execute_result"
    }
   ],
   "source": [
    "import graphviz\n",
    "from sklearn import tree\n",
    "\n",
    "\n",
    "features = list(X_train.columns)\n",
    "targets = ['Not quit', 'Quit']\n",
    "dot_data = tree.export_graphviz(DT, out_file=None, feature_names=features, class_names=targets, \n",
    "                                filled=True, rounded=True, special_characters=True, )  \n",
    "graph = graphviz.Source(dot_data)\n",
    "graph"
   ]
  },
  {
   "cell_type": "code",
   "execution_count": 166,
   "metadata": {
    "collapsed": false
   },
   "outputs": [
    {
     "data": {
      "image/png": "[encoded data removed]",
      "text/plain": [
       "<Figure size 864x576 with 1 Axes>"
      ]
     },
     "metadata": {
      "needs_background": "light"
     },
     "output_type": "display_data"
    }
   ],
   "source": [
    "salary_quit = df[df.quit_class == 1].salary\n",
    "salary_stay = df[df.quit_class == 0].salary\n",
    "\n",
    "fig, ax = plt.subplots(figsize=(12, 8))\n",
    "sns.distplot(salary_quit, bins=100, label='quit',ax=ax)\n",
    "sns.distplot(salary_stay, bins=100, label='no quit',ax=ax)\n",
    "ax.legend()\n",
    "plt.show()"
   ]
  },
  {
   "cell_type": "code",
   "execution_count": 175,
   "metadata": {
    "collapsed": true
   },
   "outputs": [],
   "source": [
    "bins = pd.cut(df.salary,10)"
   ]
  },
  {
   "cell_type": "code",
   "execution_count": 181,
   "metadata": {
    "collapsed": false
   },
   "outputs": [
    {
     "data": {
      "text/html": [
       "<div>\n",
       "<style scoped>\n",
       "    .dataframe tbody tr th:only-of-type {\n",
       "        vertical-align: middle;\n",
       "    }\n",
       "\n",
       "    .dataframe tbody tr th {\n",
       "        vertical-align: top;\n",
       "    }\n",
       "\n",
       "    .dataframe thead th {\n",
       "        text-align: right;\n",
       "    }\n",
       "</style>\n",
       "<table border=\"1\" class=\"dataframe\">\n",
       "  <thead>\n",
       "    <tr style=\"text-align: right;\">\n",
       "      <th></th>\n",
       "      <th>salary</th>\n",
       "      <th>quit_class</th>\n",
       "    </tr>\n",
       "  </thead>\n",
       "  <tbody>\n",
       "    <tr>\n",
       "      <th>0</th>\n",
       "      <td>(16609.0, 56100.0]</td>\n",
       "      <td>0.131324</td>\n",
       "    </tr>\n",
       "    <tr>\n",
       "      <th>1</th>\n",
       "      <td>(56100.0, 95200.0]</td>\n",
       "      <td>0.157685</td>\n",
       "    </tr>\n",
       "    <tr>\n",
       "      <th>2</th>\n",
       "      <td>(95200.0, 134300.0]</td>\n",
       "      <td>0.167780</td>\n",
       "    </tr>\n",
       "    <tr>\n",
       "      <th>3</th>\n",
       "      <td>(134300.0, 173400.0]</td>\n",
       "      <td>0.172108</td>\n",
       "    </tr>\n",
       "    <tr>\n",
       "      <th>4</th>\n",
       "      <td>(173400.0, 212500.0]</td>\n",
       "      <td>0.159135</td>\n",
       "    </tr>\n",
       "    <tr>\n",
       "      <th>5</th>\n",
       "      <td>(212500.0, 251600.0]</td>\n",
       "      <td>0.130313</td>\n",
       "    </tr>\n",
       "    <tr>\n",
       "      <th>6</th>\n",
       "      <td>(251600.0, 290700.0]</td>\n",
       "      <td>0.093831</td>\n",
       "    </tr>\n",
       "    <tr>\n",
       "      <th>7</th>\n",
       "      <td>(290700.0, 329800.0]</td>\n",
       "      <td>0.079958</td>\n",
       "    </tr>\n",
       "    <tr>\n",
       "      <th>8</th>\n",
       "      <td>(329800.0, 368900.0]</td>\n",
       "      <td>0.062937</td>\n",
       "    </tr>\n",
       "    <tr>\n",
       "      <th>9</th>\n",
       "      <td>(368900.0, 408000.0]</td>\n",
       "      <td>0.058824</td>\n",
       "    </tr>\n",
       "  </tbody>\n",
       "</table>\n",
       "</div>"
      ],
      "text/plain": [
       "                 salary  quit_class\n",
       "0    (16609.0, 56100.0]    0.131324\n",
       "1    (56100.0, 95200.0]    0.157685\n",
       "2   (95200.0, 134300.0]    0.167780\n",
       "3  (134300.0, 173400.0]    0.172108\n",
       "4  (173400.0, 212500.0]    0.159135\n",
       "5  (212500.0, 251600.0]    0.130313\n",
       "6  (251600.0, 290700.0]    0.093831\n",
       "7  (290700.0, 329800.0]    0.079958\n",
       "8  (329800.0, 368900.0]    0.062937\n",
       "9  (368900.0, 408000.0]    0.058824"
      ]
     },
     "execution_count": 181,
     "metadata": {},
     "output_type": "execute_result"
    }
   ],
   "source": [
    "df_salary = df.groupby(bins)['quit_class'].mean().reset_index()\n",
    "ax.tick_params(labelrotation=90)\n",
    "df_salary"
   ]
  },
  {
   "cell_type": "code",
   "execution_count": 183,
   "metadata": {
    "collapsed": false
   },
   "outputs": [
    {
     "data": {
      "image/png": "[encoded data removed]",
      "text/plain": [
       "<Figure size 720x432 with 1 Axes>"
      ]
     },
     "metadata": {
      "needs_background": "light"
     },
     "output_type": "display_data"
    }
   ],
   "source": [
    "fig, ax = plt.subplots(figsize=(10, 6))\n",
    "sns.barplot(x='salary', y='quit_class', data=df_salary, ax=ax)\n",
    "ax.tick_params(labelrotation=90)"
   ]
  },
  {
   "cell_type": "code",
   "execution_count": null,
   "metadata": {
    "collapsed": true
   },
   "outputs": [],
   "source": []
  }
 ],
 "metadata": {
  "kernelspec": {
   "display_name": "Python 3",
   "language": "python",
   "name": "python3"
  },
  "language_info": {
   "codemirror_mode": {
    "name": "ipython",
    "version": 3
   },
   "file_extension": ".py",
   "mimetype": "text/x-python",
   "name": "python",
   "nbconvert_exporter": "python",
   "pygments_lexer": "ipython3",
   "version": "3.7.3"
  }
 },
 "nbformat": 4,
 "nbformat_minor": 0
}

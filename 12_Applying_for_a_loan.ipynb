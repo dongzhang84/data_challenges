{
 "cells": [
  {
   "cell_type": "markdown",
   "metadata": {},
   "source": [
    "# Applying for a Loan\n",
    "\n",
    "## Goal\n",
    "\n",
    "Another area where data science and machine learning play a huge role is in choosing if granting a loan. This is a particularly hot field as many start-ups feel that bank loan models can be improved. Therefore, there is space to come up with better loaning strategies that can benefit both the lender and the borrower.\n",
    "\n",
    "In this challenge, you will have access to loan data from a bank and will have to improve their model.\n",
    "\n",
    "\n",
    "## Challenge Description\n",
    "\n",
    "We have access to a specific bank loan data. We have data about all loans asked to the bank, whether the bank decided to grant it and, finally, whether the borrower managed to repay it. We also have info about the person asking for the loan at the moment she is asking for the loan.\n",
    "\n",
    "You have to come up with a better strategy to grant loans. Specifically you should:\n",
    "\n",
    "- Build a model which is better than the bank model. Assume that:\n",
    "\n",
    "If you grant the loan and the it doesn’t get repaid, you lose 1.\n",
    "\n",
    "If you grant the loan and the it does get repaid, you gain 1\n",
    "\n",
    "If you don’t grant the loan, you gain 0.\n",
    "\n",
    "- Using the rules above, compare bank profitability vs your model profitability.\n",
    "\n",
    "\n",
    "- Describe the impact of the most important variables on the prediction. Also, focus on the variable “is_employed”, which describes whether the borrower is employed when she asks for the loan. How does this variable impact the model? Explain why.\n",
    "\n",
    "\n",
    "- Are there any other variables you’d like to include in the model?\n"
   ]
  },
  {
   "cell_type": "code",
   "execution_count": 3,
   "metadata": {
    "collapsed": false
   },
   "outputs": [
    {
     "name": "stdout",
     "output_type": "stream",
     "text": [
      "12_Applying_for_a_loan.ipynb  loan_table.csv\r\n",
      "borrower_table.csv\r\n"
     ]
    }
   ],
   "source": [
    "ls"
   ]
  },
  {
   "cell_type": "code",
   "execution_count": 4,
   "metadata": {
    "collapsed": true
   },
   "outputs": [],
   "source": [
    "import numpy as np\n",
    "import pandas as pd\n",
    "import matplotlib.pyplot as plt\n",
    "import seaborn as sns"
   ]
  },
  {
   "cell_type": "code",
   "execution_count": 5,
   "metadata": {
    "collapsed": false
   },
   "outputs": [
    {
     "name": "stdout",
     "output_type": "stream",
     "text": [
      "(101100, 5)\n"
     ]
    },
    {
     "data": {
      "text/html": [
       "<div>\n",
       "<style scoped>\n",
       "    .dataframe tbody tr th:only-of-type {\n",
       "        vertical-align: middle;\n",
       "    }\n",
       "\n",
       "    .dataframe tbody tr th {\n",
       "        vertical-align: top;\n",
       "    }\n",
       "\n",
       "    .dataframe thead th {\n",
       "        text-align: right;\n",
       "    }\n",
       "</style>\n",
       "<table border=\"1\" class=\"dataframe\">\n",
       "  <thead>\n",
       "    <tr style=\"text-align: right;\">\n",
       "      <th></th>\n",
       "      <th>loan_id</th>\n",
       "      <th>loan_purpose</th>\n",
       "      <th>date</th>\n",
       "      <th>loan_granted</th>\n",
       "      <th>loan_repaid</th>\n",
       "    </tr>\n",
       "  </thead>\n",
       "  <tbody>\n",
       "    <tr>\n",
       "      <th>0</th>\n",
       "      <td>19454</td>\n",
       "      <td>investment</td>\n",
       "      <td>2012-03-15</td>\n",
       "      <td>0</td>\n",
       "      <td>NaN</td>\n",
       "    </tr>\n",
       "    <tr>\n",
       "      <th>1</th>\n",
       "      <td>496811</td>\n",
       "      <td>investment</td>\n",
       "      <td>2012-01-17</td>\n",
       "      <td>0</td>\n",
       "      <td>NaN</td>\n",
       "    </tr>\n",
       "    <tr>\n",
       "      <th>2</th>\n",
       "      <td>929493</td>\n",
       "      <td>other</td>\n",
       "      <td>2012-02-09</td>\n",
       "      <td>0</td>\n",
       "      <td>NaN</td>\n",
       "    </tr>\n",
       "    <tr>\n",
       "      <th>3</th>\n",
       "      <td>580653</td>\n",
       "      <td>other</td>\n",
       "      <td>2012-06-27</td>\n",
       "      <td>1</td>\n",
       "      <td>1.0</td>\n",
       "    </tr>\n",
       "    <tr>\n",
       "      <th>4</th>\n",
       "      <td>172419</td>\n",
       "      <td>business</td>\n",
       "      <td>2012-05-21</td>\n",
       "      <td>1</td>\n",
       "      <td>0.0</td>\n",
       "    </tr>\n",
       "    <tr>\n",
       "      <th>5</th>\n",
       "      <td>77085</td>\n",
       "      <td>other</td>\n",
       "      <td>2012-08-31</td>\n",
       "      <td>0</td>\n",
       "      <td>NaN</td>\n",
       "    </tr>\n",
       "    <tr>\n",
       "      <th>6</th>\n",
       "      <td>780070</td>\n",
       "      <td>business</td>\n",
       "      <td>2012-03-14</td>\n",
       "      <td>1</td>\n",
       "      <td>1.0</td>\n",
       "    </tr>\n",
       "    <tr>\n",
       "      <th>7</th>\n",
       "      <td>303138</td>\n",
       "      <td>emergency_funds</td>\n",
       "      <td>2012-08-31</td>\n",
       "      <td>1</td>\n",
       "      <td>0.0</td>\n",
       "    </tr>\n",
       "    <tr>\n",
       "      <th>8</th>\n",
       "      <td>91475</td>\n",
       "      <td>investment</td>\n",
       "      <td>2012-05-25</td>\n",
       "      <td>1</td>\n",
       "      <td>1.0</td>\n",
       "    </tr>\n",
       "    <tr>\n",
       "      <th>9</th>\n",
       "      <td>422392</td>\n",
       "      <td>business</td>\n",
       "      <td>2012-10-25</td>\n",
       "      <td>0</td>\n",
       "      <td>NaN</td>\n",
       "    </tr>\n",
       "  </tbody>\n",
       "</table>\n",
       "</div>"
      ],
      "text/plain": [
       "   loan_id     loan_purpose        date  loan_granted  loan_repaid\n",
       "0    19454       investment  2012-03-15             0          NaN\n",
       "1   496811       investment  2012-01-17             0          NaN\n",
       "2   929493            other  2012-02-09             0          NaN\n",
       "3   580653            other  2012-06-27             1          1.0\n",
       "4   172419         business  2012-05-21             1          0.0\n",
       "5    77085            other  2012-08-31             0          NaN\n",
       "6   780070         business  2012-03-14             1          1.0\n",
       "7   303138  emergency_funds  2012-08-31             1          0.0\n",
       "8    91475       investment  2012-05-25             1          1.0\n",
       "9   422392         business  2012-10-25             0          NaN"
      ]
     },
     "execution_count": 5,
     "metadata": {},
     "output_type": "execute_result"
    }
   ],
   "source": [
    "df_loan = pd.read_csv('loan_table.csv')\n",
    "\n",
    "print(df_loan.shape)\n",
    "df_loan.head(10)"
   ]
  },
  {
   "cell_type": "markdown",
   "metadata": {},
   "source": [
    "- loan_id : the id of the loan. Unique by loan. Can be joined to loan id in the other table\n",
    "- loan_purpose : the reason for asking the loan: investment, other, business, emergency_funds, home\n",
    "- date : when the loan was asked\n",
    "- loan_granted : whether the loan was granted\n",
    "- loan_repaid : whether the loan was repaid. NA means that the loan was not granted"
   ]
  },
  {
   "cell_type": "code",
   "execution_count": 6,
   "metadata": {
    "collapsed": false
   },
   "outputs": [
    {
     "name": "stdout",
     "output_type": "stream",
     "text": [
      "(101100, 12)\n"
     ]
    },
    {
     "data": {
      "text/html": [
       "<div>\n",
       "<style scoped>\n",
       "    .dataframe tbody tr th:only-of-type {\n",
       "        vertical-align: middle;\n",
       "    }\n",
       "\n",
       "    .dataframe tbody tr th {\n",
       "        vertical-align: top;\n",
       "    }\n",
       "\n",
       "    .dataframe thead th {\n",
       "        text-align: right;\n",
       "    }\n",
       "</style>\n",
       "<table border=\"1\" class=\"dataframe\">\n",
       "  <thead>\n",
       "    <tr style=\"text-align: right;\">\n",
       "      <th></th>\n",
       "      <th>loan_id</th>\n",
       "      <th>is_first_loan</th>\n",
       "      <th>fully_repaid_previous_loans</th>\n",
       "      <th>currently_repaying_other_loans</th>\n",
       "      <th>total_credit_card_limit</th>\n",
       "      <th>avg_percentage_credit_card_limit_used_last_year</th>\n",
       "      <th>saving_amount</th>\n",
       "      <th>checking_amount</th>\n",
       "      <th>is_employed</th>\n",
       "      <th>yearly_salary</th>\n",
       "      <th>age</th>\n",
       "      <th>dependent_number</th>\n",
       "    </tr>\n",
       "  </thead>\n",
       "  <tbody>\n",
       "    <tr>\n",
       "      <th>0</th>\n",
       "      <td>289774</td>\n",
       "      <td>1</td>\n",
       "      <td>NaN</td>\n",
       "      <td>NaN</td>\n",
       "      <td>8000</td>\n",
       "      <td>0.49</td>\n",
       "      <td>3285</td>\n",
       "      <td>1073</td>\n",
       "      <td>0</td>\n",
       "      <td>0</td>\n",
       "      <td>47</td>\n",
       "      <td>3</td>\n",
       "    </tr>\n",
       "    <tr>\n",
       "      <th>1</th>\n",
       "      <td>482590</td>\n",
       "      <td>0</td>\n",
       "      <td>1.0</td>\n",
       "      <td>0.0</td>\n",
       "      <td>4500</td>\n",
       "      <td>1.03</td>\n",
       "      <td>636</td>\n",
       "      <td>5299</td>\n",
       "      <td>1</td>\n",
       "      <td>13500</td>\n",
       "      <td>33</td>\n",
       "      <td>1</td>\n",
       "    </tr>\n",
       "    <tr>\n",
       "      <th>2</th>\n",
       "      <td>135565</td>\n",
       "      <td>1</td>\n",
       "      <td>NaN</td>\n",
       "      <td>NaN</td>\n",
       "      <td>6900</td>\n",
       "      <td>0.82</td>\n",
       "      <td>2085</td>\n",
       "      <td>3422</td>\n",
       "      <td>1</td>\n",
       "      <td>24500</td>\n",
       "      <td>38</td>\n",
       "      <td>8</td>\n",
       "    </tr>\n",
       "    <tr>\n",
       "      <th>3</th>\n",
       "      <td>207797</td>\n",
       "      <td>0</td>\n",
       "      <td>1.0</td>\n",
       "      <td>0.0</td>\n",
       "      <td>1200</td>\n",
       "      <td>0.82</td>\n",
       "      <td>358</td>\n",
       "      <td>3388</td>\n",
       "      <td>0</td>\n",
       "      <td>0</td>\n",
       "      <td>24</td>\n",
       "      <td>1</td>\n",
       "    </tr>\n",
       "    <tr>\n",
       "      <th>4</th>\n",
       "      <td>828078</td>\n",
       "      <td>0</td>\n",
       "      <td>0.0</td>\n",
       "      <td>0.0</td>\n",
       "      <td>6900</td>\n",
       "      <td>0.80</td>\n",
       "      <td>2138</td>\n",
       "      <td>4282</td>\n",
       "      <td>1</td>\n",
       "      <td>18100</td>\n",
       "      <td>36</td>\n",
       "      <td>1</td>\n",
       "    </tr>\n",
       "    <tr>\n",
       "      <th>5</th>\n",
       "      <td>423171</td>\n",
       "      <td>1</td>\n",
       "      <td>NaN</td>\n",
       "      <td>NaN</td>\n",
       "      <td>6100</td>\n",
       "      <td>0.53</td>\n",
       "      <td>6163</td>\n",
       "      <td>5298</td>\n",
       "      <td>1</td>\n",
       "      <td>29500</td>\n",
       "      <td>24</td>\n",
       "      <td>1</td>\n",
       "    </tr>\n",
       "    <tr>\n",
       "      <th>6</th>\n",
       "      <td>568977</td>\n",
       "      <td>1</td>\n",
       "      <td>NaN</td>\n",
       "      <td>NaN</td>\n",
       "      <td>600</td>\n",
       "      <td>0.89</td>\n",
       "      <td>305</td>\n",
       "      <td>1456</td>\n",
       "      <td>0</td>\n",
       "      <td>0</td>\n",
       "      <td>50</td>\n",
       "      <td>2</td>\n",
       "    </tr>\n",
       "    <tr>\n",
       "      <th>7</th>\n",
       "      <td>200139</td>\n",
       "      <td>1</td>\n",
       "      <td>NaN</td>\n",
       "      <td>NaN</td>\n",
       "      <td>4000</td>\n",
       "      <td>0.57</td>\n",
       "      <td>602</td>\n",
       "      <td>2757</td>\n",
       "      <td>1</td>\n",
       "      <td>31700</td>\n",
       "      <td>36</td>\n",
       "      <td>8</td>\n",
       "    </tr>\n",
       "    <tr>\n",
       "      <th>8</th>\n",
       "      <td>991294</td>\n",
       "      <td>0</td>\n",
       "      <td>1.0</td>\n",
       "      <td>0.0</td>\n",
       "      <td>7000</td>\n",
       "      <td>0.52</td>\n",
       "      <td>2575</td>\n",
       "      <td>2917</td>\n",
       "      <td>1</td>\n",
       "      <td>58900</td>\n",
       "      <td>33</td>\n",
       "      <td>3</td>\n",
       "    </tr>\n",
       "    <tr>\n",
       "      <th>9</th>\n",
       "      <td>875332</td>\n",
       "      <td>0</td>\n",
       "      <td>1.0</td>\n",
       "      <td>0.0</td>\n",
       "      <td>4300</td>\n",
       "      <td>0.83</td>\n",
       "      <td>722</td>\n",
       "      <td>892</td>\n",
       "      <td>1</td>\n",
       "      <td>5400</td>\n",
       "      <td>32</td>\n",
       "      <td>7</td>\n",
       "    </tr>\n",
       "  </tbody>\n",
       "</table>\n",
       "</div>"
      ],
      "text/plain": [
       "   loan_id  is_first_loan  fully_repaid_previous_loans  \\\n",
       "0   289774              1                          NaN   \n",
       "1   482590              0                          1.0   \n",
       "2   135565              1                          NaN   \n",
       "3   207797              0                          1.0   \n",
       "4   828078              0                          0.0   \n",
       "5   423171              1                          NaN   \n",
       "6   568977              1                          NaN   \n",
       "7   200139              1                          NaN   \n",
       "8   991294              0                          1.0   \n",
       "9   875332              0                          1.0   \n",
       "\n",
       "   currently_repaying_other_loans  total_credit_card_limit  \\\n",
       "0                             NaN                     8000   \n",
       "1                             0.0                     4500   \n",
       "2                             NaN                     6900   \n",
       "3                             0.0                     1200   \n",
       "4                             0.0                     6900   \n",
       "5                             NaN                     6100   \n",
       "6                             NaN                      600   \n",
       "7                             NaN                     4000   \n",
       "8                             0.0                     7000   \n",
       "9                             0.0                     4300   \n",
       "\n",
       "   avg_percentage_credit_card_limit_used_last_year  saving_amount  \\\n",
       "0                                             0.49           3285   \n",
       "1                                             1.03            636   \n",
       "2                                             0.82           2085   \n",
       "3                                             0.82            358   \n",
       "4                                             0.80           2138   \n",
       "5                                             0.53           6163   \n",
       "6                                             0.89            305   \n",
       "7                                             0.57            602   \n",
       "8                                             0.52           2575   \n",
       "9                                             0.83            722   \n",
       "\n",
       "   checking_amount  is_employed  yearly_salary  age  dependent_number  \n",
       "0             1073            0              0   47                 3  \n",
       "1             5299            1          13500   33                 1  \n",
       "2             3422            1          24500   38                 8  \n",
       "3             3388            0              0   24                 1  \n",
       "4             4282            1          18100   36                 1  \n",
       "5             5298            1          29500   24                 1  \n",
       "6             1456            0              0   50                 2  \n",
       "7             2757            1          31700   36                 8  \n",
       "8             2917            1          58900   33                 3  \n",
       "9              892            1           5400   32                 7  "
      ]
     },
     "execution_count": 6,
     "metadata": {},
     "output_type": "execute_result"
    }
   ],
   "source": [
    "df_borrow = pd.read_csv('borrower_table.csv')\n",
    "\n",
    "print(df_borrow.shape)\n",
    "df_borrow.head(10)"
   ]
  },
  {
   "cell_type": "markdown",
   "metadata": {},
   "source": [
    "- loan_id : the id of the the loan. Unique by loan. Can be joined to loan id in the other table\n",
    "- is_first_loan : did she ask for any other loans in her lifetime?\n",
    "- fully_repaid_previous_loans : did she pay on time all of her previous loans? If this is the first loan, it is NA\n",
    "- currently_repaying_other_loans : is she currently repaying any other loans? If this is the first loan, it is NA\n",
    "- total_credit_card_limit : total credit card monthly limit\n",
    "- avg_percentage_credit_card_limit_used_last_year : on an average, how much did she use of her credit card limit in the previous 12 months. This number can be >1 since it is possible to go above the credit card limit\n",
    "- saving_amount : total saving amount balance when she asked for the loan\n",
    "- checking_amount : total checking amount balance when she asked for the loan\n",
    "- is_employed : whether she is employed (1) or not (0)\n",
    "- yearly_salary : how much she earned in the previous year\n",
    "- age : her age\n",
    "- dependent_number : number of people she claims as dependent"
   ]
  },
  {
   "cell_type": "code",
   "execution_count": 7,
   "metadata": {
    "collapsed": false
   },
   "outputs": [
    {
     "data": {
      "text/plain": [
       "loan_id           int64\n",
       "loan_purpose     object\n",
       "date             object\n",
       "loan_granted      int64\n",
       "loan_repaid     float64\n",
       "dtype: object"
      ]
     },
     "execution_count": 7,
     "metadata": {},
     "output_type": "execute_result"
    }
   ],
   "source": [
    "df_loan.dtypes"
   ]
  },
  {
   "cell_type": "code",
   "execution_count": 8,
   "metadata": {
    "collapsed": false
   },
   "outputs": [
    {
     "name": "stdout",
     "output_type": "stream",
     "text": [
      "<class 'pandas.core.frame.DataFrame'>\n",
      "RangeIndex: 101100 entries, 0 to 101099\n",
      "Data columns (total 5 columns):\n",
      "loan_id         101100 non-null int64\n",
      "loan_purpose    101100 non-null object\n",
      "date            101100 non-null object\n",
      "loan_granted    101100 non-null int64\n",
      "loan_repaid     47654 non-null float64\n",
      "dtypes: float64(1), int64(2), object(2)\n",
      "memory usage: 3.9+ MB\n"
     ]
    }
   ],
   "source": [
    "df_loan.info()"
   ]
  },
  {
   "cell_type": "markdown",
   "metadata": {
    "collapsed": true
   },
   "source": [
    "## Question I\n",
    "\n",
    "Using the rules above, compare bank profitability vs your model profitability."
   ]
  },
  {
   "cell_type": "code",
   "execution_count": 12,
   "metadata": {
    "collapsed": false
   },
   "outputs": [
    {
     "data": {
      "text/html": [
       "<div>\n",
       "<style scoped>\n",
       "    .dataframe tbody tr th:only-of-type {\n",
       "        vertical-align: middle;\n",
       "    }\n",
       "\n",
       "    .dataframe tbody tr th {\n",
       "        vertical-align: top;\n",
       "    }\n",
       "\n",
       "    .dataframe thead th {\n",
       "        text-align: right;\n",
       "    }\n",
       "</style>\n",
       "<table border=\"1\" class=\"dataframe\">\n",
       "  <thead>\n",
       "    <tr style=\"text-align: right;\">\n",
       "      <th></th>\n",
       "      <th>loan_granted</th>\n",
       "      <th>loan_repaid</th>\n",
       "    </tr>\n",
       "  </thead>\n",
       "  <tbody>\n",
       "    <tr>\n",
       "      <th>3</th>\n",
       "      <td>1</td>\n",
       "      <td>1.0</td>\n",
       "    </tr>\n",
       "    <tr>\n",
       "      <th>4</th>\n",
       "      <td>1</td>\n",
       "      <td>0.0</td>\n",
       "    </tr>\n",
       "    <tr>\n",
       "      <th>6</th>\n",
       "      <td>1</td>\n",
       "      <td>1.0</td>\n",
       "    </tr>\n",
       "    <tr>\n",
       "      <th>7</th>\n",
       "      <td>1</td>\n",
       "      <td>0.0</td>\n",
       "    </tr>\n",
       "    <tr>\n",
       "      <th>8</th>\n",
       "      <td>1</td>\n",
       "      <td>1.0</td>\n",
       "    </tr>\n",
       "  </tbody>\n",
       "</table>\n",
       "</div>"
      ],
      "text/plain": [
       "   loan_granted  loan_repaid\n",
       "3             1          1.0\n",
       "4             1          0.0\n",
       "6             1          1.0\n",
       "7             1          0.0\n",
       "8             1          1.0"
      ]
     },
     "execution_count": 12,
     "metadata": {},
     "output_type": "execute_result"
    }
   ],
   "source": [
    "df_test = df_loan[['loan_granted','loan_repaid']][df_loan.loan_repaid.notnull()]\n",
    "df_test.head()"
   ]
  },
  {
   "cell_type": "code",
   "execution_count": 21,
   "metadata": {
    "collapsed": false
   },
   "outputs": [
    {
     "data": {
      "text/plain": [
       "1    47654\n",
       "Name: loan_granted, dtype: int64"
      ]
     },
     "execution_count": 21,
     "metadata": {},
     "output_type": "execute_result"
    }
   ],
   "source": [
    "df_test.loan_granted.value_counts()"
   ]
  },
  {
   "cell_type": "code",
   "execution_count": 22,
   "metadata": {
    "collapsed": false
   },
   "outputs": [
    {
     "data": {
      "text/plain": [
       "1.0    30706\n",
       "0.0    16948\n",
       "Name: loan_repaid, dtype: int64"
      ]
     },
     "execution_count": 22,
     "metadata": {},
     "output_type": "execute_result"
    }
   ],
   "source": [
    "df_test.loan_repaid.value_counts()"
   ]
  },
  {
   "cell_type": "code",
   "execution_count": 24,
   "metadata": {
    "collapsed": false
   },
   "outputs": [
    {
     "data": {
      "text/plain": [
       "13758"
      ]
     },
     "execution_count": 24,
     "metadata": {},
     "output_type": "execute_result"
    }
   ],
   "source": [
    "len(df_test[df_test.loan_repaid == 1]) - len(df_test[df_test.loan_repaid == 0])"
   ]
  },
  {
   "cell_type": "code",
   "execution_count": null,
   "metadata": {
    "collapsed": true
   },
   "outputs": [],
   "source": []
  }
 ],
 "metadata": {
  "kernelspec": {
   "display_name": "Python 3",
   "language": "python",
   "name": "python3"
  },
  "language_info": {
   "codemirror_mode": {
    "name": "ipython",
    "version": 3
   },
   "file_extension": ".py",
   "mimetype": "text/x-python",
   "name": "python",
   "nbconvert_exporter": "python",
   "pygments_lexer": "ipython3",
   "version": "3.7.3"
  }
 },
 "nbformat": 4,
 "nbformat_minor": 0
}

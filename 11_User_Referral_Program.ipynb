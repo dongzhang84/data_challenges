{
 "cells": [
  {
   "cell_type": "markdown",
   "metadata": {},
   "source": [
    "# User Referral Program\n",
    "\n",
    "\n",
    "## Goal\n",
    "\n",
    "Almost all sites have a user referral program where you can invite new users to try a given product. Typically, after the new user completes a transaction, you get rewarded with a certain amount of money or credit to be used on the site.\n",
    "\n",
    "The goal of this challenge is to analyze the data from a referral program and draw conclusions about its effectiveness.\n",
    "\n",
    "\n",
    "## Challenge Description\n",
    "\n",
    "\n",
    "Company XYZ has started a new referral program on Oct, 31. Each user who refers a new user will get 10$ in credit when the new user buys something.\n",
    "\n",
    "The program has been running for almost a month and the Growth Product Manager wants to know if it’s been successful. She is very excited because, since the referral program started, the company saw a spike in number of users and wants you to be able to give her some data she can show to her boss.\n",
    "\n",
    "* Can you estimate the impact the program had on the site?\n",
    "\n",
    "* Based on the data, what would you suggest to do as a next step?\n",
    "\n",
    "* The referral program wasn’t really tested in a rigorous way. It simply started on a given day for all users and you are drawing conclusions by looking at the data before and after the test started. What kinds of risks this approach presents? Can you think of a better way to test the program and measure its impact?\n"
   ]
  },
  {
   "cell_type": "code",
   "execution_count": 1,
   "metadata": {
    "collapsed": false
   },
   "outputs": [],
   "source": [
    "import numpy as np\n",
    "import pandas as pd\n",
    "import matplotlib.pyplot as plt\n",
    "import seaborn as sns"
   ]
  },
  {
   "cell_type": "code",
   "execution_count": 2,
   "metadata": {
    "collapsed": false
   },
   "outputs": [
    {
     "name": "stdout",
     "output_type": "stream",
     "text": [
      "11_User_Referral_Program.ipynb  referral.csv\r\n"
     ]
    }
   ],
   "source": [
    "ls"
   ]
  },
  {
   "cell_type": "code",
   "execution_count": 3,
   "metadata": {
    "collapsed": false
   },
   "outputs": [
    {
     "data": {
      "text/html": [
       "<div>\n",
       "<style scoped>\n",
       "    .dataframe tbody tr th:only-of-type {\n",
       "        vertical-align: middle;\n",
       "    }\n",
       "\n",
       "    .dataframe tbody tr th {\n",
       "        vertical-align: top;\n",
       "    }\n",
       "\n",
       "    .dataframe thead th {\n",
       "        text-align: right;\n",
       "    }\n",
       "</style>\n",
       "<table border=\"1\" class=\"dataframe\">\n",
       "  <thead>\n",
       "    <tr style=\"text-align: right;\">\n",
       "      <th></th>\n",
       "      <th>user_id</th>\n",
       "      <th>date</th>\n",
       "      <th>country</th>\n",
       "      <th>money_spent</th>\n",
       "      <th>is_referral</th>\n",
       "      <th>device_id</th>\n",
       "    </tr>\n",
       "  </thead>\n",
       "  <tbody>\n",
       "    <tr>\n",
       "      <th>0</th>\n",
       "      <td>2</td>\n",
       "      <td>2015-10-03</td>\n",
       "      <td>FR</td>\n",
       "      <td>65</td>\n",
       "      <td>0</td>\n",
       "      <td>EVDCJTZMVMJDG</td>\n",
       "    </tr>\n",
       "    <tr>\n",
       "      <th>1</th>\n",
       "      <td>3</td>\n",
       "      <td>2015-10-03</td>\n",
       "      <td>CA</td>\n",
       "      <td>54</td>\n",
       "      <td>0</td>\n",
       "      <td>WUBZFTVKXGQQX</td>\n",
       "    </tr>\n",
       "    <tr>\n",
       "      <th>2</th>\n",
       "      <td>6</td>\n",
       "      <td>2015-10-03</td>\n",
       "      <td>FR</td>\n",
       "      <td>35</td>\n",
       "      <td>0</td>\n",
       "      <td>CBAPCJRTFNUJG</td>\n",
       "    </tr>\n",
       "    <tr>\n",
       "      <th>3</th>\n",
       "      <td>7</td>\n",
       "      <td>2015-10-03</td>\n",
       "      <td>UK</td>\n",
       "      <td>73</td>\n",
       "      <td>0</td>\n",
       "      <td>PRGXJZAJKMXRH</td>\n",
       "    </tr>\n",
       "    <tr>\n",
       "      <th>4</th>\n",
       "      <td>7</td>\n",
       "      <td>2015-10-03</td>\n",
       "      <td>MX</td>\n",
       "      <td>35</td>\n",
       "      <td>0</td>\n",
       "      <td>PRGXJZAJKMXRH</td>\n",
       "    </tr>\n",
       "    <tr>\n",
       "      <th>5</th>\n",
       "      <td>10</td>\n",
       "      <td>2015-10-03</td>\n",
       "      <td>DE</td>\n",
       "      <td>36</td>\n",
       "      <td>0</td>\n",
       "      <td>CVZCQLPXZCFUV</td>\n",
       "    </tr>\n",
       "    <tr>\n",
       "      <th>6</th>\n",
       "      <td>17</td>\n",
       "      <td>2015-10-03</td>\n",
       "      <td>UK</td>\n",
       "      <td>25</td>\n",
       "      <td>0</td>\n",
       "      <td>RCHOYRWHPOEVE</td>\n",
       "    </tr>\n",
       "    <tr>\n",
       "      <th>7</th>\n",
       "      <td>19</td>\n",
       "      <td>2015-10-03</td>\n",
       "      <td>UK</td>\n",
       "      <td>69</td>\n",
       "      <td>0</td>\n",
       "      <td>ICGUPKJIJFZUK</td>\n",
       "    </tr>\n",
       "    <tr>\n",
       "      <th>8</th>\n",
       "      <td>19</td>\n",
       "      <td>2015-10-03</td>\n",
       "      <td>US</td>\n",
       "      <td>17</td>\n",
       "      <td>0</td>\n",
       "      <td>ICGUPKJIJFZUK</td>\n",
       "    </tr>\n",
       "    <tr>\n",
       "      <th>9</th>\n",
       "      <td>19</td>\n",
       "      <td>2015-10-03</td>\n",
       "      <td>FR</td>\n",
       "      <td>29</td>\n",
       "      <td>0</td>\n",
       "      <td>ICGUPKJIJFZUK</td>\n",
       "    </tr>\n",
       "  </tbody>\n",
       "</table>\n",
       "</div>"
      ],
      "text/plain": [
       "   user_id        date country  money_spent  is_referral      device_id\n",
       "0        2  2015-10-03      FR           65            0  EVDCJTZMVMJDG\n",
       "1        3  2015-10-03      CA           54            0  WUBZFTVKXGQQX\n",
       "2        6  2015-10-03      FR           35            0  CBAPCJRTFNUJG\n",
       "3        7  2015-10-03      UK           73            0  PRGXJZAJKMXRH\n",
       "4        7  2015-10-03      MX           35            0  PRGXJZAJKMXRH\n",
       "5       10  2015-10-03      DE           36            0  CVZCQLPXZCFUV\n",
       "6       17  2015-10-03      UK           25            0  RCHOYRWHPOEVE\n",
       "7       19  2015-10-03      UK           69            0  ICGUPKJIJFZUK\n",
       "8       19  2015-10-03      US           17            0  ICGUPKJIJFZUK\n",
       "9       19  2015-10-03      FR           29            0  ICGUPKJIJFZUK"
      ]
     },
     "execution_count": 3,
     "metadata": {},
     "output_type": "execute_result"
    }
   ],
   "source": [
    "df = pd.read_csv('referral.csv')\n",
    "df.head(10)"
   ]
  },
  {
   "cell_type": "markdown",
   "metadata": {},
   "source": [
    "* user_id : the id of the user\n",
    "* date : date of the purchase\n",
    "- country : user country based on the ip address\n",
    "- money_spent : how much the item bought costs (USD)\n",
    "- is_referral : whether the user came from the referral program (1) or not (0)\n",
    "- device_id : Id of the device used to make the purchase"
   ]
  },
  {
   "cell_type": "code",
   "execution_count": 4,
   "metadata": {
    "collapsed": false
   },
   "outputs": [
    {
     "data": {
      "text/plain": [
       "(97341, 6)"
      ]
     },
     "execution_count": 4,
     "metadata": {},
     "output_type": "execute_result"
    }
   ],
   "source": [
    "df.shape"
   ]
  },
  {
   "cell_type": "code",
   "execution_count": 5,
   "metadata": {
    "collapsed": false
   },
   "outputs": [
    {
     "data": {
      "text/plain": [
       "user_id        0\n",
       "date           0\n",
       "country        0\n",
       "money_spent    0\n",
       "is_referral    0\n",
       "device_id      0\n",
       "dtype: int64"
      ]
     },
     "execution_count": 5,
     "metadata": {},
     "output_type": "execute_result"
    }
   ],
   "source": [
    "df.isnull().sum()"
   ]
  },
  {
   "cell_type": "code",
   "execution_count": 6,
   "metadata": {
    "collapsed": false
   },
   "outputs": [
    {
     "data": {
      "text/plain": [
       "user_id         int64\n",
       "date           object\n",
       "country        object\n",
       "money_spent     int64\n",
       "is_referral     int64\n",
       "device_id      object\n",
       "dtype: object"
      ]
     },
     "execution_count": 6,
     "metadata": {},
     "output_type": "execute_result"
    }
   ],
   "source": [
    "df.dtypes"
   ]
  },
  {
   "cell_type": "code",
   "execution_count": 7,
   "metadata": {
    "collapsed": false
   },
   "outputs": [],
   "source": [
    "df.date = pd.to_datetime(df.date)"
   ]
  },
  {
   "cell_type": "code",
   "execution_count": 8,
   "metadata": {
    "collapsed": false
   },
   "outputs": [
    {
     "data": {
      "text/plain": [
       "user_id                 int64\n",
       "date           datetime64[ns]\n",
       "country                object\n",
       "money_spent             int64\n",
       "is_referral             int64\n",
       "device_id              object\n",
       "dtype: object"
      ]
     },
     "execution_count": 8,
     "metadata": {},
     "output_type": "execute_result"
    }
   ],
   "source": [
    "df.dtypes"
   ]
  },
  {
   "cell_type": "code",
   "execution_count": 9,
   "metadata": {
    "collapsed": false
   },
   "outputs": [
    {
     "data": {
      "image/png": "[encoded data removed]",
      "text/plain": [
       "<Figure size 1296x1080 with 2 Axes>"
      ]
     },
     "metadata": {
      "needs_background": "light"
     },
     "output_type": "display_data"
    }
   ],
   "source": [
    "fig, ax = plt.subplots(nrows=2, ncols=1, figsize=(18, 15))\n",
    "sns.countplot(x='date', hue='is_referral', data=df, ax=ax[0])\n",
    "ax[0].set_ylabel('Time-based Transaction Number', fontsize=12)\n",
    "ax[0].tick_params(labelrotation=90)\n",
    "\n",
    "sns.barplot(x='date', y='money_spent', hue='is_referral', data=df, ax=ax[1])\n",
    "ax[1].set_ylabel('Time-based Transaction Amount', fontsize=12)\n",
    "ax[1].tick_params(labelrotation=90)\n",
    "plt.tight_layout()\n",
    "plt.show()"
   ]
  },
  {
   "cell_type": "code",
   "execution_count": 10,
   "metadata": {
    "collapsed": false
   },
   "outputs": [],
   "source": [
    "# split the data to after and before 2015-10-31.\n",
    "\n",
    "df2 = df[df.date >='2015-10-31']"
   ]
  },
  {
   "cell_type": "code",
   "execution_count": 11,
   "metadata": {
    "collapsed": false
   },
   "outputs": [
    {
     "data": {
      "text/plain": [
       "1    28017\n",
       "0    21983\n",
       "Name: is_referral, dtype: int64"
      ]
     },
     "execution_count": 11,
     "metadata": {},
     "output_type": "execute_result"
    }
   ],
   "source": [
    "df2.is_referral.value_counts()"
   ]
  },
  {
   "cell_type": "code",
   "execution_count": 12,
   "metadata": {
    "collapsed": false
   },
   "outputs": [
    {
     "data": {
      "text/html": [
       "<div>\n",
       "<style scoped>\n",
       "    .dataframe tbody tr th:only-of-type {\n",
       "        vertical-align: middle;\n",
       "    }\n",
       "\n",
       "    .dataframe tbody tr th {\n",
       "        vertical-align: top;\n",
       "    }\n",
       "\n",
       "    .dataframe thead th {\n",
       "        text-align: right;\n",
       "    }\n",
       "</style>\n",
       "<table border=\"1\" class=\"dataframe\">\n",
       "  <thead>\n",
       "    <tr style=\"text-align: right;\">\n",
       "      <th></th>\n",
       "      <th>is_referral</th>\n",
       "      <th>money_spent</th>\n",
       "      <th>counts</th>\n",
       "      <th>average_spend</th>\n",
       "    </tr>\n",
       "  </thead>\n",
       "  <tbody>\n",
       "    <tr>\n",
       "      <th>0</th>\n",
       "      <td>0</td>\n",
       "      <td>1028216</td>\n",
       "      <td>21983</td>\n",
       "      <td>46.773234</td>\n",
       "    </tr>\n",
       "    <tr>\n",
       "      <th>1</th>\n",
       "      <td>1</td>\n",
       "      <td>1315787</td>\n",
       "      <td>28017</td>\n",
       "      <td>46.963879</td>\n",
       "    </tr>\n",
       "  </tbody>\n",
       "</table>\n",
       "</div>"
      ],
      "text/plain": [
       "   is_referral  money_spent  counts  average_spend\n",
       "0            0      1028216   21983      46.773234\n",
       "1            1      1315787   28017      46.963879"
      ]
     },
     "execution_count": 12,
     "metadata": {},
     "output_type": "execute_result"
    }
   ],
   "source": [
    "df_referral1 = df2.groupby('is_referral')['money_spent'].sum().reset_index()\n",
    "df_referral2 = df2.groupby('is_referral')['money_spent'].size().reset_index(name='counts')\n",
    "df_referral1 = pd.merge(df_referral1, df_referral2, how = 'left', on = 'is_referral')\n",
    "df_referral1['average_spend'] = df_referral1.money_spent/df_referral1.counts\n",
    "df_referral1"
   ]
  },
  {
   "cell_type": "code",
   "execution_count": 13,
   "metadata": {
    "collapsed": false
   },
   "outputs": [
    {
     "data": {
      "text/plain": [
       "<matplotlib.axes._subplots.AxesSubplot at 0x1229239e8>"
      ]
     },
     "execution_count": 13,
     "metadata": {},
     "output_type": "execute_result"
    },
    {
     "data": {
      "image/png": "[encoded data removed]",
      "text/plain": [
       "<Figure size 432x288 with 1 Axes>"
      ]
     },
     "metadata": {
      "needs_background": "light"
     },
     "output_type": "display_data"
    }
   ],
   "source": [
    "fig, ax = plt.subplots()\n",
    "sns.barplot(x = df_referral1.is_referral, y = df_referral1.average_spend, ax=ax)"
   ]
  },
  {
   "cell_type": "code",
   "execution_count": 14,
   "metadata": {
    "collapsed": false
   },
   "outputs": [
    {
     "name": "stdout",
     "output_type": "stream",
     "text": [
      "1    24856\n",
      "0    19768\n",
      "Name: is_referral, dtype: int64\n",
      "(44624, 4)\n"
     ]
    },
    {
     "data": {
      "text/html": [
       "<div>\n",
       "<style scoped>\n",
       "    .dataframe tbody tr th:only-of-type {\n",
       "        vertical-align: middle;\n",
       "    }\n",
       "\n",
       "    .dataframe tbody tr th {\n",
       "        vertical-align: top;\n",
       "    }\n",
       "\n",
       "    .dataframe thead th {\n",
       "        text-align: right;\n",
       "    }\n",
       "</style>\n",
       "<table border=\"1\" class=\"dataframe\">\n",
       "  <thead>\n",
       "    <tr style=\"text-align: right;\">\n",
       "      <th></th>\n",
       "      <th>user_id</th>\n",
       "      <th>is_referral</th>\n",
       "      <th>country</th>\n",
       "      <th>money_spent</th>\n",
       "    </tr>\n",
       "  </thead>\n",
       "  <tbody>\n",
       "    <tr>\n",
       "      <th>0</th>\n",
       "      <td>1</td>\n",
       "      <td>0</td>\n",
       "      <td>DE</td>\n",
       "      <td>53</td>\n",
       "    </tr>\n",
       "    <tr>\n",
       "      <th>1</th>\n",
       "      <td>1</td>\n",
       "      <td>0</td>\n",
       "      <td>ES</td>\n",
       "      <td>26</td>\n",
       "    </tr>\n",
       "    <tr>\n",
       "      <th>2</th>\n",
       "      <td>1</td>\n",
       "      <td>0</td>\n",
       "      <td>MX</td>\n",
       "      <td>46</td>\n",
       "    </tr>\n",
       "    <tr>\n",
       "      <th>3</th>\n",
       "      <td>2</td>\n",
       "      <td>0</td>\n",
       "      <td>ES</td>\n",
       "      <td>48</td>\n",
       "    </tr>\n",
       "    <tr>\n",
       "      <th>4</th>\n",
       "      <td>2</td>\n",
       "      <td>0</td>\n",
       "      <td>IT</td>\n",
       "      <td>46</td>\n",
       "    </tr>\n",
       "    <tr>\n",
       "      <th>5</th>\n",
       "      <td>3</td>\n",
       "      <td>0</td>\n",
       "      <td>FR</td>\n",
       "      <td>49</td>\n",
       "    </tr>\n",
       "    <tr>\n",
       "      <th>6</th>\n",
       "      <td>4</td>\n",
       "      <td>0</td>\n",
       "      <td>FR</td>\n",
       "      <td>45</td>\n",
       "    </tr>\n",
       "    <tr>\n",
       "      <th>7</th>\n",
       "      <td>5</td>\n",
       "      <td>0</td>\n",
       "      <td>IT</td>\n",
       "      <td>38</td>\n",
       "    </tr>\n",
       "    <tr>\n",
       "      <th>8</th>\n",
       "      <td>6</td>\n",
       "      <td>0</td>\n",
       "      <td>CH</td>\n",
       "      <td>17</td>\n",
       "    </tr>\n",
       "    <tr>\n",
       "      <th>9</th>\n",
       "      <td>6</td>\n",
       "      <td>0</td>\n",
       "      <td>US</td>\n",
       "      <td>48</td>\n",
       "    </tr>\n",
       "  </tbody>\n",
       "</table>\n",
       "</div>"
      ],
      "text/plain": [
       "   user_id  is_referral country  money_spent\n",
       "0        1            0      DE           53\n",
       "1        1            0      ES           26\n",
       "2        1            0      MX           46\n",
       "3        2            0      ES           48\n",
       "4        2            0      IT           46\n",
       "5        3            0      FR           49\n",
       "6        4            0      FR           45\n",
       "7        5            0      IT           38\n",
       "8        6            0      CH           17\n",
       "9        6            0      US           48"
      ]
     },
     "execution_count": 14,
     "metadata": {},
     "output_type": "execute_result"
    }
   ],
   "source": [
    "# groupby users\n",
    "\n",
    "df3 = df2.groupby(['user_id','is_referral','country'])['money_spent'].sum().reset_index()\n",
    "print(df3.is_referral.value_counts())\n",
    "print(df3.shape)\n",
    "df3.head(10)"
   ]
  },
  {
   "cell_type": "code",
   "execution_count": 15,
   "metadata": {
    "collapsed": false
   },
   "outputs": [
    {
     "data": {
      "text/html": [
       "<div>\n",
       "<style scoped>\n",
       "    .dataframe tbody tr th:only-of-type {\n",
       "        vertical-align: middle;\n",
       "    }\n",
       "\n",
       "    .dataframe tbody tr th {\n",
       "        vertical-align: top;\n",
       "    }\n",
       "\n",
       "    .dataframe thead th {\n",
       "        text-align: right;\n",
       "    }\n",
       "</style>\n",
       "<table border=\"1\" class=\"dataframe\">\n",
       "  <thead>\n",
       "    <tr style=\"text-align: right;\">\n",
       "      <th></th>\n",
       "      <th>is_referral</th>\n",
       "      <th>money_spent</th>\n",
       "      <th>counts</th>\n",
       "      <th>average_spend</th>\n",
       "    </tr>\n",
       "  </thead>\n",
       "  <tbody>\n",
       "    <tr>\n",
       "      <th>0</th>\n",
       "      <td>0</td>\n",
       "      <td>1028216</td>\n",
       "      <td>19768</td>\n",
       "      <td>52.014164</td>\n",
       "    </tr>\n",
       "    <tr>\n",
       "      <th>1</th>\n",
       "      <td>1</td>\n",
       "      <td>1315787</td>\n",
       "      <td>24856</td>\n",
       "      <td>52.936394</td>\n",
       "    </tr>\n",
       "  </tbody>\n",
       "</table>\n",
       "</div>"
      ],
      "text/plain": [
       "   is_referral  money_spent  counts  average_spend\n",
       "0            0      1028216   19768      52.014164\n",
       "1            1      1315787   24856      52.936394"
      ]
     },
     "execution_count": 15,
     "metadata": {},
     "output_type": "execute_result"
    }
   ],
   "source": [
    "df_referral2 = df3.groupby('is_referral')['money_spent'].sum().reset_index()\n",
    "df_referral3 = df3.groupby('is_referral')['money_spent'].size().reset_index(name='counts')\n",
    "df_referral2 = pd.merge(df_referral2, df_referral3, how = 'left', on = 'is_referral')\n",
    "df_referral2['average_spend'] = df_referral2.money_spent/df_referral2.counts\n",
    "df_referral2"
   ]
  },
  {
   "cell_type": "code",
   "execution_count": 16,
   "metadata": {
    "collapsed": false
   },
   "outputs": [
    {
     "data": {
      "text/plain": [
       "<matplotlib.axes._subplots.AxesSubplot at 0x1229b9978>"
      ]
     },
     "execution_count": 16,
     "metadata": {},
     "output_type": "execute_result"
    },
    {
     "data": {
      "image/png": "[encoded data removed]",
      "text/plain": [
       "<Figure size 432x288 with 1 Axes>"
      ]
     },
     "metadata": {
      "needs_background": "light"
     },
     "output_type": "display_data"
    }
   ],
   "source": [
    "# average spend grouped by people/id\n",
    "\n",
    "fig, ax = plt.subplots()\n",
    "sns.barplot(x = df_referral2.is_referral, y = df_referral2.average_spend, ax=ax)"
   ]
  },
  {
   "cell_type": "code",
   "execution_count": 17,
   "metadata": {
    "collapsed": false
   },
   "outputs": [
    {
     "data": {
      "text/plain": [
       "country  is_referral\n",
       "CA       0              49.801925\n",
       "         1              48.820032\n",
       "CH       0              60.582915\n",
       "         1              59.544803\n",
       "DE       0              48.577171\n",
       "         1              49.072149\n",
       "ES       0              44.389262\n",
       "         1              44.634879\n",
       "FR       0              44.591028\n",
       "         1              44.608045\n",
       "IT       0              44.991786\n",
       "         1              44.511167\n",
       "MX       0              42.818802\n",
       "         1              42.939346\n",
       "UK       0              48.443367\n",
       "         1              49.630776\n",
       "US       0              49.517124\n",
       "         1              49.742201\n",
       "Name: money_spent, dtype: float64"
      ]
     },
     "execution_count": 17,
     "metadata": {},
     "output_type": "execute_result"
    }
   ],
   "source": [
    "df_country1 = df2.groupby(['country','is_referral'])['money_spent'].mean()\n",
    "df_country1"
   ]
  },
  {
   "cell_type": "code",
   "execution_count": 18,
   "metadata": {
    "collapsed": false
   },
   "outputs": [
    {
     "data": {
      "image/png": "[encoded data removed]",
      "text/plain": [
       "<Figure size 1296x864 with 2 Axes>"
      ]
     },
     "metadata": {
      "needs_background": "light"
     },
     "output_type": "display_data"
    }
   ],
   "source": [
    "fig, ax = plt.subplots(nrows=2, ncols=1, figsize=(18, 12))\n",
    "sns.countplot(x='country', hue='is_referral', data=df2, ax=ax[0])\n",
    "ax[0].set_ylabel('Country-based Transaction Number', fontsize=12)\n",
    "\n",
    "sns.barplot(x='country', y='money_spent', hue='is_referral', data=df2, ax=ax[1])\n",
    "ax[1].set_ylabel('Country-based Transaction Amount', fontsize=12)\n",
    "plt.tight_layout()\n",
    "plt.show()"
   ]
  },
  {
   "cell_type": "code",
   "execution_count": 19,
   "metadata": {
    "collapsed": false
   },
   "outputs": [
    {
     "data": {
      "image/png": "[encoded data removed]",
      "text/plain": [
       "<Figure size 1296x864 with 2 Axes>"
      ]
     },
     "metadata": {
      "needs_background": "light"
     },
     "output_type": "display_data"
    }
   ],
   "source": [
    "fig, ax = plt.subplots(nrows=2, ncols=1, figsize=(18, 12))\n",
    "sns.countplot(x='country', hue='is_referral', data=df3, ax=ax[0])\n",
    "ax[0].set_ylabel('Country-based Transaction Number', fontsize=12)\n",
    "\n",
    "sns.barplot(x='country', y='money_spent', hue='is_referral', data=df3, ax=ax[1])\n",
    "ax[1].set_ylabel('Country-based Transaction Amount', fontsize=12)\n",
    "plt.tight_layout()\n",
    "plt.show()"
   ]
  },
  {
   "cell_type": "markdown",
   "metadata": {},
   "source": [
    "## Question I\n",
    "\n",
    "Can you estimate the impact the program had on the site?\n",
    "\n",
    "Looks like referral is not succesful in China and Canada. Need t-test to furture explore the data."
   ]
  },
  {
   "cell_type": "code",
   "execution_count": 20,
   "metadata": {
    "collapsed": false
   },
   "outputs": [
    {
     "name": "stdout",
     "output_type": "stream",
     "text": [
      "US 49.517124344338164 49.742200725513904 0.7260621770594857\n",
      "ES 44.38926174496644 44.634879163945136 0.6540958893739636\n",
      "IT 44.99178571428571 44.511166945840316 0.3480548303676261\n",
      "UK 48.44336661911555 49.63077593722755 0.051225560377017344\n",
      "MX 42.81880175353142 42.93934619929106 0.8612375762745654\n",
      "FR 44.59102833158447 44.60804549283909 0.9689620482294875\n",
      "CH 60.58291457286432 59.54480286738351 0.7213195769315084\n",
      "CA 49.80192502532928 48.82003192338388 0.2307736165306686\n",
      "DE 48.577171215880895 49.07214895267649 0.5416448892087824\n"
     ]
    }
   ],
   "source": [
    "from scipy import stats\n",
    "\n",
    "no_referral_list = []\n",
    "referral_list = []\n",
    "pvalue_list = []\n",
    "\n",
    "countries = list(df2.country.unique())\n",
    "\n",
    "for country in countries:\n",
    "    test = df2[(df2.country == country) & (df2.is_referral==1)].money_spent\n",
    "    control = df2[(df2.country == country) & (df2.is_referral==0)].money_spent\n",
    "\n",
    "    stat,pvalue = stats.ttest_ind(test, control, equal_var=False)\n",
    "    no_referral_list.append(control.mean())\n",
    "    referral_list.append(test.mean())\n",
    "    pvalue_list.append(pvalue)\n",
    "    print(country,control.mean(),test.mean(),pvalue)"
   ]
  },
  {
   "cell_type": "code",
   "execution_count": 21,
   "metadata": {
    "collapsed": false
   },
   "outputs": [
    {
     "data": {
      "text/html": [
       "<div>\n",
       "<style scoped>\n",
       "    .dataframe tbody tr th:only-of-type {\n",
       "        vertical-align: middle;\n",
       "    }\n",
       "\n",
       "    .dataframe tbody tr th {\n",
       "        vertical-align: top;\n",
       "    }\n",
       "\n",
       "    .dataframe thead th {\n",
       "        text-align: right;\n",
       "    }\n",
       "</style>\n",
       "<table border=\"1\" class=\"dataframe\">\n",
       "  <thead>\n",
       "    <tr style=\"text-align: right;\">\n",
       "      <th></th>\n",
       "      <th>country</th>\n",
       "      <th>no_referral</th>\n",
       "      <th>referral</th>\n",
       "      <th>p-value</th>\n",
       "    </tr>\n",
       "  </thead>\n",
       "  <tbody>\n",
       "    <tr>\n",
       "      <th>0</th>\n",
       "      <td>US</td>\n",
       "      <td>49.517124</td>\n",
       "      <td>49.742201</td>\n",
       "      <td>0.726062</td>\n",
       "    </tr>\n",
       "    <tr>\n",
       "      <th>1</th>\n",
       "      <td>ES</td>\n",
       "      <td>44.389262</td>\n",
       "      <td>44.634879</td>\n",
       "      <td>0.654096</td>\n",
       "    </tr>\n",
       "    <tr>\n",
       "      <th>2</th>\n",
       "      <td>IT</td>\n",
       "      <td>44.991786</td>\n",
       "      <td>44.511167</td>\n",
       "      <td>0.348055</td>\n",
       "    </tr>\n",
       "    <tr>\n",
       "      <th>3</th>\n",
       "      <td>UK</td>\n",
       "      <td>48.443367</td>\n",
       "      <td>49.630776</td>\n",
       "      <td>0.051226</td>\n",
       "    </tr>\n",
       "    <tr>\n",
       "      <th>4</th>\n",
       "      <td>MX</td>\n",
       "      <td>42.818802</td>\n",
       "      <td>42.939346</td>\n",
       "      <td>0.861238</td>\n",
       "    </tr>\n",
       "    <tr>\n",
       "      <th>5</th>\n",
       "      <td>FR</td>\n",
       "      <td>44.591028</td>\n",
       "      <td>44.608045</td>\n",
       "      <td>0.968962</td>\n",
       "    </tr>\n",
       "    <tr>\n",
       "      <th>6</th>\n",
       "      <td>CH</td>\n",
       "      <td>60.582915</td>\n",
       "      <td>59.544803</td>\n",
       "      <td>0.721320</td>\n",
       "    </tr>\n",
       "    <tr>\n",
       "      <th>7</th>\n",
       "      <td>CA</td>\n",
       "      <td>49.801925</td>\n",
       "      <td>48.820032</td>\n",
       "      <td>0.230774</td>\n",
       "    </tr>\n",
       "    <tr>\n",
       "      <th>8</th>\n",
       "      <td>DE</td>\n",
       "      <td>48.577171</td>\n",
       "      <td>49.072149</td>\n",
       "      <td>0.541645</td>\n",
       "    </tr>\n",
       "  </tbody>\n",
       "</table>\n",
       "</div>"
      ],
      "text/plain": [
       "  country  no_referral   referral   p-value\n",
       "0      US    49.517124  49.742201  0.726062\n",
       "1      ES    44.389262  44.634879  0.654096\n",
       "2      IT    44.991786  44.511167  0.348055\n",
       "3      UK    48.443367  49.630776  0.051226\n",
       "4      MX    42.818802  42.939346  0.861238\n",
       "5      FR    44.591028  44.608045  0.968962\n",
       "6      CH    60.582915  59.544803  0.721320\n",
       "7      CA    49.801925  48.820032  0.230774\n",
       "8      DE    48.577171  49.072149  0.541645"
      ]
     },
     "execution_count": 21,
     "metadata": {},
     "output_type": "execute_result"
    }
   ],
   "source": [
    "pd.DataFrame({'country': countries,\n",
    "              'no_referral': no_referral_list,\n",
    "              'referral': referral_list,\n",
    "              'p-value': pvalue_list})"
   ]
  },
  {
   "cell_type": "markdown",
   "metadata": {},
   "source": [
    "Referral has impact in UK. I do not see significant difference in CH and CA due to p-values. Again, do user-id-based test."
   ]
  },
  {
   "cell_type": "code",
   "execution_count": 22,
   "metadata": {
    "collapsed": true
   },
   "outputs": [],
   "source": [
    "from scipy import stats\n",
    "\n",
    "no_referral_list = []\n",
    "referral_list = []\n",
    "pvalue_list = []\n",
    "\n",
    "countries = list(df3.country.unique())\n",
    "\n",
    "for country in countries:\n",
    "    test = df3[(df3.country == country) & (df3.is_referral==1)].money_spent\n",
    "    control = df3[(df3.country == country) & (df3.is_referral==0)].money_spent\n",
    "\n",
    "    stat,pvalue = stats.ttest_ind(test, control, equal_var=False)\n",
    "    no_referral_list.append(control.mean())\n",
    "    referral_list.append(test.mean())\n",
    "    pvalue_list.append(pvalue)\n",
    "    #print(country,control.mean(),test.mean(),pvalue)"
   ]
  },
  {
   "cell_type": "code",
   "execution_count": 23,
   "metadata": {
    "collapsed": false
   },
   "outputs": [
    {
     "data": {
      "text/html": [
       "<div>\n",
       "<style scoped>\n",
       "    .dataframe tbody tr th:only-of-type {\n",
       "        vertical-align: middle;\n",
       "    }\n",
       "\n",
       "    .dataframe tbody tr th {\n",
       "        vertical-align: top;\n",
       "    }\n",
       "\n",
       "    .dataframe thead th {\n",
       "        text-align: right;\n",
       "    }\n",
       "</style>\n",
       "<table border=\"1\" class=\"dataframe\">\n",
       "  <thead>\n",
       "    <tr style=\"text-align: right;\">\n",
       "      <th></th>\n",
       "      <th>country</th>\n",
       "      <th>no_referral</th>\n",
       "      <th>referral</th>\n",
       "      <th>p-value</th>\n",
       "    </tr>\n",
       "  </thead>\n",
       "  <tbody>\n",
       "    <tr>\n",
       "      <th>0</th>\n",
       "      <td>DE</td>\n",
       "      <td>52.287927</td>\n",
       "      <td>53.266526</td>\n",
       "      <td>0.314521</td>\n",
       "    </tr>\n",
       "    <tr>\n",
       "      <th>1</th>\n",
       "      <td>ES</td>\n",
       "      <td>48.255358</td>\n",
       "      <td>49.144912</td>\n",
       "      <td>0.204828</td>\n",
       "    </tr>\n",
       "    <tr>\n",
       "      <th>2</th>\n",
       "      <td>MX</td>\n",
       "      <td>46.072851</td>\n",
       "      <td>46.811078</td>\n",
       "      <td>0.379725</td>\n",
       "    </tr>\n",
       "    <tr>\n",
       "      <th>3</th>\n",
       "      <td>IT</td>\n",
       "      <td>50.410964</td>\n",
       "      <td>49.871442</td>\n",
       "      <td>0.448129</td>\n",
       "    </tr>\n",
       "    <tr>\n",
       "      <th>4</th>\n",
       "      <td>FR</td>\n",
       "      <td>51.353776</td>\n",
       "      <td>51.847980</td>\n",
       "      <td>0.463380</td>\n",
       "    </tr>\n",
       "    <tr>\n",
       "      <th>5</th>\n",
       "      <td>CH</td>\n",
       "      <td>61.825641</td>\n",
       "      <td>59.758993</td>\n",
       "      <td>0.493503</td>\n",
       "    </tr>\n",
       "    <tr>\n",
       "      <th>6</th>\n",
       "      <td>US</td>\n",
       "      <td>56.152904</td>\n",
       "      <td>57.421552</td>\n",
       "      <td>0.152512</td>\n",
       "    </tr>\n",
       "    <tr>\n",
       "      <th>7</th>\n",
       "      <td>CA</td>\n",
       "      <td>53.691425</td>\n",
       "      <td>53.192609</td>\n",
       "      <td>0.624948</td>\n",
       "    </tr>\n",
       "    <tr>\n",
       "      <th>8</th>\n",
       "      <td>UK</td>\n",
       "      <td>54.736944</td>\n",
       "      <td>57.955205</td>\n",
       "      <td>0.000144</td>\n",
       "    </tr>\n",
       "  </tbody>\n",
       "</table>\n",
       "</div>"
      ],
      "text/plain": [
       "  country  no_referral   referral   p-value\n",
       "0      DE    52.287927  53.266526  0.314521\n",
       "1      ES    48.255358  49.144912  0.204828\n",
       "2      MX    46.072851  46.811078  0.379725\n",
       "3      IT    50.410964  49.871442  0.448129\n",
       "4      FR    51.353776  51.847980  0.463380\n",
       "5      CH    61.825641  59.758993  0.493503\n",
       "6      US    56.152904  57.421552  0.152512\n",
       "7      CA    53.691425  53.192609  0.624948\n",
       "8      UK    54.736944  57.955205  0.000144"
      ]
     },
     "execution_count": 23,
     "metadata": {},
     "output_type": "execute_result"
    }
   ],
   "source": [
    "pd.DataFrame({'country': countries,\n",
    "              'no_referral': no_referral_list,\n",
    "              'referral': referral_list,\n",
    "              'p-value': pvalue_list})"
   ]
  },
  {
   "cell_type": "markdown",
   "metadata": {},
   "source": [
    "Still UK. \n",
    "\n",
    "## Question II\n",
    "\n",
    "Based on the data, what would you suggest to do as a next step?\n",
    "\n",
    "Probably we need more data (longer time) for each country especially China (CH). And need to discuss randomization for A/B testing. \n",
    "\n",
    "\n",
    "## Question III\n",
    "\n",
    "The referral program wasn’t really tested in a rigorous way. It simply started on a given day for all users and you are drawing conclusions by looking at the data before and after the test started. What kinds of risks this approach presents? Can you think of a better way to test the program and measure its impact?\n",
    "\n",
    "In order to avoid risk of time changing, I only use the data after Oct 31 (for the same period). Still need:\n",
    "\n",
    "- randomly split the **new** customers into two groups, and let only one group know the User Referral program.\n",
    "\n",
    "- run the experiment some time, then perform the t-test to see whether some 'sale performance index' (e.g., daily spent, daily customers, daily transactions) have significant changes or not.\n",
    "\n"
   ]
  },
  {
   "cell_type": "code",
   "execution_count": null,
   "metadata": {
    "collapsed": true
   },
   "outputs": [],
   "source": []
  }
 ],
 "metadata": {
  "kernelspec": {
   "display_name": "Python 3",
   "language": "python",
   "name": "python3"
  },
  "language_info": {
   "codemirror_mode": {
    "name": "ipython",
    "version": 3
   },
   "file_extension": ".py",
   "mimetype": "text/x-python",
   "name": "python",
   "nbconvert_exporter": "python",
   "pygments_lexer": "ipython3",
   "version": "3.7.3"
  }
 },
 "nbformat": 4,
 "nbformat_minor": 0
}

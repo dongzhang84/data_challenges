{
 "cells": [
  {
   "cell_type": "markdown",
   "metadata": {},
   "source": [
    "# Hotel Search Data\n",
    "\n",
    "## Goal\n",
    "\n",
    "Being able to efficiently parse URLs and extract info from them is a very important skill for a data scientist.\n",
    "\n",
    "Firstly, if you join a very early stage startup, it might be that a lot of data are just stored in the URLs visited by the users. And, therefore, you will have to build a system that parses the URLs, extracts fields out of it, and saves them into a table that can be easily queried (not the most fun of the jobs, but very useful!).\n",
    "\n",
    "Secondly, often using external data can help a lot your models. And a way to get external data is by scraping websites. And this is often done by being able to play with a given site URL structure (assuming it is allowed by the external site ToS).\n",
    "\n",
    "The goal of this project is to parse a sequence of URLs about user searches and extract some basic info out of it.\n",
    "\n",
    "\n",
    "## Challenge Description\n",
    "\n",
    "Company XYZ is a Online Travel Agent site, such as Expedia, Booking.com, etc.\n",
    "\n",
    "They haven’t invested in data science yet and all the data they have about user searches are simply stored in the URLs the users generate when they search for a hotel. If you are not familiar with URLs, you can run a search on any OTA site and see how all search parameters are always present in the URL.\n",
    "\n",
    "You are asked to:\n",
    "\n",
    "- Create a clean data set where each column is a field in the URL, each row is a given search and the cells are the corresponding URL values.\n",
    "\n",
    "For each search query, how many amenities were selected?\n",
    "\n",
    "\n",
    "\n",
    "- Often, to measure the quality of a search algorithm, data scientists use some metric based on how often users click on the second page, third page, and so on. The idea here is that a great search algorithm should return all interesting results on the first page and never force users to visit the other pages (how often do you click on the second page results when you search on Google? Almost never, right?).\n",
    "\n",
    "Create a metric based on the above idea and find the city with the worst search algorithm."
   ]
  },
  {
   "cell_type": "code",
   "execution_count": 1,
   "metadata": {
    "collapsed": false
   },
   "outputs": [
    {
     "name": "stdout",
     "output_type": "stream",
     "text": [
      "16_Hotel_Search_Data.ipynb  url_list.txt\r\n"
     ]
    }
   ],
   "source": [
    "ls"
   ]
  },
  {
   "cell_type": "code",
   "execution_count": 2,
   "metadata": {
    "collapsed": true
   },
   "outputs": [],
   "source": [
    "import numpy as np\n",
    "import pandas as pd\n",
    "import matplotlib.pyplot as plt\n",
    "import seaborn as sns"
   ]
  },
  {
   "cell_type": "code",
   "execution_count": 3,
   "metadata": {
    "collapsed": false
   },
   "outputs": [
    {
     "name": "stdout",
     "output_type": "stream",
     "text": [
      "Total Records:\t 77677\n"
     ]
    }
   ],
   "source": [
    "with open('url_list.txt') as f:\n",
    "    lines = f.readlines()\n",
    "    \n",
    "print('Total Records:\\t', len(lines))"
   ]
  },
  {
   "cell_type": "code",
   "execution_count": 4,
   "metadata": {
    "collapsed": false
   },
   "outputs": [],
   "source": [
    "names = ['checkin', 'checkout', 'customMinimumPriceFilter', \n",
    "             'customMaximumPriceFilter', 'freeCancellation', 'stars_5', \n",
    "             'stars_4', 'stars_3', 'stars_2', 'stars_1', 'max_score', \n",
    "             'min_score', 'couponCode', 'adults', 'city', 'children', \n",
    "             'amenities', 'search_page']\n",
    "\n",
    "#df = pd.DataFrame(columns=names)\n",
    "#df"
   ]
  },
  {
   "cell_type": "code",
   "execution_count": 5,
   "metadata": {
    "collapsed": false
   },
   "outputs": [],
   "source": [
    "#Too Slow!\n",
    "\n",
    "#for i in range(len(lines)):\n",
    "    #dict_temp = {}\n",
    "    #for name in names:\n",
    "        #dict_temp[name] = [np.nan]\n",
    "    \n",
    "    #for string in lines[i].split('&')[:-1]:\n",
    "        #string1 = string.split('=')[0].split('.')[-1]\n",
    "        #string2 = string.split('=')[1]\n",
    "        \n",
    "        #if string1 == 'city':\n",
    "            #string2 = string2.replace('+',' ')\n",
    "            \n",
    "        #dict_temp[string1] = [string2]\n",
    "        \n",
    "    #df = df.append(pd.DataFrame(dict_temp))\n",
    "    \n",
    "    #if (i % 1000 == 0):\n",
    "        #print(i)"
   ]
  },
  {
   "cell_type": "code",
   "execution_count": 6,
   "metadata": {
    "collapsed": false
   },
   "outputs": [
    {
     "name": "stdout",
     "output_type": "stream",
     "text": [
      "http://www.mysearchforhotels.com/shop/hotelsearch?hotel.checkin=2015-09-19&hotel.stars_4=yes&hotel.min_score=4&hotel.adults=3&hotel.city=New+York,+NY,+United+States&hotel.checkout=2015-09-20&hotel.search_page=1\n",
      "\n",
      "0\n",
      "http://www.mysearchforhotels.com/shop/hotelsearch?hotel.checkin=2015-09-14&hotel.stars_3=yes&hotel.min_score=4&hotel.adults=3&hotel.city=London,+United+Kingdom&hotel.checkout=2015-09-15&hotel.search_page=1\n",
      "\n",
      "http://www.mysearchforhotels.com/shop/hotelsearch?hotel.checkin=2015-09-26&hotel.customMaximumPriceFilter=175&hotel.stars_4=yes&hotel.min_score=5&hotel.adults=2&hotel.city=New+York,+NY,+United+States&hotel.checkout=2015-09-27&hotel.search_page=1\n",
      "\n",
      "http://www.mysearchforhotels.com/shop/hotelsearch?hotel.checkin=2015-09-02&hotel.stars_5=yes&hotel.stars_4=yes&hotel.min_score=4&hotel.adults=1&hotel.city=Hong+Kong,+Hong+Kong&hotel.checkout=2015-09-03&hotel.search_page=1\n",
      "\n",
      "http://www.mysearchforhotels.com/shop/hotelsearch?hotel.checkin=2015-09-20&hotel.customMaximumPriceFilter=275&hotel.min_score=5&hotel.adults=3&hotel.city=London,+United+Kingdom&hotel.checkout=2015-09-29&hotel.search_page=1\n",
      "\n",
      "http://www.mysearchforhotels.com/shop/hotelsearch?hotel.checkin=2015-09-14&hotel.freeCancellation=yes&hotel.adults=2&hotel.city=San+Francisco,+California,+United+States&hotel.checkout=2015-09-16&hotel.search_page=1\n",
      "\n",
      "10000\n",
      "20000\n",
      "30000\n",
      "40000\n",
      "50000\n",
      "60000\n",
      "70000\n"
     ]
    }
   ],
   "source": [
    "dict_temp = {}\n",
    "for name in names:\n",
    "    dict_temp[name] = [np.nan] * len(lines)\n",
    "\n",
    "for i in range(len(lines)):\n",
    "    \n",
    "    if (i<=5):\n",
    "        print(lines[i])\n",
    "    \n",
    "    for string in lines[i].split('&'):\n",
    "        string1 = string.split('=')[0].split('.')[-1]\n",
    "        string2 = string.split('=')[1]\n",
    "        \n",
    "        if string1 == 'city':\n",
    "            string2 = string2.replace('+',' ')\n",
    "            \n",
    "        if string1 == 'search_page':\n",
    "            string2 = string2.replace('\\n','')\n",
    "        \n",
    "        #print(string1,string2)\n",
    "         \n",
    "        dict_temp[string1][i] = string2\n",
    "        \n",
    "    if (i % 10000 == 0):\n",
    "        print(i)"
   ]
  },
  {
   "cell_type": "code",
   "execution_count": 7,
   "metadata": {
    "collapsed": false
   },
   "outputs": [
    {
     "name": "stdout",
     "output_type": "stream",
     "text": [
      "(77677, 18)\n"
     ]
    },
    {
     "data": {
      "text/html": [
       "<div>\n",
       "<style scoped>\n",
       "    .dataframe tbody tr th:only-of-type {\n",
       "        vertical-align: middle;\n",
       "    }\n",
       "\n",
       "    .dataframe tbody tr th {\n",
       "        vertical-align: top;\n",
       "    }\n",
       "\n",
       "    .dataframe thead th {\n",
       "        text-align: right;\n",
       "    }\n",
       "</style>\n",
       "<table border=\"1\" class=\"dataframe\">\n",
       "  <thead>\n",
       "    <tr style=\"text-align: right;\">\n",
       "      <th></th>\n",
       "      <th>checkin</th>\n",
       "      <th>checkout</th>\n",
       "      <th>customMinimumPriceFilter</th>\n",
       "      <th>customMaximumPriceFilter</th>\n",
       "      <th>freeCancellation</th>\n",
       "      <th>stars_5</th>\n",
       "      <th>stars_4</th>\n",
       "      <th>stars_3</th>\n",
       "      <th>stars_2</th>\n",
       "      <th>stars_1</th>\n",
       "      <th>max_score</th>\n",
       "      <th>min_score</th>\n",
       "      <th>couponCode</th>\n",
       "      <th>adults</th>\n",
       "      <th>city</th>\n",
       "      <th>children</th>\n",
       "      <th>amenities</th>\n",
       "      <th>search_page</th>\n",
       "    </tr>\n",
       "  </thead>\n",
       "  <tbody>\n",
       "    <tr>\n",
       "      <th>0</th>\n",
       "      <td>2015-09-19</td>\n",
       "      <td>2015-09-20</td>\n",
       "      <td>NaN</td>\n",
       "      <td>NaN</td>\n",
       "      <td>NaN</td>\n",
       "      <td>NaN</td>\n",
       "      <td>yes</td>\n",
       "      <td>NaN</td>\n",
       "      <td>NaN</td>\n",
       "      <td>NaN</td>\n",
       "      <td>NaN</td>\n",
       "      <td>4</td>\n",
       "      <td>NaN</td>\n",
       "      <td>3</td>\n",
       "      <td>New York, NY, United States</td>\n",
       "      <td>NaN</td>\n",
       "      <td>NaN</td>\n",
       "      <td>1</td>\n",
       "    </tr>\n",
       "    <tr>\n",
       "      <th>1</th>\n",
       "      <td>2015-09-14</td>\n",
       "      <td>2015-09-15</td>\n",
       "      <td>NaN</td>\n",
       "      <td>NaN</td>\n",
       "      <td>NaN</td>\n",
       "      <td>NaN</td>\n",
       "      <td>NaN</td>\n",
       "      <td>yes</td>\n",
       "      <td>NaN</td>\n",
       "      <td>NaN</td>\n",
       "      <td>NaN</td>\n",
       "      <td>4</td>\n",
       "      <td>NaN</td>\n",
       "      <td>3</td>\n",
       "      <td>London, United Kingdom</td>\n",
       "      <td>NaN</td>\n",
       "      <td>NaN</td>\n",
       "      <td>1</td>\n",
       "    </tr>\n",
       "    <tr>\n",
       "      <th>2</th>\n",
       "      <td>2015-09-26</td>\n",
       "      <td>2015-09-27</td>\n",
       "      <td>NaN</td>\n",
       "      <td>175</td>\n",
       "      <td>NaN</td>\n",
       "      <td>NaN</td>\n",
       "      <td>yes</td>\n",
       "      <td>NaN</td>\n",
       "      <td>NaN</td>\n",
       "      <td>NaN</td>\n",
       "      <td>NaN</td>\n",
       "      <td>5</td>\n",
       "      <td>NaN</td>\n",
       "      <td>2</td>\n",
       "      <td>New York, NY, United States</td>\n",
       "      <td>NaN</td>\n",
       "      <td>NaN</td>\n",
       "      <td>1</td>\n",
       "    </tr>\n",
       "    <tr>\n",
       "      <th>3</th>\n",
       "      <td>2015-09-02</td>\n",
       "      <td>2015-09-03</td>\n",
       "      <td>NaN</td>\n",
       "      <td>NaN</td>\n",
       "      <td>NaN</td>\n",
       "      <td>yes</td>\n",
       "      <td>yes</td>\n",
       "      <td>NaN</td>\n",
       "      <td>NaN</td>\n",
       "      <td>NaN</td>\n",
       "      <td>NaN</td>\n",
       "      <td>4</td>\n",
       "      <td>NaN</td>\n",
       "      <td>1</td>\n",
       "      <td>Hong Kong, Hong Kong</td>\n",
       "      <td>NaN</td>\n",
       "      <td>NaN</td>\n",
       "      <td>1</td>\n",
       "    </tr>\n",
       "    <tr>\n",
       "      <th>4</th>\n",
       "      <td>2015-09-20</td>\n",
       "      <td>2015-09-29</td>\n",
       "      <td>NaN</td>\n",
       "      <td>275</td>\n",
       "      <td>NaN</td>\n",
       "      <td>NaN</td>\n",
       "      <td>NaN</td>\n",
       "      <td>NaN</td>\n",
       "      <td>NaN</td>\n",
       "      <td>NaN</td>\n",
       "      <td>NaN</td>\n",
       "      <td>5</td>\n",
       "      <td>NaN</td>\n",
       "      <td>3</td>\n",
       "      <td>London, United Kingdom</td>\n",
       "      <td>NaN</td>\n",
       "      <td>NaN</td>\n",
       "      <td>1</td>\n",
       "    </tr>\n",
       "    <tr>\n",
       "      <th>5</th>\n",
       "      <td>2015-09-14</td>\n",
       "      <td>2015-09-16</td>\n",
       "      <td>NaN</td>\n",
       "      <td>NaN</td>\n",
       "      <td>yes</td>\n",
       "      <td>NaN</td>\n",
       "      <td>NaN</td>\n",
       "      <td>NaN</td>\n",
       "      <td>NaN</td>\n",
       "      <td>NaN</td>\n",
       "      <td>NaN</td>\n",
       "      <td>NaN</td>\n",
       "      <td>NaN</td>\n",
       "      <td>2</td>\n",
       "      <td>San Francisco, California, United States</td>\n",
       "      <td>NaN</td>\n",
       "      <td>NaN</td>\n",
       "      <td>1</td>\n",
       "    </tr>\n",
       "    <tr>\n",
       "      <th>6</th>\n",
       "      <td>2015-09-20</td>\n",
       "      <td>2015-09-21</td>\n",
       "      <td>NaN</td>\n",
       "      <td>125</td>\n",
       "      <td>NaN</td>\n",
       "      <td>NaN</td>\n",
       "      <td>NaN</td>\n",
       "      <td>NaN</td>\n",
       "      <td>yes</td>\n",
       "      <td>NaN</td>\n",
       "      <td>NaN</td>\n",
       "      <td>5</td>\n",
       "      <td>NaN</td>\n",
       "      <td>1</td>\n",
       "      <td>Hong Kong, Hong Kong</td>\n",
       "      <td>NaN</td>\n",
       "      <td>NaN</td>\n",
       "      <td>1</td>\n",
       "    </tr>\n",
       "    <tr>\n",
       "      <th>7</th>\n",
       "      <td>2015-09-26</td>\n",
       "      <td>2015-09-27</td>\n",
       "      <td>NaN</td>\n",
       "      <td>175</td>\n",
       "      <td>NaN</td>\n",
       "      <td>NaN</td>\n",
       "      <td>NaN</td>\n",
       "      <td>NaN</td>\n",
       "      <td>NaN</td>\n",
       "      <td>NaN</td>\n",
       "      <td>NaN</td>\n",
       "      <td>5</td>\n",
       "      <td>NaN</td>\n",
       "      <td>1</td>\n",
       "      <td>San Francisco, California, United States</td>\n",
       "      <td>NaN</td>\n",
       "      <td>NaN</td>\n",
       "      <td>1</td>\n",
       "    </tr>\n",
       "    <tr>\n",
       "      <th>8</th>\n",
       "      <td>2015-09-01</td>\n",
       "      <td>2015-09-02</td>\n",
       "      <td>NaN</td>\n",
       "      <td>75</td>\n",
       "      <td>NaN</td>\n",
       "      <td>NaN</td>\n",
       "      <td>NaN</td>\n",
       "      <td>NaN</td>\n",
       "      <td>yes</td>\n",
       "      <td>NaN</td>\n",
       "      <td>NaN</td>\n",
       "      <td>4</td>\n",
       "      <td>NaN</td>\n",
       "      <td>2</td>\n",
       "      <td>New York, NY, United States</td>\n",
       "      <td>1</td>\n",
       "      <td>NaN</td>\n",
       "      <td>1</td>\n",
       "    </tr>\n",
       "    <tr>\n",
       "      <th>9</th>\n",
       "      <td>2015-09-25</td>\n",
       "      <td>2015-09-26</td>\n",
       "      <td>NaN</td>\n",
       "      <td>75</td>\n",
       "      <td>yes</td>\n",
       "      <td>NaN</td>\n",
       "      <td>NaN</td>\n",
       "      <td>NaN</td>\n",
       "      <td>NaN</td>\n",
       "      <td>NaN</td>\n",
       "      <td>NaN</td>\n",
       "      <td>5</td>\n",
       "      <td>NaN</td>\n",
       "      <td>1</td>\n",
       "      <td>New York, NY, United States</td>\n",
       "      <td>NaN</td>\n",
       "      <td>NaN</td>\n",
       "      <td>1</td>\n",
       "    </tr>\n",
       "  </tbody>\n",
       "</table>\n",
       "</div>"
      ],
      "text/plain": [
       "      checkin    checkout customMinimumPriceFilter customMaximumPriceFilter  \\\n",
       "0  2015-09-19  2015-09-20                      NaN                      NaN   \n",
       "1  2015-09-14  2015-09-15                      NaN                      NaN   \n",
       "2  2015-09-26  2015-09-27                      NaN                      175   \n",
       "3  2015-09-02  2015-09-03                      NaN                      NaN   \n",
       "4  2015-09-20  2015-09-29                      NaN                      275   \n",
       "5  2015-09-14  2015-09-16                      NaN                      NaN   \n",
       "6  2015-09-20  2015-09-21                      NaN                      125   \n",
       "7  2015-09-26  2015-09-27                      NaN                      175   \n",
       "8  2015-09-01  2015-09-02                      NaN                       75   \n",
       "9  2015-09-25  2015-09-26                      NaN                       75   \n",
       "\n",
       "  freeCancellation stars_5 stars_4 stars_3 stars_2 stars_1 max_score  \\\n",
       "0              NaN     NaN     yes     NaN     NaN     NaN       NaN   \n",
       "1              NaN     NaN     NaN     yes     NaN     NaN       NaN   \n",
       "2              NaN     NaN     yes     NaN     NaN     NaN       NaN   \n",
       "3              NaN     yes     yes     NaN     NaN     NaN       NaN   \n",
       "4              NaN     NaN     NaN     NaN     NaN     NaN       NaN   \n",
       "5              yes     NaN     NaN     NaN     NaN     NaN       NaN   \n",
       "6              NaN     NaN     NaN     NaN     yes     NaN       NaN   \n",
       "7              NaN     NaN     NaN     NaN     NaN     NaN       NaN   \n",
       "8              NaN     NaN     NaN     NaN     yes     NaN       NaN   \n",
       "9              yes     NaN     NaN     NaN     NaN     NaN       NaN   \n",
       "\n",
       "  min_score couponCode adults                                      city  \\\n",
       "0         4        NaN      3               New York, NY, United States   \n",
       "1         4        NaN      3                    London, United Kingdom   \n",
       "2         5        NaN      2               New York, NY, United States   \n",
       "3         4        NaN      1                      Hong Kong, Hong Kong   \n",
       "4         5        NaN      3                    London, United Kingdom   \n",
       "5       NaN        NaN      2  San Francisco, California, United States   \n",
       "6         5        NaN      1                      Hong Kong, Hong Kong   \n",
       "7         5        NaN      1  San Francisco, California, United States   \n",
       "8         4        NaN      2               New York, NY, United States   \n",
       "9         5        NaN      1               New York, NY, United States   \n",
       "\n",
       "  children amenities search_page  \n",
       "0      NaN       NaN           1  \n",
       "1      NaN       NaN           1  \n",
       "2      NaN       NaN           1  \n",
       "3      NaN       NaN           1  \n",
       "4      NaN       NaN           1  \n",
       "5      NaN       NaN           1  \n",
       "6      NaN       NaN           1  \n",
       "7      NaN       NaN           1  \n",
       "8        1       NaN           1  \n",
       "9      NaN       NaN           1  "
      ]
     },
     "execution_count": 7,
     "metadata": {},
     "output_type": "execute_result"
    }
   ],
   "source": [
    "df = pd.DataFrame(dict_temp, columns = names)\n",
    "print(df.shape)\n",
    "df.head(10)"
   ]
  },
  {
   "cell_type": "code",
   "execution_count": 8,
   "metadata": {
    "collapsed": false
   },
   "outputs": [],
   "source": [
    "df.checkin = pd.to_datetime(df.checkin)\n",
    "df.checkout = pd.to_datetime(df.checkout)\n",
    "\n",
    "df = df.rename(columns={'customMinimumPriceFilter': 'MinPrice', \n",
    "                        'customMaximumPriceFilter': 'MaxPrice'})"
   ]
  },
  {
   "cell_type": "code",
   "execution_count": 9,
   "metadata": {
    "collapsed": false
   },
   "outputs": [
    {
     "data": {
      "text/plain": [
       "checkin             datetime64[ns]\n",
       "checkout            datetime64[ns]\n",
       "MinPrice                    object\n",
       "MaxPrice                    object\n",
       "freeCancellation            object\n",
       "stars_5                     object\n",
       "stars_4                     object\n",
       "stars_3                     object\n",
       "stars_2                     object\n",
       "stars_1                     object\n",
       "max_score                   object\n",
       "min_score                   object\n",
       "couponCode                  object\n",
       "adults                      object\n",
       "city                        object\n",
       "children                    object\n",
       "amenities                   object\n",
       "search_page                 object\n",
       "dtype: object"
      ]
     },
     "execution_count": 9,
     "metadata": {},
     "output_type": "execute_result"
    }
   ],
   "source": [
    "df.dtypes"
   ]
  },
  {
   "cell_type": "code",
   "execution_count": 10,
   "metadata": {
    "collapsed": false
   },
   "outputs": [
    {
     "data": {
      "text/plain": [
       "checkin                 0\n",
       "checkout                0\n",
       "MinPrice            76407\n",
       "MaxPrice            28389\n",
       "freeCancellation    59728\n",
       "stars_5             73374\n",
       "stars_4             64973\n",
       "stars_3             62815\n",
       "stars_2             67746\n",
       "stars_1             68354\n",
       "max_score           72160\n",
       "min_score           16851\n",
       "couponCode          75456\n",
       "adults                  0\n",
       "city                    0\n",
       "children            77417\n",
       "amenities           76973\n",
       "search_page             0\n",
       "dtype: int64"
      ]
     },
     "execution_count": 10,
     "metadata": {},
     "output_type": "execute_result"
    }
   ],
   "source": [
    "df.isnull().sum()"
   ]
  },
  {
   "cell_type": "markdown",
   "metadata": {},
   "source": [
    "## Question I\n",
    "\n",
    "For each search query, how many amenities were selected?"
   ]
  },
  {
   "cell_type": "code",
   "execution_count": 11,
   "metadata": {
    "collapsed": false
   },
   "outputs": [
    {
     "data": {
      "text/plain": [
       "array([nan, 'yes_smoking', 'shuttle', 'internet', 'yes_pet', 'breakfast',\n",
       "       'lounge'], dtype=object)"
      ]
     },
     "execution_count": 11,
     "metadata": {},
     "output_type": "execute_result"
    }
   ],
   "source": [
    "df.amenities.unique()"
   ]
  },
  {
   "cell_type": "code",
   "execution_count": 12,
   "metadata": {
    "collapsed": false
   },
   "outputs": [
    {
     "data": {
      "text/plain": [
       "internet       272\n",
       "yes_smoking    170\n",
       "shuttle        111\n",
       "yes_pet         90\n",
       "breakfast       39\n",
       "lounge          22\n",
       "Name: amenities, dtype: int64"
      ]
     },
     "execution_count": 12,
     "metadata": {},
     "output_type": "execute_result"
    }
   ],
   "source": [
    "df.amenities.value_counts()"
   ]
  },
  {
   "cell_type": "markdown",
   "metadata": {},
   "source": [
    "## Question II\n",
    "\n",
    "Often, to measure the quality of a search algorithm, data scientists use some metric based on how often users click on the second page, third page, and so on. The idea here is that a great search algorithm should return all interesting results on the first page and never force users to visit the other pages (how often do you click on the second page results when you search on Google? Almost never, right?).\n",
    "\n",
    "Create a metric based on the above idea and find the city with the worst search algorithm."
   ]
  },
  {
   "cell_type": "code",
   "execution_count": 13,
   "metadata": {
    "collapsed": false
   },
   "outputs": [],
   "source": [
    "df.search_page = df.search_page.astype(int)"
   ]
  },
  {
   "cell_type": "code",
   "execution_count": 14,
   "metadata": {
    "collapsed": false
   },
   "outputs": [
    {
     "data": {
      "text/plain": [
       "1     50000\n",
       "2     11637\n",
       "3      5864\n",
       "4      3635\n",
       "5      2422\n",
       "6      1636\n",
       "7      1114\n",
       "8       740\n",
       "9       436\n",
       "10      193\n",
       "Name: search_page, dtype: int64"
      ]
     },
     "execution_count": 14,
     "metadata": {},
     "output_type": "execute_result"
    }
   ],
   "source": [
    "df.search_page.value_counts()"
   ]
  },
  {
   "cell_type": "code",
   "execution_count": 15,
   "metadata": {
    "collapsed": false
   },
   "outputs": [
    {
     "name": "stderr",
     "output_type": "stream",
     "text": [
      "/Library/Frameworks/Python.framework/Versions/3.7/lib/python3.7/site-packages/ipykernel_launcher.py:1: SettingWithCopyWarning: \n",
      "A value is trying to be set on a copy of a slice from a DataFrame\n",
      "\n",
      "See the caveats in the documentation: http://pandas.pydata.org/pandas-docs/stable/indexing.html#indexing-view-versus-copy\n",
      "  \"\"\"Entry point for launching an IPython kernel.\n"
     ]
    }
   ],
   "source": [
    "df.search_page[df.search_page >1] = 'Other_Pages'"
   ]
  },
  {
   "cell_type": "code",
   "execution_count": 16,
   "metadata": {
    "collapsed": true
   },
   "outputs": [],
   "source": [
    "df.search_page[df.search_page == 1] = 'Page_One'"
   ]
  },
  {
   "cell_type": "code",
   "execution_count": 17,
   "metadata": {
    "collapsed": false
   },
   "outputs": [
    {
     "data": {
      "image/png": "[encoded data removed]",
      "text/plain": [
       "<Figure size 720x432 with 1 Axes>"
      ]
     },
     "metadata": {
      "needs_background": "light"
     },
     "output_type": "display_data"
    }
   ],
   "source": [
    "fig, ax = plt.subplots(figsize=(10, 6))\n",
    "sns.countplot(x=df.city, hue=df.search_page, ax =ax)\n",
    "ax.tick_params(labelrotation=20)\n",
    "plt.show()"
   ]
  },
  {
   "cell_type": "code",
   "execution_count": 18,
   "metadata": {
    "collapsed": false
   },
   "outputs": [
    {
     "data": {
      "text/html": [
       "<div>\n",
       "<style scoped>\n",
       "    .dataframe tbody tr th:only-of-type {\n",
       "        vertical-align: middle;\n",
       "    }\n",
       "\n",
       "    .dataframe tbody tr th {\n",
       "        vertical-align: top;\n",
       "    }\n",
       "\n",
       "    .dataframe thead th {\n",
       "        text-align: right;\n",
       "    }\n",
       "</style>\n",
       "<table border=\"1\" class=\"dataframe\">\n",
       "  <thead>\n",
       "    <tr style=\"text-align: right;\">\n",
       "      <th></th>\n",
       "      <th>city</th>\n",
       "      <th>page_one</th>\n",
       "      <th>other_pages</th>\n",
       "      <th>ratio</th>\n",
       "    </tr>\n",
       "  </thead>\n",
       "  <tbody>\n",
       "    <tr>\n",
       "      <th>0</th>\n",
       "      <td>Hong Kong, Hong Kong</td>\n",
       "      <td>10735</td>\n",
       "      <td>1051</td>\n",
       "      <td>0.097904</td>\n",
       "    </tr>\n",
       "    <tr>\n",
       "      <th>1</th>\n",
       "      <td>London, United Kingdom</td>\n",
       "      <td>14775</td>\n",
       "      <td>13283</td>\n",
       "      <td>0.899019</td>\n",
       "    </tr>\n",
       "    <tr>\n",
       "      <th>2</th>\n",
       "      <td>New York, NY, United States</td>\n",
       "      <td>16385</td>\n",
       "      <td>12999</td>\n",
       "      <td>0.793348</td>\n",
       "    </tr>\n",
       "    <tr>\n",
       "      <th>3</th>\n",
       "      <td>San Francisco, California, United States</td>\n",
       "      <td>8105</td>\n",
       "      <td>344</td>\n",
       "      <td>0.042443</td>\n",
       "    </tr>\n",
       "  </tbody>\n",
       "</table>\n",
       "</div>"
      ],
      "text/plain": [
       "                                       city  page_one  other_pages     ratio\n",
       "0                      Hong Kong, Hong Kong     10735         1051  0.097904\n",
       "1                    London, United Kingdom     14775        13283  0.899019\n",
       "2               New York, NY, United States     16385        12999  0.793348\n",
       "3  San Francisco, California, United States      8105          344  0.042443"
      ]
     },
     "execution_count": 18,
     "metadata": {},
     "output_type": "execute_result"
    }
   ],
   "source": [
    "df2 = df[df.search_page == 'Page_One'].groupby('city').size().reset_index(name='page_one')\n",
    "#df2\n",
    "df3 = df[df.search_page == 'Other_Pages'].groupby('city').size().reset_index(name='other_pages')\n",
    "#df3\n",
    "df2 = pd.merge(df2, df3, how='left', on='city')\n",
    "df2['ratio'] = df2.other_pages/df2.page_one\n",
    "df2"
   ]
  },
  {
   "cell_type": "code",
   "execution_count": 19,
   "metadata": {
    "collapsed": false
   },
   "outputs": [
    {
     "data": {
      "image/png": "[encoded data removed]",
      "text/plain": [
       "<Figure size 720x432 with 1 Axes>"
      ]
     },
     "metadata": {
      "needs_background": "light"
     },
     "output_type": "display_data"
    }
   ],
   "source": [
    "fig, ax = plt.subplots(figsize=(10, 6))\n",
    "sns.barplot(x = df2.city, y= df2.ratio)\n",
    "ax.tick_params(labelrotation=20)\n",
    "plt.show()"
   ]
  },
  {
   "cell_type": "markdown",
   "metadata": {},
   "source": [
    "New York and London should put more searches on page one."
   ]
  },
  {
   "cell_type": "code",
   "execution_count": null,
   "metadata": {
    "collapsed": true
   },
   "outputs": [],
   "source": []
  }
 ],
 "metadata": {
  "kernelspec": {
   "display_name": "Python 3",
   "language": "python",
   "name": "python3"
  },
  "language_info": {
   "codemirror_mode": {
    "name": "ipython",
    "version": 3
   },
   "file_extension": ".py",
   "mimetype": "text/x-python",
   "name": "python",
   "nbconvert_exporter": "python",
   "pygments_lexer": "ipython3",
   "version": "3.7.3"
  }
 },
 "nbformat": 4,
 "nbformat_minor": 0
}

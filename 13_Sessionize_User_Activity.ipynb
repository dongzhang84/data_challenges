{
 "cells": [
  {
   "cell_type": "markdown",
   "metadata": {},
   "source": [
    "## Sessionize User Activity\n",
    "\n",
    "\n",
    "### Goal\n",
    "\n",
    "This is another challenge where your data is stored in a JSON file. Each row in this JSON stores info about all user searches within a session.\n",
    "\n",
    "Analyzing user behavior within the same session is often crucial. Clustering users based on their browsing behavior is probably the most important step if you want to personalize your site.\n",
    "\n",
    "The goal of this challenge is to build the foundation of personalization by identifying searches likely to happen together and cluster users based on their session searches.\n",
    "\n",
    "\n",
    "### Challenge Description\n",
    "\n",
    "Company XYZ is a Online Travel Agent site, such as Expedia, Booking.com, etc.\n",
    "\n",
    "They store their data in JSON files. Each row in the json shows all different cities which have been searched for by a user within the same session (as well as some other info about the user). That is, if I go to expedia and look for hotels in NY and SF within the same session, the corresponding JSON row will show my user id, some basic info about myself and the two cities.\n",
    "\n",
    "You are given the following tasks:\n",
    "\n",
    "There was a bug in the code and one country didn’t get logged. It just shows up as an empty field (“”). Can you guess which country was that? How?\n",
    "\n",
    "\n",
    "For each city, find the most likely city to be also searched for within the same session.\n",
    "\n",
    "\n",
    "Travel sites are browsed by two kinds of users. Users who are actually planning a trip and users who just dream about a vacation. The first ones have obviously a much higher purchasing intent.\n",
    "Users planning a trip often search for cities close to each other, while users who search for cities far away from each other are often just dreaming about a vacation. That is, a user searching for LA, SF and Las Vegas in the same session is much more likely to book a hotel than a user searching for NY, Paris, Kuala Lumpur (makes sense, right?).\n",
    "Based on this idea, come up with an algorithm that clusters sessions into two groups: high intent and low intent. Explain all assumptions you make along the way."
   ]
  },
  {
   "cell_type": "code",
   "execution_count": 1,
   "metadata": {
    "collapsed": true
   },
   "outputs": [],
   "source": [
    "import numpy as np\n",
    "import pandas as pd\n",
    "import matplotlib.pyplot as plt\n",
    "import seaborn as sns"
   ]
  },
  {
   "cell_type": "code",
   "execution_count": 2,
   "metadata": {
    "collapsed": false
   },
   "outputs": [
    {
     "name": "stdout",
     "output_type": "stream",
     "text": [
      "13_Sessionize_User_Activity.ipynb  \u001b[31mworldcities.csv\u001b[m\u001b[m*\r\n",
      "city_searches.json\r\n"
     ]
    }
   ],
   "source": [
    "ls"
   ]
  },
  {
   "cell_type": "code",
   "execution_count": 3,
   "metadata": {
    "collapsed": false
   },
   "outputs": [
    {
     "name": "stdout",
     "output_type": "stream",
     "text": [
      "(20022, 4)\n"
     ]
    },
    {
     "data": {
      "text/html": [
       "<div>\n",
       "<style scoped>\n",
       "    .dataframe tbody tr th:only-of-type {\n",
       "        vertical-align: middle;\n",
       "    }\n",
       "\n",
       "    .dataframe tbody tr th {\n",
       "        vertical-align: top;\n",
       "    }\n",
       "\n",
       "    .dataframe thead th {\n",
       "        text-align: right;\n",
       "    }\n",
       "</style>\n",
       "<table border=\"1\" class=\"dataframe\">\n",
       "  <thead>\n",
       "    <tr style=\"text-align: right;\">\n",
       "      <th></th>\n",
       "      <th>cities</th>\n",
       "      <th>session_id</th>\n",
       "      <th>unix_timestamp</th>\n",
       "      <th>user</th>\n",
       "    </tr>\n",
       "  </thead>\n",
       "  <tbody>\n",
       "    <tr>\n",
       "      <th>0</th>\n",
       "      <td>[San Jose CA, Montreal QC]</td>\n",
       "      <td>[D258NVMV202LS]</td>\n",
       "      <td>[1442640552]</td>\n",
       "      <td>[[{'user_id': 5749, 'joining_date': '2015-04-0...</td>\n",
       "    </tr>\n",
       "    <tr>\n",
       "      <th>1</th>\n",
       "      <td>[New York NY]</td>\n",
       "      <td>[TDG10UKG7I4LR]</td>\n",
       "      <td>[1432110137]</td>\n",
       "      <td>[[{'user_id': 10716, 'joining_date': '2015-03-...</td>\n",
       "    </tr>\n",
       "    <tr>\n",
       "      <th>2</th>\n",
       "      <td>[Montreal QC, Quebec QC]</td>\n",
       "      <td>[OH4ZDIGN9BLQS]</td>\n",
       "      <td>[1437049311]</td>\n",
       "      <td>[[{'user_id': 2941, 'joining_date': '2015-03-1...</td>\n",
       "    </tr>\n",
       "    <tr>\n",
       "      <th>3</th>\n",
       "      <td>[Chicago IL]</td>\n",
       "      <td>[CWHIAYKQ7RA28]</td>\n",
       "      <td>[1432215908]</td>\n",
       "      <td>[[{'user_id': 2164, 'joining_date': '2015-03-2...</td>\n",
       "    </tr>\n",
       "    <tr>\n",
       "      <th>4</th>\n",
       "      <td>[Toronto ON, Houston TX]</td>\n",
       "      <td>[GI8GZJAWAC80P]</td>\n",
       "      <td>[1443556226]</td>\n",
       "      <td>[[{'user_id': 10493, 'joining_date': '2015-03-...</td>\n",
       "    </tr>\n",
       "  </tbody>\n",
       "</table>\n",
       "</div>"
      ],
      "text/plain": [
       "                       cities       session_id unix_timestamp  \\\n",
       "0  [San Jose CA, Montreal QC]  [D258NVMV202LS]   [1442640552]   \n",
       "1               [New York NY]  [TDG10UKG7I4LR]   [1432110137]   \n",
       "2    [Montreal QC, Quebec QC]  [OH4ZDIGN9BLQS]   [1437049311]   \n",
       "3                [Chicago IL]  [CWHIAYKQ7RA28]   [1432215908]   \n",
       "4    [Toronto ON, Houston TX]  [GI8GZJAWAC80P]   [1443556226]   \n",
       "\n",
       "                                                user  \n",
       "0  [[{'user_id': 5749, 'joining_date': '2015-04-0...  \n",
       "1  [[{'user_id': 10716, 'joining_date': '2015-03-...  \n",
       "2  [[{'user_id': 2941, 'joining_date': '2015-03-1...  \n",
       "3  [[{'user_id': 2164, 'joining_date': '2015-03-2...  \n",
       "4  [[{'user_id': 10493, 'joining_date': '2015-03-...  "
      ]
     },
     "execution_count": 3,
     "metadata": {},
     "output_type": "execute_result"
    }
   ],
   "source": [
    "df = pd.read_json('city_searches.json')\n",
    "print(df.shape)\n",
    "df.head()"
   ]
  },
  {
   "cell_type": "markdown",
   "metadata": {},
   "source": [
    "* city_searches - a list of searches happening within the same session\n",
    "\n",
    "Fields:\n",
    "\n",
    "* session_id : session id. Unique by row\n",
    "* unix_timestamp : unixtime stamp of when the session started\n",
    "* cities : the unique cities which were searched for within the same session by a user\n",
    "* user : it is has the following nested fields:\n",
    "\n",
    "        user_id: the id of the user\n",
    "        joining_date: when the user created the account\n",
    "        country: where the user is based"
   ]
  },
  {
   "cell_type": "code",
   "execution_count": 4,
   "metadata": {
    "collapsed": false
   },
   "outputs": [
    {
     "data": {
      "text/plain": [
       "cities            0\n",
       "session_id        0\n",
       "unix_timestamp    0\n",
       "user              0\n",
       "dtype: int64"
      ]
     },
     "execution_count": 4,
     "metadata": {},
     "output_type": "execute_result"
    }
   ],
   "source": [
    "df.isnull().sum()"
   ]
  },
  {
   "cell_type": "code",
   "execution_count": 5,
   "metadata": {
    "collapsed": false
   },
   "outputs": [
    {
     "data": {
      "text/plain": [
       "cities            object\n",
       "session_id        object\n",
       "unix_timestamp    object\n",
       "user              object\n",
       "dtype: object"
      ]
     },
     "execution_count": 5,
     "metadata": {},
     "output_type": "execute_result"
    }
   ],
   "source": [
    "df.dtypes"
   ]
  },
  {
   "cell_type": "markdown",
   "metadata": {},
   "source": [
    "## Question I \n",
    "\n",
    "There was a bug in the code and one country didn’t get logged. It just shows up as an empty field (“”). Can you guess which country was that? How?"
   ]
  },
  {
   "cell_type": "code",
   "execution_count": 6,
   "metadata": {
    "collapsed": false
   },
   "outputs": [
    {
     "data": {
      "text/plain": [
       "'FR'"
      ]
     },
     "execution_count": 6,
     "metadata": {},
     "output_type": "execute_result"
    }
   ],
   "source": [
    "#df.user[1]\n",
    "df.user[0][0][0]['country']"
   ]
  },
  {
   "cell_type": "code",
   "execution_count": 7,
   "metadata": {
    "collapsed": false
   },
   "outputs": [],
   "source": [
    "countries = []\n",
    "cities = []\n",
    "\n",
    "for i in range(df.shape[0]):\n",
    "    country = df.user[i][0][0]['country'] \n",
    "    city =  df.cities[i]\n",
    "    if country:\n",
    "        cities.append(city)\n",
    "        if country not in countries:\n",
    "            countries.append(country)"
   ]
  },
  {
   "cell_type": "code",
   "execution_count": 8,
   "metadata": {
    "collapsed": false
   },
   "outputs": [
    {
     "data": {
      "text/plain": [
       "['FR', 'DE', 'US', 'IT', 'UK', 'ES']"
      ]
     },
     "execution_count": 8,
     "metadata": {},
     "output_type": "execute_result"
    }
   ],
   "source": [
    "countries"
   ]
  },
  {
   "cell_type": "markdown",
   "metadata": {},
   "source": [
    "Canada is missing."
   ]
  },
  {
   "cell_type": "code",
   "execution_count": 9,
   "metadata": {
    "collapsed": false
   },
   "outputs": [
    {
     "name": "stdout",
     "output_type": "stream",
     "text": [
      "['Montreal QC, Quebec QC']\n",
      "['New York NY']\n",
      "['Los Angeles CA']\n",
      "['New York NY, Toronto ON']\n",
      "['New York NY']\n",
      "['Vancouver BC, Houston TX']\n",
      "['Philadelphia PA, Houston TX']\n",
      "['New York NY, Vancouver BC']\n",
      "['Los Angeles CA']\n",
      "['San Diego CA, Santa Ana CA']\n",
      "['San Diego CA, Santa Ana CA, Anaheim CA']\n",
      "['Houston TX']\n",
      "['Philadelphia PA, Vancouver BC']\n",
      "['Toronto ON']\n",
      "['Calgary AB, Los Angeles CA']\n",
      "['Montreal QC']\n",
      "['San Antonio TX, Corpus Christi TX']\n",
      "['Los Angeles CA, Toronto ON']\n",
      "['New York NY']\n",
      "['New York NY, Jersey City NJ']\n",
      "['New York NY']\n",
      "['Los Angeles CA']\n",
      "['Los Angeles CA']\n",
      "['New York NY']\n",
      "['New York NY, Toronto ON']\n",
      "['Los Angeles CA']\n",
      "['New York NY']\n",
      "['Houston TX, Los Angeles CA']\n",
      "['Columbus OH']\n",
      "['Vancouver BC, Edmonton AB, Victoria BC']\n",
      "['San Antonio TX, Arlington TX']\n",
      "['Toronto ON, Oshawa ON']\n",
      "['Edmonton AB']\n",
      "['Toronto ON, Buffalo NY']\n",
      "['New York NY']\n",
      "['San Diego CA, New York NY']\n",
      "['Columbus OH']\n",
      "['Vancouver BC']\n",
      "['Montreal QC']\n",
      "['San Antonio TX']\n",
      "['Dallas TX, Los Angeles CA']\n",
      "['San Diego CA']\n",
      "['Toronto ON']\n",
      "['Toronto ON, Chicago IL']\n"
     ]
    }
   ],
   "source": [
    "# Yes, a lot of Canada cities, so it is Canada.\n",
    "\n",
    "for i in range(df.shape[0]):\n",
    "    country = df.user[i][0][0]['country'] \n",
    "    city =  df.cities[i]\n",
    "    if not country and i<=300:\n",
    "        print(df.cities[i])"
   ]
  },
  {
   "cell_type": "markdown",
   "metadata": {},
   "source": [
    "## Question II\n",
    "\n",
    "For each city, find the most likely city to be also searched for within the same session.\n"
   ]
  },
  {
   "cell_type": "code",
   "execution_count": 10,
   "metadata": {
    "collapsed": false
   },
   "outputs": [
    {
     "data": {
      "text/plain": [
       "['San Jose CA', ' Montreal QC']"
      ]
     },
     "execution_count": 10,
     "metadata": {},
     "output_type": "execute_result"
    }
   ],
   "source": [
    "# check split\n",
    "\n",
    "df.cities[0][0].split(',')"
   ]
  },
  {
   "cell_type": "code",
   "execution_count": 11,
   "metadata": {
    "collapsed": false
   },
   "outputs": [],
   "source": [
    "cities = []\n",
    "\n",
    "for i in df.iloc[:,0]:\n",
    "    for city in i[0].split(', '):\n",
    "        if city not in cities:\n",
    "            cities.append(city)"
   ]
  },
  {
   "cell_type": "code",
   "execution_count": 12,
   "metadata": {
    "collapsed": false,
    "scrolled": true
   },
   "outputs": [
    {
     "name": "stdout",
     "output_type": "stream",
     "text": [
      "87\n"
     ]
    },
    {
     "data": {
      "text/plain": [
       "['San Jose CA',\n",
       " 'Montreal QC',\n",
       " 'New York NY',\n",
       " 'Quebec QC',\n",
       " 'Chicago IL',\n",
       " 'Toronto ON',\n",
       " 'Houston TX',\n",
       " 'Los Angeles CA',\n",
       " 'San Diego CA',\n",
       " 'Santa Ana CA',\n",
       " 'Saint Catharines-Niagara ON',\n",
       " 'Edmonton AB',\n",
       " 'Philadelphia PA',\n",
       " 'Vancouver BC',\n",
       " 'Detroit MI',\n",
       " 'Phoenix AZ',\n",
       " 'Calgary AB',\n",
       " 'Jersey City NJ',\n",
       " 'Newark NJ',\n",
       " 'Columbus OH',\n",
       " 'Portland OR',\n",
       " 'Austin TX',\n",
       " 'Boston MA',\n",
       " 'Buffalo NY',\n",
       " 'Anaheim CA',\n",
       " 'Indianapolis IN',\n",
       " 'OTTAWA ON',\n",
       " 'Riverside CA',\n",
       " 'Long Beach CA',\n",
       " 'Toledo OH',\n",
       " 'San Antonio TX',\n",
       " 'Jacksonville FL',\n",
       " 'Baltimore MD',\n",
       " 'Hamilton ON',\n",
       " 'Seattle WA',\n",
       " 'Victoria BC',\n",
       " 'Corpus Christi TX',\n",
       " 'Miami FL',\n",
       " 'Hialeah FL',\n",
       " 'Saint Petersburg FL',\n",
       " 'Tampa FL',\n",
       " 'Glendale AZ',\n",
       " 'Milwaukee WI',\n",
       " 'Madison WI',\n",
       " 'Dallas TX',\n",
       " 'WASHINGTON DC',\n",
       " 'Stockton CA',\n",
       " 'San Francisco CA',\n",
       " 'Oshawa ON',\n",
       " 'Arlington TX',\n",
       " 'Chandler AZ',\n",
       " 'Louisville KY',\n",
       " 'Plano TX',\n",
       " 'Mesa AZ',\n",
       " 'Kitchener ON',\n",
       " 'Cincinnati OH',\n",
       " 'Chesapeake VA',\n",
       " 'Virginia Beach VA',\n",
       " 'Lexington KY',\n",
       " 'Fort Worth TX',\n",
       " 'Sacramento CA',\n",
       " 'Oakland CA',\n",
       " 'Fresno CA',\n",
       " 'Nashville TN',\n",
       " 'Windsor ON',\n",
       " 'Cleveland OH',\n",
       " 'Pittsburgh PA',\n",
       " 'Oklahoma City OK',\n",
       " 'Bakersfield CA',\n",
       " 'Fort Wayne IN',\n",
       " 'Scottsdale AZ',\n",
       " 'Saint Paul MN',\n",
       " 'Halifax NS',\n",
       " 'Wichita KS',\n",
       " 'Tulsa OK',\n",
       " 'London ON',\n",
       " 'Tucson AZ',\n",
       " 'Norfolk VA',\n",
       " 'Atlanta GA',\n",
       " 'Charlotte NC',\n",
       " 'Raleigh NC',\n",
       " 'Lincoln NE',\n",
       " 'Omaha NE',\n",
       " 'Kansas City MO',\n",
       " 'Birmingham AL',\n",
       " 'Minneapolis MN',\n",
       " 'Memphis TN']"
      ]
     },
     "execution_count": 12,
     "metadata": {},
     "output_type": "execute_result"
    }
   ],
   "source": [
    "print(len(cities))\n",
    "cities"
   ]
  },
  {
   "cell_type": "code",
   "execution_count": 13,
   "metadata": {
    "collapsed": false
   },
   "outputs": [
    {
     "name": "stdout",
     "output_type": "stream",
     "text": [
      "20022\n"
     ]
    },
    {
     "data": {
      "text/plain": [
       "[['San Jose CA', 'Montreal QC'],\n",
       " ['New York NY'],\n",
       " ['Montreal QC', 'Quebec QC'],\n",
       " ['Chicago IL'],\n",
       " ['Toronto ON', 'Houston TX'],\n",
       " ['New York NY'],\n",
       " ['Los Angeles CA'],\n",
       " ['San Diego CA', 'Santa Ana CA'],\n",
       " ['New York NY'],\n",
       " ['Toronto ON', 'Saint Catharines-Niagara ON']]"
      ]
     },
     "execution_count": 13,
     "metadata": {},
     "output_type": "execute_result"
    }
   ],
   "source": [
    "# extract city information\n",
    "\n",
    "cities2 = []\n",
    "\n",
    "for i in df.iloc[:,0]:\n",
    "    cities2.append(i[0].split(', '))\n",
    "    \n",
    "print(len(cities2))\n",
    "cities2[:10]"
   ]
  },
  {
   "cell_type": "code",
   "execution_count": 14,
   "metadata": {
    "collapsed": false
   },
   "outputs": [],
   "source": [
    "from collections import Counter\n",
    "\n",
    "def mostcity(city, cities2):\n",
    "    temp_list = []\n",
    "    for i in cities2:\n",
    "        if city in i:\n",
    "            for j in i:\n",
    "                temp_list.append(j)\n",
    "\n",
    "    dict_temp = dict(Counter(temp_list))\n",
    "    mostlikely = sorted(dict_temp.items(), key=lambda x:x[1], reverse= True)[1][0]\n",
    "    if mostlikely == city:\n",
    "        mostlikely = sorted(dict_temp.items(), key=lambda x:x[1], reverse= True)[0][0]\n",
    "    return mostlikely"
   ]
  },
  {
   "cell_type": "code",
   "execution_count": 15,
   "metadata": {
    "collapsed": false
   },
   "outputs": [
    {
     "name": "stdout",
     "output_type": "stream",
     "text": [
      "San Jose CA :  Oakland CA\n",
      "Montreal QC :  New York NY\n",
      "New York NY :  Jersey City NJ\n",
      "Quebec QC :  Montreal QC\n",
      "Chicago IL :  New York NY\n",
      "Toronto ON :  New York NY\n",
      "Houston TX :  New York NY\n",
      "Los Angeles CA :  New York NY\n",
      "San Diego CA :  Santa Ana CA\n",
      "Santa Ana CA :  Los Angeles CA\n",
      "Saint Catharines-Niagara ON :  Toronto ON\n",
      "Edmonton AB :  Calgary AB\n",
      "Philadelphia PA :  New York NY\n",
      "Vancouver BC :  New York NY\n",
      "Detroit MI :  Windsor ON\n",
      "Phoenix AZ :  Glendale AZ\n",
      "Calgary AB :  Vancouver BC\n",
      "Jersey City NJ :  New York NY\n",
      "Newark NJ :  New York NY\n",
      "Columbus OH :  Cincinnati OH\n",
      "Portland OR :  Vancouver BC\n",
      "Austin TX :  Houston TX\n",
      "Boston MA :  New York NY\n",
      "Buffalo NY :  Toronto ON\n",
      "Anaheim CA :  Los Angeles CA\n",
      "Indianapolis IN :  Chicago IL\n",
      "OTTAWA ON :  Montreal QC\n",
      "Riverside CA :  Los Angeles CA\n",
      "Long Beach CA :  Los Angeles CA\n",
      "Toledo OH :  Detroit MI\n",
      "San Antonio TX :  Houston TX\n",
      "Jacksonville FL :  Tampa FL\n",
      "Baltimore MD :  New York NY\n",
      "Hamilton ON :  Toronto ON\n",
      "Seattle WA :  Vancouver BC\n",
      "Victoria BC :  Vancouver BC\n",
      "Corpus Christi TX :  Houston TX\n",
      "Miami FL :  Jacksonville FL\n",
      "Hialeah FL :  Jacksonville FL\n",
      "Saint Petersburg FL :  Jacksonville FL\n",
      "Tampa FL :  Jacksonville FL\n",
      "Glendale AZ :  Phoenix AZ\n",
      "Milwaukee WI :  Chicago IL\n",
      "Madison WI :  Chicago IL\n",
      "Dallas TX :  Plano TX\n",
      "WASHINGTON DC :  New York NY\n",
      "Stockton CA :  San Jose CA\n",
      "San Francisco CA :  San Jose CA\n",
      "Oshawa ON :  Toronto ON\n",
      "Arlington TX :  Dallas TX\n",
      "Chandler AZ :  Phoenix AZ\n",
      "Louisville KY :  Indianapolis IN\n",
      "Plano TX :  Dallas TX\n",
      "Mesa AZ :  Phoenix AZ\n",
      "Kitchener ON :  Toronto ON\n",
      "Cincinnati OH :  Indianapolis IN\n",
      "Chesapeake VA :  WASHINGTON DC\n",
      "Virginia Beach VA :  Baltimore MD\n",
      "Lexington KY :  Indianapolis IN\n",
      "Fort Worth TX :  Dallas TX\n",
      "Sacramento CA :  San Jose CA\n",
      "Oakland CA :  San Jose CA\n",
      "Fresno CA :  San Jose CA\n",
      "Nashville TN :  Lexington KY\n",
      "Windsor ON :  Detroit MI\n",
      "Cleveland OH :  Detroit MI\n",
      "Pittsburgh PA :  Cleveland OH\n",
      "Oklahoma City OK :  Dallas TX\n",
      "Bakersfield CA :  Los Angeles CA\n",
      "Fort Wayne IN :  Chicago IL\n",
      "Scottsdale AZ :  Phoenix AZ\n",
      "Saint Paul MN :  Madison WI\n",
      "Halifax NS :  Quebec QC\n",
      "Wichita KS :  Oklahoma City OK\n",
      "Tulsa OK :  Oklahoma City OK\n",
      "London ON :  Kitchener ON\n",
      "Tucson AZ :  Phoenix AZ\n",
      "Norfolk VA :  Baltimore MD\n",
      "Atlanta GA :  Jacksonville FL\n",
      "Charlotte NC :  Atlanta GA\n",
      "Raleigh NC :  Atlanta GA\n",
      "Lincoln NE :  Wichita KS\n",
      "Omaha NE :  Chicago IL\n",
      "Kansas City MO :  Dallas TX\n",
      "Birmingham AL :  Jacksonville FL\n",
      "Minneapolis MN :  Madison WI\n",
      "Memphis TN :  Lexington KY\n"
     ]
    }
   ],
   "source": [
    "for city in cities:\n",
    "    print(city,\": \",mostcity(city, cities2))"
   ]
  },
  {
   "cell_type": "code",
   "execution_count": 16,
   "metadata": {
    "collapsed": false
   },
   "outputs": [
    {
     "data": {
      "text/plain": [
       "[('Phoenix AZ', 35),\n",
       " ('Mesa AZ', 35),\n",
       " ('Chandler AZ', 17),\n",
       " ('Scottsdale AZ', 13),\n",
       " ('Glendale AZ', 7),\n",
       " ('Tucson AZ', 3)]"
      ]
     },
     "execution_count": 16,
     "metadata": {},
     "output_type": "execute_result"
    }
   ],
   "source": [
    "# double check:\n",
    "#city = 'Norfolk VA'\n",
    "city = 'Mesa AZ'\n",
    "\n",
    "temp_list = []\n",
    "for i in cities2:\n",
    "    if city in i:\n",
    "        for j in i:\n",
    "            temp_list.append(j)\n",
    "\n",
    "#temp_list\n",
    "dict_temp = dict(Counter(temp_list))\n",
    "sorted(dict_temp.items(), key=lambda x:x[1], reverse= True)"
   ]
  },
  {
   "cell_type": "markdown",
   "metadata": {},
   "source": [
    "## Question III\n",
    "\n",
    "Travel sites are browsed by two kinds of users. Users who are actually planning a trip and users who just dream about a vacation. The first ones have obviously a much higher purchasing intent.\n",
    "\n",
    "Users planning a trip often search for cities close to each other, while users who search for cities far away from each other are often just dreaming about a vacation. That is, a user searching for LA, SF and Las Vegas in the same session is much more likely to book a hotel than a user searching for NY, Paris, Kuala Lumpur (makes sense, right?).\n",
    "\n",
    "Based on this idea, come up with an algorithm that clusters sessions into two groups: high intent and low intent. Explain all assumptions you make along the way."
   ]
  },
  {
   "cell_type": "markdown",
   "metadata": {},
   "source": [
    "Download data from:\n",
    "\n",
    "https://simplemaps.com/data/world-cities"
   ]
  },
  {
   "cell_type": "code",
   "execution_count": 17,
   "metadata": {
    "collapsed": false
   },
   "outputs": [
    {
     "name": "stdout",
     "output_type": "stream",
     "text": [
      "13_Sessionize_User_Activity.ipynb  \u001b[31mworldcities.csv\u001b[m\u001b[m*\r\n",
      "city_searches.json\r\n"
     ]
    }
   ],
   "source": [
    "ls"
   ]
  },
  {
   "cell_type": "code",
   "execution_count": 18,
   "metadata": {
    "collapsed": false
   },
   "outputs": [
    {
     "name": "stdout",
     "output_type": "stream",
     "text": [
      "(15493, 11)\n"
     ]
    },
    {
     "data": {
      "text/html": [
       "<div>\n",
       "<style scoped>\n",
       "    .dataframe tbody tr th:only-of-type {\n",
       "        vertical-align: middle;\n",
       "    }\n",
       "\n",
       "    .dataframe tbody tr th {\n",
       "        vertical-align: top;\n",
       "    }\n",
       "\n",
       "    .dataframe thead th {\n",
       "        text-align: right;\n",
       "    }\n",
       "</style>\n",
       "<table border=\"1\" class=\"dataframe\">\n",
       "  <thead>\n",
       "    <tr style=\"text-align: right;\">\n",
       "      <th></th>\n",
       "      <th>city</th>\n",
       "      <th>city_ascii</th>\n",
       "      <th>lat</th>\n",
       "      <th>lng</th>\n",
       "      <th>country</th>\n",
       "      <th>iso2</th>\n",
       "      <th>iso3</th>\n",
       "      <th>admin_name</th>\n",
       "      <th>capital</th>\n",
       "      <th>population</th>\n",
       "      <th>id</th>\n",
       "    </tr>\n",
       "  </thead>\n",
       "  <tbody>\n",
       "    <tr>\n",
       "      <th>0</th>\n",
       "      <td>Tokyo</td>\n",
       "      <td>Tokyo</td>\n",
       "      <td>35.6850</td>\n",
       "      <td>139.7514</td>\n",
       "      <td>Japan</td>\n",
       "      <td>JP</td>\n",
       "      <td>JPN</td>\n",
       "      <td>Tōkyō</td>\n",
       "      <td>primary</td>\n",
       "      <td>35676000.0</td>\n",
       "      <td>1392685764</td>\n",
       "    </tr>\n",
       "    <tr>\n",
       "      <th>1</th>\n",
       "      <td>New York</td>\n",
       "      <td>New York</td>\n",
       "      <td>40.6943</td>\n",
       "      <td>-73.9249</td>\n",
       "      <td>United States</td>\n",
       "      <td>US</td>\n",
       "      <td>USA</td>\n",
       "      <td>New York</td>\n",
       "      <td>NaN</td>\n",
       "      <td>19354922.0</td>\n",
       "      <td>1840034016</td>\n",
       "    </tr>\n",
       "    <tr>\n",
       "      <th>2</th>\n",
       "      <td>Mexico City</td>\n",
       "      <td>Mexico City</td>\n",
       "      <td>19.4424</td>\n",
       "      <td>-99.1310</td>\n",
       "      <td>Mexico</td>\n",
       "      <td>MX</td>\n",
       "      <td>MEX</td>\n",
       "      <td>Ciudad de México</td>\n",
       "      <td>primary</td>\n",
       "      <td>19028000.0</td>\n",
       "      <td>1484247881</td>\n",
       "    </tr>\n",
       "    <tr>\n",
       "      <th>3</th>\n",
       "      <td>Mumbai</td>\n",
       "      <td>Mumbai</td>\n",
       "      <td>19.0170</td>\n",
       "      <td>72.8570</td>\n",
       "      <td>India</td>\n",
       "      <td>IN</td>\n",
       "      <td>IND</td>\n",
       "      <td>Mahārāshtra</td>\n",
       "      <td>admin</td>\n",
       "      <td>18978000.0</td>\n",
       "      <td>1356226629</td>\n",
       "    </tr>\n",
       "    <tr>\n",
       "      <th>4</th>\n",
       "      <td>São Paulo</td>\n",
       "      <td>Sao Paulo</td>\n",
       "      <td>-23.5587</td>\n",
       "      <td>-46.6250</td>\n",
       "      <td>Brazil</td>\n",
       "      <td>BR</td>\n",
       "      <td>BRA</td>\n",
       "      <td>São Paulo</td>\n",
       "      <td>admin</td>\n",
       "      <td>18845000.0</td>\n",
       "      <td>1076532519</td>\n",
       "    </tr>\n",
       "  </tbody>\n",
       "</table>\n",
       "</div>"
      ],
      "text/plain": [
       "          city   city_ascii      lat       lng        country iso2 iso3  \\\n",
       "0        Tokyo        Tokyo  35.6850  139.7514          Japan   JP  JPN   \n",
       "1     New York     New York  40.6943  -73.9249  United States   US  USA   \n",
       "2  Mexico City  Mexico City  19.4424  -99.1310         Mexico   MX  MEX   \n",
       "3       Mumbai       Mumbai  19.0170   72.8570          India   IN  IND   \n",
       "4    São Paulo    Sao Paulo -23.5587  -46.6250         Brazil   BR  BRA   \n",
       "\n",
       "         admin_name  capital  population          id  \n",
       "0             Tōkyō  primary  35676000.0  1392685764  \n",
       "1          New York      NaN  19354922.0  1840034016  \n",
       "2  Ciudad de México  primary  19028000.0  1484247881  \n",
       "3       Mahārāshtra    admin  18978000.0  1356226629  \n",
       "4         São Paulo    admin  18845000.0  1076532519  "
      ]
     },
     "execution_count": 18,
     "metadata": {},
     "output_type": "execute_result"
    }
   ],
   "source": [
    "# Import city location data\n",
    "\n",
    "df_city = pd.read_csv('worldcities.csv')\n",
    "print(df_city.shape)\n",
    "df_city.head()"
   ]
  },
  {
   "cell_type": "code",
   "execution_count": 19,
   "metadata": {
    "collapsed": false
   },
   "outputs": [
    {
     "name": "stdout",
     "output_type": "stream",
     "text": [
      "fort worth\n"
     ]
    }
   ],
   "source": [
    "city = 'Fort Worth TX'[:-3].lower()\n",
    "for i in df_city.city_ascii:\n",
    "    if i.lower() == city:\n",
    "        print(i.lower())"
   ]
  },
  {
   "cell_type": "code",
   "execution_count": 20,
   "metadata": {
    "collapsed": false
   },
   "outputs": [],
   "source": [
    "city_dict = {}\n",
    "\n",
    "for city in cities:\n",
    "    #print(city[:-3].lower())\n",
    "    for i in range(df_city.shape[0]):\n",
    "        if df_city.city_ascii[i].lower() == city[:-3].lower():\n",
    "            if df_city.iso2[i] in ['FR', 'DE', 'US', 'IT', 'UK', 'ES', 'CA'] and city not in city_dict:\n",
    "                city_dict[city] = [df_city.lat[i], df_city.lng[i]]"
   ]
  },
  {
   "cell_type": "code",
   "execution_count": 21,
   "metadata": {
    "collapsed": false
   },
   "outputs": [
    {
     "data": {
      "text/plain": [
       "{'San Jose CA': [37.3021, -121.8489],\n",
       " 'Montreal QC': [45.5, -73.5833],\n",
       " 'New York NY': [40.6943, -73.9249],\n",
       " 'Quebec QC': [46.84, -71.2456],\n",
       " 'Chicago IL': [41.8373, -87.6862],\n",
       " 'Toronto ON': [43.7, -79.42],\n",
       " 'Houston TX': [29.7869, -95.3905],\n",
       " 'Los Angeles CA': [34.1139, -118.4068],\n",
       " 'San Diego CA': [32.8312, -117.1225],\n",
       " 'Santa Ana CA': [33.7366, -117.8819],\n",
       " 'Edmonton AB': [53.55, -113.5],\n",
       " 'Philadelphia PA': [40.0077, -75.1339],\n",
       " 'Vancouver BC': [49.2734, -123.1216],\n",
       " 'Detroit MI': [42.3834, -83.1024],\n",
       " 'Phoenix AZ': [33.5722, -112.0891],\n",
       " 'Calgary AB': [51.083, -114.08],\n",
       " 'Jersey City NJ': [40.7161, -74.0683],\n",
       " 'Newark NJ': [40.7245, -74.1725],\n",
       " 'Columbus OH': [39.986, -82.9851],\n",
       " 'Portland OR': [45.5371, -122.65],\n",
       " 'Austin TX': [30.3006, -97.7517],\n",
       " 'Boston MA': [42.3188, -71.0846],\n",
       " 'Buffalo NY': [42.9017, -78.8487],\n",
       " 'Anaheim CA': [33.839, -117.8573],\n",
       " 'Indianapolis IN': [39.7771, -86.1458],\n",
       " 'OTTAWA ON': [45.4167, -75.7],\n",
       " 'Riverside CA': [33.9381, -117.3948],\n",
       " 'Long Beach CA': [33.798, -118.1675],\n",
       " 'Toledo OH': [41.6639, -83.5822],\n",
       " 'San Antonio TX': [29.4658, -98.5254],\n",
       " 'Jacksonville FL': [30.3322, -81.6749],\n",
       " 'Baltimore MD': [39.3051, -76.6144],\n",
       " 'Hamilton ON': [43.25, -79.83],\n",
       " 'Seattle WA': [47.6211, -122.3244],\n",
       " 'Victoria BC': [48.4333, -123.35],\n",
       " 'Corpus Christi TX': [27.7261, -97.3755],\n",
       " 'Miami FL': [25.7839, -80.2102],\n",
       " 'Hialeah FL': [25.8696, -80.3046],\n",
       " 'Tampa FL': [27.9942, -82.4451],\n",
       " 'Glendale AZ': [33.5797, -112.2258],\n",
       " 'Milwaukee WI': [43.0642, -87.9673],\n",
       " 'Madison WI': [43.0827, -89.3923],\n",
       " 'Dallas TX': [32.7936, -96.7662],\n",
       " 'WASHINGTON DC': [38.9047, -77.0163],\n",
       " 'Stockton CA': [37.9766, -121.3111],\n",
       " 'San Francisco CA': [37.7562, -122.443],\n",
       " 'Oshawa ON': [43.88, -78.85],\n",
       " 'Arlington TX': [32.6998, -97.1251],\n",
       " 'Chandler AZ': [33.2827, -111.8517],\n",
       " 'Louisville KY': [38.1663, -85.6485],\n",
       " 'Plano TX': [33.0502, -96.7487],\n",
       " 'Mesa AZ': [33.4017, -111.7181],\n",
       " 'Kitchener ON': [43.45, -80.5],\n",
       " 'Cincinnati OH': [39.1412, -84.506],\n",
       " 'Chesapeake VA': [36.6778, -76.3024],\n",
       " 'Virginia Beach VA': [36.7335, -76.0435],\n",
       " 'Lexington KY': [38.0423, -84.4587],\n",
       " 'Fort Worth TX': [32.7812, -97.3472],\n",
       " 'Sacramento CA': [38.5667, -121.4683],\n",
       " 'Oakland CA': [37.7903, -122.2165],\n",
       " 'Fresno CA': [36.7831, -119.7941],\n",
       " 'Nashville TN': [36.1715, -86.7843],\n",
       " 'Windsor ON': [42.3333, -83.0333],\n",
       " 'Cleveland OH': [41.4767, -81.6805],\n",
       " 'Pittsburgh PA': [40.4396, -79.9763],\n",
       " 'Oklahoma City OK': [35.4676, -97.5137],\n",
       " 'Bakersfield CA': [35.353, -119.0359],\n",
       " 'Fort Wayne IN': [41.0885, -85.1436],\n",
       " 'Scottsdale AZ': [33.6872, -111.8651],\n",
       " 'Halifax NS': [44.65, -63.6],\n",
       " 'Wichita KS': [37.6897, -97.3441],\n",
       " 'Tulsa OK': [36.1284, -95.9043],\n",
       " 'London ON': [42.97, -81.25],\n",
       " 'Tucson AZ': [32.1545, -110.8782],\n",
       " 'Norfolk VA': [36.8945, -76.259],\n",
       " 'Atlanta GA': [33.7627, -84.4225],\n",
       " 'Charlotte NC': [35.2079, -80.8304],\n",
       " 'Raleigh NC': [35.8324, -78.6438],\n",
       " 'Lincoln NE': [40.8088, -96.6796],\n",
       " 'Omaha NE': [41.2628, -96.0498],\n",
       " 'Kansas City MO': [39.1239, -94.5541],\n",
       " 'Birmingham AL': [33.5277, -86.7987],\n",
       " 'Minneapolis MN': [44.9635, -93.2678],\n",
       " 'Memphis TN': [35.1046, -89.9773],\n",
       " 'Saint Catharines-Niagara ON': [43.1594, -79.2469],\n",
       " 'Saint Petersburg FL': [27.7676, -82.6403],\n",
       " 'Saint Paul MN': [44.9537, -93.09]}"
      ]
     },
     "execution_count": 21,
     "metadata": {},
     "output_type": "execute_result"
    }
   ],
   "source": [
    "#len(city_dict)\n",
    "city_dict['Saint Catharines-Niagara ON'] = [43.1594,-79.2469]\n",
    "city_dict['Saint Petersburg FL'] = [27.7676, -82.6403]\n",
    "city_dict['Saint Paul MN'] = [44.9537, -93.0900]\n",
    "\n",
    "for city in cities:\n",
    "    if city not in city_dict:\n",
    "        print(city)\n",
    "        \n",
    "city_dict"
   ]
  },
  {
   "cell_type": "code",
   "execution_count": 22,
   "metadata": {
    "collapsed": true
   },
   "outputs": [],
   "source": [
    "# define distance function\n",
    "\n",
    "def distance(city1, city2, city_dict):\n",
    "    lat1 = city_dict[city1][0]\n",
    "    long1 = city_dict[city1][1]\n",
    "    \n",
    "    lat2 = city_dict[city2][0]\n",
    "    long2 = city_dict[city2][1]\n",
    "    \n",
    "    dist = ((lat1-lat2)**2.0 + (long1-long2)**2.0)**0.5\n",
    "    \n",
    "    return dist"
   ]
  },
  {
   "cell_type": "code",
   "execution_count": 23,
   "metadata": {
    "collapsed": false
   },
   "outputs": [
    {
     "data": {
      "text/plain": [
       "2.694520604857198"
      ]
     },
     "execution_count": 23,
     "metadata": {},
     "output_type": "execute_result"
    }
   ],
   "source": [
    "distance('Montreal QC','Quebec QC', city_dict)"
   ]
  },
  {
   "cell_type": "code",
   "execution_count": 24,
   "metadata": {
    "collapsed": false
   },
   "outputs": [],
   "source": [
    "user_dict = {}\n",
    "\n",
    "number = 0\n",
    "\n",
    "for i in range(df.shape[0]):\n",
    "    #print(df.cities[i][0].split(','),len(df.cities[i][0].split(',')))\n",
    "    #print(df.user[i][0][0]['user_id'])\n",
    "    if len(df.cities[i][0].split(',')) > 1:\n",
    "        city1 = df.cities[i][0].split(', ')[0]\n",
    "        city2 = df.cities[i][0].split(', ')[1]\n",
    "        #print(city1,city2)\n",
    "        #print(city1,city2,distance(city1,city2,city_dict))\n",
    "        if df.user[i][0][0]['user_id'] not in user_dict:\n",
    "            user_dict[df.user[i][0][0]['user_id']] = [distance(city1,city2,city_dict)]\n",
    "        else:\n",
    "            user_dict[df.user[i][0][0]['user_id']].append(distance(city1,city2,city_dict))"
   ]
  },
  {
   "cell_type": "code",
   "execution_count": 25,
   "metadata": {
    "collapsed": false
   },
   "outputs": [
    {
     "name": "stdout",
     "output_type": "stream",
     "text": [
      "5749 [48.95685557478136]\n",
      "2941 [2.694520604857198, 0.5676371816574448]\n",
      "10493 [21.18091645467684, 3.52414473170442]\n",
      "8056 [1.1817095751494948, 8.47347117361002, 26.878532018136713, 0.8705943774226873]\n",
      "9705 [0.5676371816574448, 0.6464327497891804, 1.3903598670847794]\n",
      "466 [30.783203129304137, 1.108557621416224]\n",
      "8469 [6.263414124900262]\n",
      "8127 [15.875760746811475]\n",
      "115 [40.607985281715216, 3.27204895134532, 48.04390488750889]\n",
      "9381 [6.340881025535807]\n",
      "9059 [0.14504757840101945]\n",
      "6497 [1.1992048198702314, 0.3963045546041573, 39.23785569689047]\n",
      "808 [44.965999285793714]\n",
      "5091 [0.5676371816574448, 0.6144267735052007, 6.263414124900262]\n",
      "4700 [6.263414124900262, 40.310904808500645]\n",
      "535 [49.93912541985493, 40.148024701721006]\n",
      "9664 [48.04390488750889, 0.2494349614629088]\n",
      "5165 [3.910691156304728]\n",
      "7948 [44.965999285793714]\n",
      "3669 [3.765945332848048, 0.5676371816574448, 31.676587125509595]\n",
      "1204 [49.68180466176727]\n",
      "10647 [33.89303157671205, 1.8151434598951126]\n",
      "10972 [22.68908539804988]\n",
      "10340 [36.207225195670546, 1.1382015331214435]\n",
      "3435 [49.93912541985493, 46.247047748586084]\n",
      "9728 [6.263414124900262]\n",
      "6082 [2.4164339697165294]\n",
      "2165 [4.04518666194775]\n",
      "3714 [0.9816652076955853, 0.6144267735052007, 6.107951120465853, 3.27204895134532, 31.580279799267135]\n",
      "7752 [1.1817095751494948]\n",
      "9817 [2.5342630092395684, 0.2494349614629088]\n",
      "6343 [1.1817095751494948, 5.045001662041355]\n",
      "6711 [14.302740249686423, 2.1122969417200865, 40.148024701721006]\n",
      "3481 [2.5724028067159357]\n",
      "10323 [48.8740477941003, 2.8613146698676815]\n",
      "5797 [43.6724255434708]\n",
      "7565 [0.14504757840101945]\n",
      "1384 [0.6144267735052007, 46.247047748586084, 5.052489772379552]\n",
      "9163 [0.8648053480408193, 0.37095505118545424, 0.14504757840101945]\n",
      "1203 [26.878532018136713, 46.247047748586084]\n",
      "10713 [1.3903598670847794]\n",
      "102 [49.68180466176727, 45.34490522737919]\n",
      "5147 [2.4164339697165294, 1.8151434598951126]\n",
      "5868 [15.875760746811475, 0.8705943774226873]\n",
      "1292 [3.027092150893335]\n",
      "4343 [0.6087692502089768, 2.1183384479350877, 1.1817095751494948, 49.93912541985493]\n",
      "6566 [44.965999285793714]\n",
      "3761 [2.5342630092395684, 0.14504757840101945]\n",
      "4528 [44.965999285793714, 46.247047748586084]\n",
      "5575 [9.220910080897657]\n",
      "896 [49.93912541985493]\n"
     ]
    }
   ],
   "source": [
    "cluster_list = []\n",
    "number = 0\n",
    "\n",
    "for i,j in user_dict.items():\n",
    "    for j1 in j:\n",
    "        cluster_list.append(j1)\n",
    "        \n",
    "    if number <=50:\n",
    "        print(i, j)\n",
    "    \n",
    "    number += 1"
   ]
  },
  {
   "cell_type": "code",
   "execution_count": 26,
   "metadata": {
    "collapsed": false
   },
   "outputs": [
    {
     "data": {
      "text/plain": [
       "<matplotlib.axes._subplots.AxesSubplot at 0x12685c978>"
      ]
     },
     "execution_count": 26,
     "metadata": {},
     "output_type": "execute_result"
    },
    {
     "data": {
      "image/png": "[encoded data removed]",
      "text/plain": [
       "<Figure size 432x288 with 1 Axes>"
      ]
     },
     "metadata": {
      "needs_background": "light"
     },
     "output_type": "display_data"
    }
   ],
   "source": [
    "sns.distplot(cluster_list)"
   ]
  },
  {
   "cell_type": "markdown",
   "metadata": {},
   "source": [
    "### Gaussian Mixture Model"
   ]
  },
  {
   "cell_type": "code",
   "execution_count": 27,
   "metadata": {
    "collapsed": false
   },
   "outputs": [],
   "source": [
    "from sklearn.mixture import GaussianMixture\n",
    "\n",
    "dataset = np.array(cluster_list).reshape(-1,1)\n",
    "gmm = GaussianMixture(n_components=2).fit(dataset).predict(dataset)"
   ]
  },
  {
   "cell_type": "code",
   "execution_count": 28,
   "metadata": {
    "collapsed": false
   },
   "outputs": [
    {
     "data": {
      "image/png": "[encoded data removed]",
      "text/plain": [
       "<Figure size 864x432 with 1 Axes>"
      ]
     },
     "metadata": {
      "needs_background": "light"
     },
     "output_type": "display_data"
    }
   ],
   "source": [
    "hist_kws={'histtype': 'bar', 'edgecolor':'black', 'alpha': 0.2}\n",
    "fig, ax = plt.subplots(figsize=(12, 6))\n",
    "\n",
    "\n",
    "sns.distplot(dataset[gmm==0], hist_kws=hist_kws, ax=ax)\n",
    "sns.distplot(dataset[gmm==1], hist_kws=hist_kws, ax=ax)\n",
    "plt.show()"
   ]
  },
  {
   "cell_type": "code",
   "execution_count": 29,
   "metadata": {
    "collapsed": false
   },
   "outputs": [],
   "source": [
    "group0 = np.array(cluster_list)[gmm==0]\n",
    "group1 = np.array(cluster_list)[gmm==1]"
   ]
  },
  {
   "cell_type": "code",
   "execution_count": 30,
   "metadata": {
    "collapsed": false
   },
   "outputs": [
    {
     "name": "stdout",
     "output_type": "stream",
     "text": [
      "user_id:  5749  group:  [1]\n",
      "user_id:  2941  group:  [0, 0]\n",
      "user_id:  10493  group:  [1, 0]\n",
      "user_id:  8056  group:  [0, 1, 1, 0]\n",
      "user_id:  9705  group:  [0, 0, 0]\n",
      "user_id:  466  group:  [1, 0]\n",
      "user_id:  8469  group:  [0]\n",
      "user_id:  8127  group:  [1]\n",
      "user_id:  115  group:  [1, 0, 1]\n",
      "user_id:  9381  group:  [0]\n",
      "user_id:  9059  group:  [0]\n",
      "user_id:  6497  group:  [0, 0, 1]\n",
      "user_id:  808  group:  [1]\n",
      "user_id:  5091  group:  [0, 0, 0]\n",
      "user_id:  4700  group:  [0, 1]\n",
      "user_id:  535  group:  [1, 1]\n",
      "user_id:  9664  group:  [1, 0]\n",
      "user_id:  5165  group:  [0]\n",
      "user_id:  7948  group:  [1]\n",
      "user_id:  3669  group:  [0, 0, 1]\n",
      "user_id:  1204  group:  [1]\n",
      "user_id:  10647  group:  [1, 0]\n",
      "user_id:  10972  group:  [1]\n",
      "user_id:  10340  group:  [1, 0]\n",
      "user_id:  3435  group:  [1, 1]\n",
      "user_id:  9728  group:  [0]\n",
      "user_id:  6082  group:  [0]\n",
      "user_id:  2165  group:  [0]\n",
      "user_id:  3714  group:  [0, 0, 0, 0, 1]\n",
      "user_id:  7752  group:  [0]\n",
      "user_id:  9817  group:  [0, 0]\n",
      "user_id:  6343  group:  [0, 0]\n",
      "user_id:  6711  group:  [1, 0, 1]\n",
      "user_id:  3481  group:  [0]\n",
      "user_id:  10323  group:  [1, 0]\n",
      "user_id:  5797  group:  [1]\n",
      "user_id:  7565  group:  [0]\n",
      "user_id:  1384  group:  [0, 1, 0]\n",
      "user_id:  9163  group:  [0, 0, 0]\n",
      "user_id:  1203  group:  [1, 1]\n",
      "user_id:  10713  group:  [0]\n",
      "user_id:  102  group:  [1, 1]\n",
      "user_id:  5147  group:  [0, 0]\n",
      "user_id:  5868  group:  [1, 0]\n",
      "user_id:  1292  group:  [0]\n",
      "user_id:  4343  group:  [0, 0, 0, 1]\n",
      "user_id:  6566  group:  [1]\n",
      "user_id:  3761  group:  [0, 0]\n",
      "user_id:  4528  group:  [1, 1]\n",
      "user_id:  5575  group:  [1]\n",
      "user_id:  896  group:  [1]\n"
     ]
    }
   ],
   "source": [
    "user_group_dict= {}\n",
    "number = 0\n",
    "for i,j in user_dict.items():\n",
    "    if i not in user_group_dict:\n",
    "        user_group_dict[i] = []\n",
    "        \n",
    "    for j1 in j:\n",
    "        if j1 in group0:\n",
    "            user_group_dict[i].append(0)\n",
    "        elif j1 in group1:\n",
    "            user_group_dict[i].append(1)\n",
    "            \n",
    "    if number <=50:\n",
    "        print(\"user_id: \",i,\" group: \",user_group_dict[i])\n",
    "    number +=1"
   ]
  },
  {
   "cell_type": "markdown",
   "metadata": {},
   "source": [
    "### KMeans Model"
   ]
  },
  {
   "cell_type": "code",
   "execution_count": 31,
   "metadata": {
    "collapsed": false
   },
   "outputs": [],
   "source": [
    "from sklearn.cluster import KMeans\n",
    "\n",
    "kmeans = KMeans(n_clusters=2, random_state=0).fit(dataset).predict(dataset)"
   ]
  },
  {
   "cell_type": "code",
   "execution_count": 32,
   "metadata": {
    "collapsed": false
   },
   "outputs": [
    {
     "data": {
      "image/png": "[encoded data removed]",
      "text/plain": [
       "<Figure size 864x432 with 1 Axes>"
      ]
     },
     "metadata": {
      "needs_background": "light"
     },
     "output_type": "display_data"
    }
   ],
   "source": [
    "hist_kws={'histtype': 'bar', 'edgecolor':'black', 'alpha': 0.2}\n",
    "fig, ax = plt.subplots(figsize=(12, 6))\n",
    "\n",
    "\n",
    "sns.distplot(dataset[kmeans==0], hist_kws=hist_kws, ax=ax)\n",
    "sns.distplot(dataset[kmeans==1], hist_kws=hist_kws, ax=ax)\n",
    "plt.show()"
   ]
  },
  {
   "cell_type": "code",
   "execution_count": 33,
   "metadata": {
    "collapsed": true
   },
   "outputs": [],
   "source": [
    "group0 = np.array(cluster_list)[kmeans==0]\n",
    "group1 = np.array(cluster_list)[kmeans==1]"
   ]
  },
  {
   "cell_type": "code",
   "execution_count": 34,
   "metadata": {
    "collapsed": false
   },
   "outputs": [
    {
     "name": "stdout",
     "output_type": "stream",
     "text": [
      "user_id:  5749  group:  [1]\n",
      "user_id:  2941  group:  [0, 0]\n",
      "user_id:  10493  group:  [1, 0]\n",
      "user_id:  8056  group:  [0, 0, 1, 0]\n",
      "user_id:  9705  group:  [0, 0, 0]\n",
      "user_id:  466  group:  [1, 0]\n",
      "user_id:  8469  group:  [0]\n",
      "user_id:  8127  group:  [0]\n",
      "user_id:  115  group:  [1, 0, 1]\n",
      "user_id:  9381  group:  [0]\n",
      "user_id:  9059  group:  [0]\n",
      "user_id:  6497  group:  [0, 0, 1]\n",
      "user_id:  808  group:  [1]\n",
      "user_id:  5091  group:  [0, 0, 0]\n",
      "user_id:  4700  group:  [0, 1]\n",
      "user_id:  535  group:  [1, 1]\n",
      "user_id:  9664  group:  [1, 0]\n",
      "user_id:  5165  group:  [0]\n",
      "user_id:  7948  group:  [1]\n",
      "user_id:  3669  group:  [0, 0, 1]\n",
      "user_id:  1204  group:  [1]\n",
      "user_id:  10647  group:  [1, 0]\n",
      "user_id:  10972  group:  [1]\n",
      "user_id:  10340  group:  [1, 0]\n",
      "user_id:  3435  group:  [1, 1]\n",
      "user_id:  9728  group:  [0]\n",
      "user_id:  6082  group:  [0]\n",
      "user_id:  2165  group:  [0]\n",
      "user_id:  3714  group:  [0, 0, 0, 0, 1]\n",
      "user_id:  7752  group:  [0]\n",
      "user_id:  9817  group:  [0, 0]\n",
      "user_id:  6343  group:  [0, 0]\n",
      "user_id:  6711  group:  [0, 0, 1]\n",
      "user_id:  3481  group:  [0]\n",
      "user_id:  10323  group:  [1, 0]\n",
      "user_id:  5797  group:  [1]\n",
      "user_id:  7565  group:  [0]\n",
      "user_id:  1384  group:  [0, 1, 0]\n",
      "user_id:  9163  group:  [0, 0, 0]\n",
      "user_id:  1203  group:  [1, 1]\n",
      "user_id:  10713  group:  [0]\n",
      "user_id:  102  group:  [1, 1]\n",
      "user_id:  5147  group:  [0, 0]\n",
      "user_id:  5868  group:  [0, 0]\n",
      "user_id:  1292  group:  [0]\n",
      "user_id:  4343  group:  [0, 0, 0, 1]\n",
      "user_id:  6566  group:  [1]\n",
      "user_id:  3761  group:  [0, 0]\n",
      "user_id:  4528  group:  [1, 1]\n",
      "user_id:  5575  group:  [0]\n",
      "user_id:  896  group:  [1]\n"
     ]
    }
   ],
   "source": [
    "user_group_dict= {}\n",
    "number = 0\n",
    "for i,j in user_dict.items():\n",
    "    if i not in user_group_dict:\n",
    "        user_group_dict[i] = []\n",
    "        \n",
    "    for j1 in j:\n",
    "        if j1 in group0:\n",
    "            user_group_dict[i].append(0)\n",
    "        elif j1 in group1:\n",
    "            user_group_dict[i].append(1)\n",
    "            \n",
    "    if number <=50:\n",
    "        print(\"user_id: \",i,\" group: \",user_group_dict[i])\n",
    "    number +=1"
   ]
  },
  {
   "cell_type": "code",
   "execution_count": null,
   "metadata": {
    "collapsed": true
   },
   "outputs": [],
   "source": []
  }
 ],
 "metadata": {
  "kernelspec": {
   "display_name": "Python 3",
   "language": "python",
   "name": "python3"
  },
  "language_info": {
   "codemirror_mode": {
    "name": "ipython",
    "version": 3
   },
   "file_extension": ".py",
   "mimetype": "text/x-python",
   "name": "python",
   "nbconvert_exporter": "python",
   "pygments_lexer": "ipython3",
   "version": "3.7.3"
  }
 },
 "nbformat": 4,
 "nbformat_minor": 0
}
